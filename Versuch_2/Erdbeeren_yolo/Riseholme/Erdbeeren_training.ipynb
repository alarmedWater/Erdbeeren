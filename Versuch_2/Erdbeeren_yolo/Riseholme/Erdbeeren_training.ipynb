{
 "cells": [
  {
   "cell_type": "code",
   "execution_count": 2,
   "id": "81c2cad1",
   "metadata": {},
   "outputs": [
    {
     "name": "stdout",
     "output_type": "stream",
     "text": [
      "✅ Projekt-Root gefunden: c:\\Users\\Maxi\\Documents\\Forschsem\\Erdbeeren\\Riseholme-2021\n",
      "✅ 462 Labels erstellt in c:\\Users\\Maxi\\Documents\\Forschsem\\Erdbeeren\\Riseholme-2021\\labels\\Ripe\n"
     ]
    }
   ],
   "source": [
    "from pathlib import Path\n",
    "\n",
    "def find_project_root(name_substring: str = \"riseholme\",\n",
    "                      required_subpath: Path = Path(\"Data\") / \"Normal\" / \"Ripe\",\n",
    "                      start: Path = Path.cwd()) -> Path:\n",
    "    \"\"\"\n",
    "    Durchläuft start und alle Eltern:\n",
    "      1. Prüft, ob das aktuelle Verzeichnis selbst passt (Name + required_subpath).\n",
    "      2. Prüft alle direkten Unterverzeichnisse (Geschwister), ob dort\n",
    "         name_substring im Namen ist und required_subpath existiert.\n",
    "    Gibt das gefundene Verzeichnis (Path) zurück oder wirft FileNotFoundError.\n",
    "    \"\"\"\n",
    "    for p in [start] + list(start.parents):\n",
    "        # 1) Ist p selbst unser Projekt-Root?\n",
    "        if name_substring.lower() in p.name.lower() and (p / required_subpath).is_dir():\n",
    "            return p\n",
    "\n",
    "        # 2) Sonst durchsuche alle Unterordner von p nach unserem Projekt-Root\n",
    "        for child in p.iterdir():\n",
    "            if (child.is_dir()\n",
    "                and name_substring.lower() in child.name.lower()\n",
    "                and (child / required_subpath).is_dir()):\n",
    "                return child\n",
    "\n",
    "    raise FileNotFoundError(f\"Kein Verzeichnis gefunden, das '{required_subpath}' enthält \"\n",
    "                            f\"und '{name_substring}' im Namen trägt (Beginn: {start})\")\n",
    "\n",
    "# Verwende die neue Funktion\n",
    "BASE_DIR = find_project_root()\n",
    "print(f\"✅ Projekt-Root gefunden: {BASE_DIR}\")\n",
    "\n",
    "# Jetzt kannst du weitermachen:\n",
    "image_dir = BASE_DIR / 'Data' / 'Normal' / 'Ripe'\n",
    "label_dir = BASE_DIR / 'labels' / 'Ripe'\n",
    "label_dir.mkdir(parents=True, exist_ok=True)\n",
    "\n",
    "class_id = 0  # Klasse 0 = \"ripe\"\n",
    "count = 0\n",
    "\n",
    "for img_path in image_dir.iterdir():\n",
    "    if img_path.suffix.lower() in {'.jpg', '.jpeg', '.png'}:\n",
    "        txt_path = label_dir / f\"{img_path.stem}.txt\"\n",
    "        with open(txt_path, 'w') as f:\n",
    "            f.write(f\"{class_id} 0.5 0.5 1.0 1.0\\n\")\n",
    "        count += 1\n",
    "\n",
    "print(f\"✅ {count} Labels erstellt in {label_dir}\")\n"
   ]
  },
  {
   "cell_type": "markdown",
   "id": "b1bdf983",
   "metadata": {},
   "source": [
    "datensatz splitten"
   ]
  },
  {
   "cell_type": "code",
   "execution_count": null,
   "id": "afa8b068",
   "metadata": {},
   "outputs": [],
   "source": [
    "from pathlib import Path\n",
    "from sklearn.model_selection import train_test_split\n",
    "import shutil\n",
    "\n",
    "BASE_DIR    = Path().resolve()                           # …/Riseholme-2021\n",
    "IMG_SRC     = BASE_DIR / 'Data' / 'Normal' / 'Ripe'      # deine Original-Bilder\n",
    "LBL_SRC     = BASE_DIR / 'labels' / 'Ripe'               # deine erzeugten .txt\n",
    "\n",
    "# Zielordner für YOLO\n",
    "IMG_TRAIN   = BASE_DIR / 'images' / 'train'\n",
    "IMG_VAL     = BASE_DIR / 'images' / 'val'\n",
    "LBL_TRAIN   = BASE_DIR / 'labels' / 'train'\n",
    "LBL_VAL     = BASE_DIR / 'labels' / 'val'\n",
    "\n",
    "# Ordner anlegen\n",
    "for d in (IMG_TRAIN, IMG_VAL, LBL_TRAIN, LBL_VAL):\n",
    "    d.mkdir(parents=True, exist_ok=True)\n",
    "\n",
    "# Dateinamen (Stem) sammeln und splitten\n",
    "files = [f.stem for f in IMG_SRC.iterdir() if f.suffix.lower() in {'.png','.jpg'}]\n",
    "train, val = train_test_split(files, test_size=0.2, random_state=42)\n",
    "\n",
    "# Kopieren\n",
    "for f in train:\n",
    "    shutil.copy(IMG_SRC/ f\"{f}.png\", IMG_TRAIN/ f\"{f}.png\")\n",
    "    shutil.copy(LBL_SRC/ f\"{f}.txt\", LBL_TRAIN/ f\"{f}.txt\")\n",
    "for f in val:\n",
    "    shutil.copy(IMG_SRC/ f\"{f}.png\", IMG_VAL/ f\"{f}.png\")\n",
    "    shutil.copy(LBL_SRC/ f\"{f}.txt\", LBL_VAL/ f\"{f}.txt\")\n",
    "\n",
    "print(f\"Train: {len(train)} | Val: {len(val)}\")\n"
   ]
  },
  {
   "cell_type": "code",
   "execution_count": null,
   "id": "33094272",
   "metadata": {},
   "outputs": [],
   "source": [
    "from ultralytics import YOLO\n",
    "model = YOLO('yolov8n.pt')             # oder yolov8s.pt, -m.pt etc.\n",
    "model.train(\n",
    "    data='data.yaml',                  # deine Konfig\n",
    "    epochs=50,                         # je nach Bedarf\n",
    "    imgsz=640,\n",
    "    batch=16,\n",
    "    augment=True,\n",
    "    project='runs/train',              # Ausgabeordner\n",
    "    name='ripe_only'                   # Lauf-Name\n",
    ")\n"
   ]
  },
  {
   "cell_type": "code",
   "execution_count": null,
   "id": "36a836e0",
   "metadata": {},
   "outputs": [],
   "source": []
  }
 ],
 "metadata": {
  "kernelspec": {
   "display_name": "Erdbeerenv",
   "language": "python",
   "name": "python3"
  },
  "language_info": {
   "codemirror_mode": {
    "name": "ipython",
    "version": 3
   },
   "file_extension": ".py",
   "mimetype": "text/x-python",
   "name": "python",
   "nbconvert_exporter": "python",
   "pygments_lexer": "ipython3",
   "version": "3.13.3"
  }
 },
 "nbformat": 4,
 "nbformat_minor": 5
}
