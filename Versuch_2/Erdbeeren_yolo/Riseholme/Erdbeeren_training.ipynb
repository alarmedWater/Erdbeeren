{
 "cells": [
  {
   "cell_type": "code",
   "execution_count": null,
   "id": "81c2cad1",
   "metadata": {},
   "outputs": [],
   "source": [
    "from pathlib import Path\n",
    "\n",
    "def find_project_root(name_substring: str = \"riseholme\",\n",
    "                      required_subpath: Path = Path(\"Data\") / \"Normal\" / \"Ripe\",\n",
    "                      start: Path = Path.cwd()) -> Path:\n",
    "    \"\"\"\n",
    "    Durchläuft start und alle Eltern:\n",
    "      1. Prüft, ob das aktuelle Verzeichnis selbst passt (Name + required_subpath).\n",
    "      2. Prüft alle direkten Unterverzeichnisse (Geschwister), ob dort\n",
    "         name_substring im Namen ist und required_subpath existiert.\n",
    "    Gibt das gefundene Verzeichnis (Path) zurück oder wirft FileNotFoundError.\n",
    "    \"\"\"\n",
    "    for p in [start] + list(start.parents):\n",
    "        # 1) Ist p selbst unser Projekt-Root?\n",
    "        if name_substring.lower() in p.name.lower() and (p / required_subpath).is_dir():\n",
    "            return p\n",
    "\n",
    "        # 2) Sonst durchsuche alle Unterordner von p nach unserem Projekt-Root\n",
    "        for child in p.iterdir():\n",
    "            if (child.is_dir()\n",
    "                and name_substring.lower() in child.name.lower()\n",
    "                and (child / required_subpath).is_dir()):\n",
    "                return child\n",
    "\n",
    "    raise FileNotFoundError(f\"Kein Verzeichnis gefunden, das '{required_subpath}' enthält \"\n",
    "                            f\"und '{name_substring}' im Namen trägt (Beginn: {start})\")\n",
    "\n",
    "# Verwende die neue Funktion\n",
    "BASE_DIR = find_project_root()\n",
    "print(f\"✅ Projekt-Root gefunden: {BASE_DIR}\")\n",
    "\n",
    "# Jetzt kannst du weitermachen:\n",
    "image_dir = BASE_DIR / 'Data' / 'Normal' / 'Ripe'\n",
    "label_dir = BASE_DIR / 'labels' / 'Ripe'\n",
    "label_dir.mkdir(parents=True, exist_ok=True)\n",
    "\n",
    "class_id = 0  # Klasse 0 = \"ripe\"\n",
    "count = 0\n",
    "\n",
    "for img_path in image_dir.iterdir():\n",
    "    if img_path.suffix.lower() in {'.jpg', '.jpeg', '.png'}:\n",
    "        txt_path = label_dir / f\"{img_path.stem}.txt\"\n",
    "        with open(txt_path, 'w') as f:\n",
    "            f.write(f\"{class_id} 0.5 0.5 1.0 1.0\\n\")\n",
    "        count += 1\n",
    "\n",
    "print(f\"✅ {count} Labels erstellt in {label_dir}\")\n"
   ]
  },
  {
   "cell_type": "markdown",
   "id": "b1bdf983",
   "metadata": {},
   "source": [
    "datensatz splitten"
   ]
  },
  {
   "cell_type": "code",
   "execution_count": 5,
   "id": "afa8b068",
   "metadata": {},
   "outputs": [
    {
     "name": "stdout",
     "output_type": "stream",
     "text": [
      "Collecting scikit-learn\n",
      "  Downloading scikit_learn-1.6.1-cp313-cp313-win_amd64.whl.metadata (15 kB)\n",
      "Collecting numpy>=1.19.5 (from scikit-learn)\n",
      "  Downloading numpy-2.2.5-cp313-cp313-win_amd64.whl.metadata (60 kB)\n",
      "Collecting scipy>=1.6.0 (from scikit-learn)\n",
      "  Downloading scipy-1.15.2-cp313-cp313-win_amd64.whl.metadata (60 kB)\n",
      "Collecting joblib>=1.2.0 (from scikit-learn)\n",
      "  Downloading joblib-1.4.2-py3-none-any.whl.metadata (5.4 kB)\n",
      "Collecting threadpoolctl>=3.1.0 (from scikit-learn)\n",
      "  Downloading threadpoolctl-3.6.0-py3-none-any.whl.metadata (13 kB)\n",
      "Downloading scikit_learn-1.6.1-cp313-cp313-win_amd64.whl (11.1 MB)\n",
      "   ---------------------------------------- 0.0/11.1 MB ? eta -:--:--\n",
      "   ---- ----------------------------------- 1.3/11.1 MB 7.4 MB/s eta 0:00:02\n",
      "   ---------- ----------------------------- 2.9/11.1 MB 7.3 MB/s eta 0:00:02\n",
      "   ---------------- ----------------------- 4.5/11.1 MB 7.3 MB/s eta 0:00:01\n",
      "   --------------------- ------------------ 6.0/11.1 MB 7.3 MB/s eta 0:00:01\n",
      "   ------------------------- -------------- 7.1/11.1 MB 6.9 MB/s eta 0:00:01\n",
      "   --------------------------------- ------ 9.2/11.1 MB 7.3 MB/s eta 0:00:01\n",
      "   -------------------------------------- - 10.7/11.1 MB 7.3 MB/s eta 0:00:01\n",
      "   ---------------------------------------- 11.1/11.1 MB 6.8 MB/s eta 0:00:00\n",
      "Downloading joblib-1.4.2-py3-none-any.whl (301 kB)\n",
      "Downloading numpy-2.2.5-cp313-cp313-win_amd64.whl (12.6 MB)\n",
      "   ---------------------------------------- 0.0/12.6 MB ? eta -:--:--\n",
      "   ---- ----------------------------------- 1.6/12.6 MB 7.4 MB/s eta 0:00:02\n",
      "   --------- ------------------------------ 2.9/12.6 MB 7.3 MB/s eta 0:00:02\n",
      "   -------------- ------------------------- 4.5/12.6 MB 7.3 MB/s eta 0:00:02\n",
      "   ------------------- -------------------- 6.0/12.6 MB 7.3 MB/s eta 0:00:01\n",
      "   ------------------------ --------------- 7.6/12.6 MB 7.3 MB/s eta 0:00:01\n",
      "   ----------------------------- ---------- 9.2/12.6 MB 7.2 MB/s eta 0:00:01\n",
      "   ---------------------------------- ----- 10.7/12.6 MB 7.3 MB/s eta 0:00:01\n",
      "   -------------------------------------- - 12.3/12.6 MB 7.3 MB/s eta 0:00:01\n",
      "   ---------------------------------------- 12.6/12.6 MB 7.0 MB/s eta 0:00:00\n",
      "Downloading scipy-1.15.2-cp313-cp313-win_amd64.whl (41.0 MB)\n",
      "   ---------------------------------------- 0.0/41.0 MB ? eta -:--:--\n",
      "   - -------------------------------------- 1.3/41.0 MB 7.4 MB/s eta 0:00:06\n",
      "   -- ------------------------------------- 2.9/41.0 MB 7.3 MB/s eta 0:00:06\n",
      "   ---- ----------------------------------- 4.5/41.0 MB 7.3 MB/s eta 0:00:06\n",
      "   ----- ---------------------------------- 6.0/41.0 MB 7.2 MB/s eta 0:00:05\n",
      "   ------- -------------------------------- 7.6/41.0 MB 7.3 MB/s eta 0:00:05\n",
      "   -------- ------------------------------- 9.2/41.0 MB 7.3 MB/s eta 0:00:05\n",
      "   ---------- ----------------------------- 10.7/41.0 MB 7.3 MB/s eta 0:00:05\n",
      "   ------------ --------------------------- 12.3/41.0 MB 7.3 MB/s eta 0:00:04\n",
      "   ------------- -------------------------- 13.6/41.0 MB 7.3 MB/s eta 0:00:04\n",
      "   -------------- ------------------------- 15.2/41.0 MB 7.3 MB/s eta 0:00:04\n",
      "   ---------------- ----------------------- 16.8/41.0 MB 7.2 MB/s eta 0:00:04\n",
      "   ----------------- ---------------------- 18.4/41.0 MB 7.3 MB/s eta 0:00:04\n",
      "   ------------------- -------------------- 19.9/41.0 MB 7.2 MB/s eta 0:00:03\n",
      "   -------------------- ------------------- 21.5/41.0 MB 7.2 MB/s eta 0:00:03\n",
      "   ---------------------- ----------------- 23.1/41.0 MB 7.2 MB/s eta 0:00:03\n",
      "   ----------------------- ---------------- 24.4/41.0 MB 7.2 MB/s eta 0:00:03\n",
      "   ------------------------- -------------- 26.0/41.0 MB 7.2 MB/s eta 0:00:03\n",
      "   -------------------------- ------------- 27.5/41.0 MB 7.2 MB/s eta 0:00:02\n",
      "   ---------------------------- ----------- 29.1/41.0 MB 7.2 MB/s eta 0:00:02\n",
      "   ----------------------------- ---------- 30.7/41.0 MB 7.2 MB/s eta 0:00:02\n",
      "   ------------------------------- -------- 32.2/41.0 MB 7.2 MB/s eta 0:00:02\n",
      "   --------------------------------- ------ 33.8/41.0 MB 7.2 MB/s eta 0:00:01\n",
      "   ---------------------------------- ----- 35.4/41.0 MB 7.2 MB/s eta 0:00:01\n",
      "   ------------------------------------ --- 37.0/41.0 MB 7.2 MB/s eta 0:00:01\n",
      "   ------------------------------------- -- 38.3/41.0 MB 7.2 MB/s eta 0:00:01\n",
      "   -------------------------------------- - 39.8/41.0 MB 7.2 MB/s eta 0:00:01\n",
      "   ---------------------------------------  40.9/41.0 MB 7.2 MB/s eta 0:00:01\n",
      "   ---------------------------------------- 41.0/41.0 MB 7.0 MB/s eta 0:00:00\n",
      "Downloading threadpoolctl-3.6.0-py3-none-any.whl (18 kB)\n",
      "Installing collected packages: threadpoolctl, numpy, joblib, scipy, scikit-learn\n",
      "\n",
      "   -------- ------------------------------- 1/5 [numpy]\n",
      "   -------- ------------------------------- 1/5 [numpy]\n",
      "   -------- ------------------------------- 1/5 [numpy]\n",
      "   -------- ------------------------------- 1/5 [numpy]\n",
      "   -------- ------------------------------- 1/5 [numpy]\n",
      "   -------- ------------------------------- 1/5 [numpy]\n",
      "   -------- ------------------------------- 1/5 [numpy]\n",
      "   -------- ------------------------------- 1/5 [numpy]\n",
      "   -------- ------------------------------- 1/5 [numpy]\n",
      "   -------- ------------------------------- 1/5 [numpy]\n",
      "   -------- ------------------------------- 1/5 [numpy]\n",
      "   -------- ------------------------------- 1/5 [numpy]\n",
      "   -------- ------------------------------- 1/5 [numpy]\n",
      "   -------- ------------------------------- 1/5 [numpy]\n",
      "   -------- ------------------------------- 1/5 [numpy]\n",
      "   -------- ------------------------------- 1/5 [numpy]\n",
      "   -------- ------------------------------- 1/5 [numpy]\n",
      "   -------- ------------------------------- 1/5 [numpy]\n",
      "   -------- ------------------------------- 1/5 [numpy]\n",
      "   -------- ------------------------------- 1/5 [numpy]\n",
      "   -------- ------------------------------- 1/5 [numpy]\n",
      "   -------- ------------------------------- 1/5 [numpy]\n",
      "   -------- ------------------------------- 1/5 [numpy]\n",
      "   -------- ------------------------------- 1/5 [numpy]\n",
      "   -------- ------------------------------- 1/5 [numpy]\n",
      "   -------- ------------------------------- 1/5 [numpy]\n",
      "   -------- ------------------------------- 1/5 [numpy]\n",
      "   -------- ------------------------------- 1/5 [numpy]\n",
      "   -------- ------------------------------- 1/5 [numpy]\n",
      "   ---------------- ----------------------- 2/5 [joblib]\n",
      "   ---------------- ----------------------- 2/5 [joblib]\n",
      "   ---------------- ----------------------- 2/5 [joblib]\n",
      "   ---------------- ----------------------- 2/5 [joblib]\n",
      "   ------------------------ --------------- 3/5 [scipy]\n",
      "   ------------------------ --------------- 3/5 [scipy]\n",
      "   ------------------------ --------------- 3/5 [scipy]\n",
      "   ------------------------ --------------- 3/5 [scipy]\n",
      "   ------------------------ --------------- 3/5 [scipy]\n",
      "   ------------------------ --------------- 3/5 [scipy]\n",
      "   ------------------------ --------------- 3/5 [scipy]\n",
      "   ------------------------ --------------- 3/5 [scipy]\n",
      "   ------------------------ --------------- 3/5 [scipy]\n",
      "   ------------------------ --------------- 3/5 [scipy]\n",
      "   ------------------------ --------------- 3/5 [scipy]\n",
      "   ------------------------ --------------- 3/5 [scipy]\n",
      "   ------------------------ --------------- 3/5 [scipy]\n",
      "   ------------------------ --------------- 3/5 [scipy]\n",
      "   ------------------------ --------------- 3/5 [scipy]\n",
      "   ------------------------ --------------- 3/5 [scipy]\n",
      "   ------------------------ --------------- 3/5 [scipy]\n",
      "   ------------------------ --------------- 3/5 [scipy]\n",
      "   ------------------------ --------------- 3/5 [scipy]\n",
      "   ------------------------ --------------- 3/5 [scipy]\n",
      "   ------------------------ --------------- 3/5 [scipy]\n",
      "   ------------------------ --------------- 3/5 [scipy]\n",
      "   ------------------------ --------------- 3/5 [scipy]\n",
      "   ------------------------ --------------- 3/5 [scipy]\n",
      "   ------------------------ --------------- 3/5 [scipy]\n",
      "   ------------------------ --------------- 3/5 [scipy]\n",
      "   ------------------------ --------------- 3/5 [scipy]\n",
      "   ------------------------ --------------- 3/5 [scipy]\n",
      "   ------------------------ --------------- 3/5 [scipy]\n",
      "   ------------------------ --------------- 3/5 [scipy]\n",
      "   ------------------------ --------------- 3/5 [scipy]\n",
      "   ------------------------ --------------- 3/5 [scipy]\n",
      "   ------------------------ --------------- 3/5 [scipy]\n",
      "   ------------------------ --------------- 3/5 [scipy]\n",
      "   ------------------------ --------------- 3/5 [scipy]\n",
      "   ------------------------ --------------- 3/5 [scipy]\n",
      "   ------------------------ --------------- 3/5 [scipy]\n",
      "   ------------------------ --------------- 3/5 [scipy]\n",
      "   ------------------------ --------------- 3/5 [scipy]\n",
      "   ------------------------ --------------- 3/5 [scipy]\n",
      "   ------------------------ --------------- 3/5 [scipy]\n",
      "   ------------------------ --------------- 3/5 [scipy]\n",
      "   ------------------------ --------------- 3/5 [scipy]\n",
      "   ------------------------ --------------- 3/5 [scipy]\n",
      "   ------------------------ --------------- 3/5 [scipy]\n",
      "   ------------------------ --------------- 3/5 [scipy]\n",
      "   ------------------------ --------------- 3/5 [scipy]\n",
      "   ------------------------ --------------- 3/5 [scipy]\n",
      "   ------------------------ --------------- 3/5 [scipy]\n",
      "   ------------------------ --------------- 3/5 [scipy]\n",
      "   ------------------------ --------------- 3/5 [scipy]\n",
      "   ------------------------ --------------- 3/5 [scipy]\n",
      "   ------------------------ --------------- 3/5 [scipy]\n",
      "   ------------------------ --------------- 3/5 [scipy]\n",
      "   ------------------------ --------------- 3/5 [scipy]\n",
      "   ------------------------ --------------- 3/5 [scipy]\n",
      "   ------------------------ --------------- 3/5 [scipy]\n",
      "   ------------------------ --------------- 3/5 [scipy]\n",
      "   ------------------------ --------------- 3/5 [scipy]\n",
      "   ------------------------ --------------- 3/5 [scipy]\n",
      "   ------------------------ --------------- 3/5 [scipy]\n",
      "   -------------------------------- ------- 4/5 [scikit-learn]\n",
      "   -------------------------------- ------- 4/5 [scikit-learn]\n",
      "   -------------------------------- ------- 4/5 [scikit-learn]\n",
      "   -------------------------------- ------- 4/5 [scikit-learn]\n",
      "   -------------------------------- ------- 4/5 [scikit-learn]\n",
      "   -------------------------------- ------- 4/5 [scikit-learn]\n",
      "   -------------------------------- ------- 4/5 [scikit-learn]\n",
      "   -------------------------------- ------- 4/5 [scikit-learn]\n",
      "   -------------------------------- ------- 4/5 [scikit-learn]\n",
      "   -------------------------------- ------- 4/5 [scikit-learn]\n",
      "   -------------------------------- ------- 4/5 [scikit-learn]\n",
      "   -------------------------------- ------- 4/5 [scikit-learn]\n",
      "   -------------------------------- ------- 4/5 [scikit-learn]\n",
      "   -------------------------------- ------- 4/5 [scikit-learn]\n",
      "   -------------------------------- ------- 4/5 [scikit-learn]\n",
      "   -------------------------------- ------- 4/5 [scikit-learn]\n",
      "   -------------------------------- ------- 4/5 [scikit-learn]\n",
      "   -------------------------------- ------- 4/5 [scikit-learn]\n",
      "   -------------------------------- ------- 4/5 [scikit-learn]\n",
      "   -------------------------------- ------- 4/5 [scikit-learn]\n",
      "   -------------------------------- ------- 4/5 [scikit-learn]\n",
      "   -------------------------------- ------- 4/5 [scikit-learn]\n",
      "   -------------------------------- ------- 4/5 [scikit-learn]\n",
      "   -------------------------------- ------- 4/5 [scikit-learn]\n",
      "   -------------------------------- ------- 4/5 [scikit-learn]\n",
      "   -------------------------------- ------- 4/5 [scikit-learn]\n",
      "   -------------------------------- ------- 4/5 [scikit-learn]\n",
      "   -------------------------------- ------- 4/5 [scikit-learn]\n",
      "   -------------------------------- ------- 4/5 [scikit-learn]\n",
      "   -------------------------------- ------- 4/5 [scikit-learn]\n",
      "   -------------------------------- ------- 4/5 [scikit-learn]\n",
      "   -------------------------------- ------- 4/5 [scikit-learn]\n",
      "   -------------------------------- ------- 4/5 [scikit-learn]\n",
      "   -------------------------------- ------- 4/5 [scikit-learn]\n",
      "   ---------------------------------------- 5/5 [scikit-learn]\n",
      "\n",
      "Successfully installed joblib-1.4.2 numpy-2.2.5 scikit-learn-1.6.1 scipy-1.15.2 threadpoolctl-3.6.0\n",
      "✅ Projekt-Root gefunden: c:\\Users\\Maxi\\Documents\\Forschsem\\Erdbeeren\\Riseholme-2021\n",
      "✅ Train: 369 | Val: 93 Dateien kopiert\n"
     ]
    }
   ],
   "source": [
    "from pathlib import Path\n",
    "import sys\n",
    "!{sys.executable} -m pip install scikit-learn\n",
    "\n",
    "from sklearn.model_selection import train_test_split\n",
    "import shutil\n",
    "\n",
    "\n",
    "def find_project_root(required_subpath: Path = Path(\"Data\") / \"Normal\" / \"Ripe\",\n",
    "                      start: Path = Path.cwd()) -> Path:\n",
    "    \"\"\"\n",
    "    Durchläuft start und alle Eltern:\n",
    "      1. Prüft, ob das aktuelle Verzeichnis selbst required_subpath enthält.\n",
    "      2. Durchsucht alle Unterordner jedes Eltern-Verzeichnisses nach required_subpath.\n",
    "    Gibt das erste gefundene Verzeichnis zurück oder wirft FileNotFoundError.\n",
    "    \"\"\"\n",
    "    for p in [start] + list(start.parents):\n",
    "        # 1) Passt p selbst?\n",
    "        if (p / required_subpath).is_dir():\n",
    "            return p\n",
    "        # 2) Oder eine seiner Unterordner?\n",
    "        for child in p.iterdir():\n",
    "            if child.is_dir() and (child / required_subpath).is_dir():\n",
    "                return child\n",
    "    raise FileNotFoundError(f\"Kein Verzeichnis gefunden, das '{required_subpath}' enthält (Beginn: {start})\")\n",
    "\n",
    "# 1) Projekt-Root ermitteln\n",
    "BASE_DIR = find_project_root()\n",
    "print(f\"✅ Projekt-Root gefunden: {BASE_DIR}\")\n",
    "\n",
    "# 2) Quell- und Ziel-Pfade definieren\n",
    "IMG_SRC   = BASE_DIR / 'Data'    / 'Normal' / 'Ripe'\n",
    "LBL_SRC   = BASE_DIR / 'labels'  / 'Ripe'\n",
    "\n",
    "IMG_TRAIN = BASE_DIR / 'images'  / 'train'\n",
    "IMG_VAL   = BASE_DIR / 'images'  / 'val'\n",
    "LBL_TRAIN = BASE_DIR / 'labels'  / 'train'\n",
    "LBL_VAL   = BASE_DIR / 'labels'  / 'val'\n",
    "\n",
    "# 3) Zielordner anlegen\n",
    "for d in (IMG_TRAIN, IMG_VAL, LBL_TRAIN, LBL_VAL):\n",
    "    d.mkdir(parents=True, exist_ok=True)\n",
    "\n",
    "# 4) Dateinamen (Stem) sammeln und splitten\n",
    "files = [f.stem for f in IMG_SRC.iterdir() if f.suffix.lower() in {'.png', '.jpg', '.jpeg'}]\n",
    "train, val = train_test_split(files, test_size=0.2, random_state=42)\n",
    "\n",
    "# 5) Kopieren\n",
    "for f in train:\n",
    "    # Bild-Extension automatisch prüfen\n",
    "    src_img = next(IMG_SRC.glob(f\"{f}.*\"))\n",
    "    shutil.copy(src_img, IMG_TRAIN / src_img.name)\n",
    "\n",
    "    src_lbl = LBL_SRC / f\"{f}.txt\"\n",
    "    shutil.copy(src_lbl, LBL_TRAIN / src_lbl.name)\n",
    "\n",
    "for f in val:\n",
    "    src_img = next(IMG_SRC.glob(f\"{f}.*\"))\n",
    "    shutil.copy(src_img, IMG_VAL / src_img.name)\n",
    "\n",
    "    src_lbl = LBL_SRC / f\"{f}.txt\"\n",
    "    shutil.copy(src_lbl, LBL_VAL / src_lbl.name)\n",
    "\n",
    "print(f\"✅ Train: {len(train)} | Val: {len(val)} Dateien kopiert\")\n"
   ]
  },
  {
   "cell_type": "code",
   "execution_count": null,
   "id": "33094272",
   "metadata": {},
   "outputs": [
    {
     "name": "stdout",
     "output_type": "stream",
     "text": [
      "Collecting ultralytics\n",
      "  Downloading ultralytics-8.3.120-py3-none-any.whl.metadata (37 kB)\n",
      "Requirement already satisfied: numpy>=1.23.0 in c:\\users\\maxi\\anaconda3\\envs\\erdbeerenv\\lib\\site-packages (from ultralytics) (2.2.5)\n",
      "Collecting matplotlib>=3.3.0 (from ultralytics)\n",
      "  Downloading matplotlib-3.10.1-cp313-cp313-win_amd64.whl.metadata (11 kB)\n",
      "Collecting opencv-python>=4.6.0 (from ultralytics)\n",
      "  Using cached opencv_python-4.11.0.86-cp37-abi3-win_amd64.whl.metadata (20 kB)\n",
      "Collecting pillow>=7.1.2 (from ultralytics)\n",
      "  Downloading pillow-11.2.1-cp313-cp313-win_amd64.whl.metadata (9.1 kB)\n",
      "Collecting pyyaml>=5.3.1 (from ultralytics)\n",
      "  Downloading PyYAML-6.0.2-cp313-cp313-win_amd64.whl.metadata (2.1 kB)\n",
      "Collecting requests>=2.23.0 (from ultralytics)\n",
      "  Downloading requests-2.32.3-py3-none-any.whl.metadata (4.6 kB)\n",
      "Requirement already satisfied: scipy>=1.4.1 in c:\\users\\maxi\\anaconda3\\envs\\erdbeerenv\\lib\\site-packages (from ultralytics) (1.15.2)\n",
      "Collecting torch>=1.8.0 (from ultralytics)\n",
      "  Downloading torch-2.7.0-cp313-cp313-win_amd64.whl.metadata (29 kB)\n",
      "Collecting torchvision>=0.9.0 (from ultralytics)\n",
      "  Downloading torchvision-0.22.0-cp313-cp313-win_amd64.whl.metadata (6.3 kB)\n",
      "Collecting tqdm>=4.64.0 (from ultralytics)\n",
      "  Downloading tqdm-4.67.1-py3-none-any.whl.metadata (57 kB)\n",
      "Requirement already satisfied: psutil in c:\\users\\maxi\\anaconda3\\envs\\erdbeerenv\\lib\\site-packages (from ultralytics) (7.0.0)\n",
      "Collecting py-cpuinfo (from ultralytics)\n",
      "  Downloading py_cpuinfo-9.0.0-py3-none-any.whl.metadata (794 bytes)\n",
      "Collecting pandas>=1.1.4 (from ultralytics)\n",
      "  Downloading pandas-2.2.3-cp313-cp313-win_amd64.whl.metadata (19 kB)\n",
      "Collecting seaborn>=0.11.0 (from ultralytics)\n",
      "  Downloading seaborn-0.13.2-py3-none-any.whl.metadata (5.4 kB)\n",
      "Collecting ultralytics-thop>=2.0.0 (from ultralytics)\n",
      "  Using cached ultralytics_thop-2.0.14-py3-none-any.whl.metadata (9.4 kB)\n",
      "Collecting contourpy>=1.0.1 (from matplotlib>=3.3.0->ultralytics)\n",
      "  Downloading contourpy-1.3.2-cp313-cp313-win_amd64.whl.metadata (5.5 kB)\n",
      "Collecting cycler>=0.10 (from matplotlib>=3.3.0->ultralytics)\n",
      "  Downloading cycler-0.12.1-py3-none-any.whl.metadata (3.8 kB)\n",
      "Collecting fonttools>=4.22.0 (from matplotlib>=3.3.0->ultralytics)\n",
      "  Downloading fonttools-4.57.0-cp313-cp313-win_amd64.whl.metadata (104 kB)\n",
      "Collecting kiwisolver>=1.3.1 (from matplotlib>=3.3.0->ultralytics)\n",
      "  Downloading kiwisolver-1.4.8-cp313-cp313-win_amd64.whl.metadata (6.3 kB)\n",
      "Requirement already satisfied: packaging>=20.0 in c:\\users\\maxi\\anaconda3\\envs\\erdbeerenv\\lib\\site-packages (from matplotlib>=3.3.0->ultralytics) (25.0)\n",
      "Collecting pyparsing>=2.3.1 (from matplotlib>=3.3.0->ultralytics)\n",
      "  Downloading pyparsing-3.2.3-py3-none-any.whl.metadata (5.0 kB)\n",
      "Requirement already satisfied: python-dateutil>=2.7 in c:\\users\\maxi\\anaconda3\\envs\\erdbeerenv\\lib\\site-packages (from matplotlib>=3.3.0->ultralytics) (2.9.0.post0)\n",
      "Collecting pytz>=2020.1 (from pandas>=1.1.4->ultralytics)\n",
      "  Downloading pytz-2025.2-py2.py3-none-any.whl.metadata (22 kB)\n",
      "Collecting tzdata>=2022.7 (from pandas>=1.1.4->ultralytics)\n",
      "  Downloading tzdata-2025.2-py2.py3-none-any.whl.metadata (1.4 kB)\n",
      "Requirement already satisfied: six>=1.5 in c:\\users\\maxi\\anaconda3\\envs\\erdbeerenv\\lib\\site-packages (from python-dateutil>=2.7->matplotlib>=3.3.0->ultralytics) (1.17.0)\n",
      "Collecting charset-normalizer<4,>=2 (from requests>=2.23.0->ultralytics)\n",
      "  Downloading charset_normalizer-3.4.1-cp313-cp313-win_amd64.whl.metadata (36 kB)\n",
      "Collecting idna<4,>=2.5 (from requests>=2.23.0->ultralytics)\n",
      "  Downloading idna-3.10-py3-none-any.whl.metadata (10 kB)\n",
      "Collecting urllib3<3,>=1.21.1 (from requests>=2.23.0->ultralytics)\n",
      "  Downloading urllib3-2.4.0-py3-none-any.whl.metadata (6.5 kB)\n",
      "Collecting certifi>=2017.4.17 (from requests>=2.23.0->ultralytics)\n",
      "  Downloading certifi-2025.4.26-py3-none-any.whl.metadata (2.5 kB)\n",
      "Collecting filelock (from torch>=1.8.0->ultralytics)\n",
      "  Downloading filelock-3.18.0-py3-none-any.whl.metadata (2.9 kB)\n",
      "Requirement already satisfied: typing-extensions>=4.10.0 in c:\\users\\maxi\\anaconda3\\envs\\erdbeerenv\\lib\\site-packages (from torch>=1.8.0->ultralytics) (4.13.2)\n",
      "Collecting sympy>=1.13.3 (from torch>=1.8.0->ultralytics)\n",
      "  Downloading sympy-1.14.0-py3-none-any.whl.metadata (12 kB)\n",
      "Collecting networkx (from torch>=1.8.0->ultralytics)\n",
      "  Downloading networkx-3.4.2-py3-none-any.whl.metadata (6.3 kB)\n",
      "Collecting jinja2 (from torch>=1.8.0->ultralytics)\n",
      "  Downloading jinja2-3.1.6-py3-none-any.whl.metadata (2.9 kB)\n",
      "Collecting fsspec (from torch>=1.8.0->ultralytics)\n",
      "  Downloading fsspec-2025.3.2-py3-none-any.whl.metadata (11 kB)\n",
      "Collecting setuptools (from torch>=1.8.0->ultralytics)\n",
      "  Downloading setuptools-80.0.0-py3-none-any.whl.metadata (6.5 kB)\n",
      "Collecting mpmath<1.4,>=1.1.0 (from sympy>=1.13.3->torch>=1.8.0->ultralytics)\n",
      "  Downloading mpmath-1.3.0-py3-none-any.whl.metadata (8.6 kB)\n",
      "Requirement already satisfied: colorama in c:\\users\\maxi\\anaconda3\\envs\\erdbeerenv\\lib\\site-packages (from tqdm>=4.64.0->ultralytics) (0.4.6)\n",
      "Collecting MarkupSafe>=2.0 (from jinja2->torch>=1.8.0->ultralytics)\n",
      "  Downloading MarkupSafe-3.0.2-cp313-cp313-win_amd64.whl.metadata (4.1 kB)\n",
      "Downloading ultralytics-8.3.120-py3-none-any.whl (1.0 MB)\n",
      "   ---------------------------------------- 0.0/1.0 MB ? eta -:--:--\n",
      "   ---------------------------------------- 1.0/1.0 MB 6.6 MB/s eta 0:00:00\n",
      "Downloading matplotlib-3.10.1-cp313-cp313-win_amd64.whl (8.1 MB)\n",
      "   ---------------------------------------- 0.0/8.1 MB ? eta -:--:--\n",
      "   ------ --------------------------------- 1.3/8.1 MB 7.3 MB/s eta 0:00:01\n",
      "   -------------- ------------------------- 2.9/8.1 MB 7.2 MB/s eta 0:00:01\n",
      "   ---------------------- ----------------- 4.5/8.1 MB 7.2 MB/s eta 0:00:01\n",
      "   ----------------------------- ---------- 6.0/8.1 MB 7.2 MB/s eta 0:00:01\n",
      "   ------------------------------------ --- 7.3/8.1 MB 7.2 MB/s eta 0:00:01\n",
      "   ---------------------------------------- 8.1/8.1 MB 6.8 MB/s eta 0:00:00\n",
      "Downloading contourpy-1.3.2-cp313-cp313-win_amd64.whl (223 kB)\n",
      "Downloading cycler-0.12.1-py3-none-any.whl (8.3 kB)\n",
      "Downloading fonttools-4.57.0-cp313-cp313-win_amd64.whl (2.2 MB)\n",
      "   ---------------------------------------- 0.0/2.2 MB ? eta -:--:--\n",
      "   ----------------------- ---------------- 1.3/2.2 MB 7.2 MB/s eta 0:00:01\n",
      "   ---------------------------------------- 2.2/2.2 MB 6.9 MB/s eta 0:00:00\n",
      "Downloading kiwisolver-1.4.8-cp313-cp313-win_amd64.whl (71 kB)\n",
      "Using cached opencv_python-4.11.0.86-cp37-abi3-win_amd64.whl (39.5 MB)\n",
      "Downloading pandas-2.2.3-cp313-cp313-win_amd64.whl (11.5 MB)\n",
      "   ---------------------------------------- 0.0/11.5 MB ? eta -:--:--\n",
      "   ---- ----------------------------------- 1.3/11.5 MB 7.4 MB/s eta 0:00:02\n",
      "   ---------- ----------------------------- 2.9/11.5 MB 7.3 MB/s eta 0:00:02\n",
      "   --------------- ------------------------ 4.5/11.5 MB 7.3 MB/s eta 0:00:01\n",
      "   --------------------- ------------------ 6.0/11.5 MB 7.1 MB/s eta 0:00:01\n",
      "   -------------------------- ------------- 7.6/11.5 MB 7.3 MB/s eta 0:00:01\n",
      "   ------------------------------- -------- 9.2/11.5 MB 7.2 MB/s eta 0:00:01\n",
      "   ------------------------------------- -- 10.7/11.5 MB 7.3 MB/s eta 0:00:01\n",
      "   ---------------------------------------- 11.5/11.5 MB 7.1 MB/s eta 0:00:00\n",
      "Downloading pillow-11.2.1-cp313-cp313-win_amd64.whl (2.7 MB)\n",
      "   ---------------------------------------- 0.0/2.7 MB ? eta -:--:--\n",
      "   ------------------- -------------------- 1.3/2.7 MB 7.4 MB/s eta 0:00:01\n",
      "   ---------------------------------------- 2.7/2.7 MB 6.9 MB/s eta 0:00:00\n",
      "Downloading pyparsing-3.2.3-py3-none-any.whl (111 kB)\n",
      "Downloading pytz-2025.2-py2.py3-none-any.whl (509 kB)\n",
      "Downloading PyYAML-6.0.2-cp313-cp313-win_amd64.whl (156 kB)\n",
      "Downloading requests-2.32.3-py3-none-any.whl (64 kB)\n",
      "Downloading charset_normalizer-3.4.1-cp313-cp313-win_amd64.whl (102 kB)\n",
      "Downloading idna-3.10-py3-none-any.whl (70 kB)\n",
      "Downloading urllib3-2.4.0-py3-none-any.whl (128 kB)\n",
      "Downloading certifi-2025.4.26-py3-none-any.whl (159 kB)\n",
      "Downloading seaborn-0.13.2-py3-none-any.whl (294 kB)\n",
      "Downloading torch-2.7.0-cp313-cp313-win_amd64.whl (212.5 MB)\n",
      "   ---------------------------------------- 0.0/212.5 MB ? eta -:--:--\n",
      "   ---------------------------------------- 1.3/212.5 MB 7.2 MB/s eta 0:00:30\n",
      "    --------------------------------------- 2.9/212.5 MB 7.1 MB/s eta 0:00:30\n",
      "    --------------------------------------- 4.5/212.5 MB 7.2 MB/s eta 0:00:29\n",
      "   - -------------------------------------- 6.0/212.5 MB 7.2 MB/s eta 0:00:29\n",
      "   - -------------------------------------- 7.6/212.5 MB 7.2 MB/s eta 0:00:29\n",
      "   - -------------------------------------- 9.2/212.5 MB 7.2 MB/s eta 0:00:29\n",
      "   -- ------------------------------------- 10.7/212.5 MB 7.2 MB/s eta 0:00:28\n",
      "   -- ------------------------------------- 12.3/212.5 MB 7.2 MB/s eta 0:00:28\n",
      "   -- ------------------------------------- 13.9/212.5 MB 7.2 MB/s eta 0:00:28\n",
      "   -- ------------------------------------- 15.5/212.5 MB 7.2 MB/s eta 0:00:28\n",
      "   --- ------------------------------------ 17.0/212.5 MB 7.2 MB/s eta 0:00:28\n",
      "   --- ------------------------------------ 18.4/212.5 MB 7.2 MB/s eta 0:00:27\n",
      "   --- ------------------------------------ 19.9/212.5 MB 7.2 MB/s eta 0:00:27\n",
      "   ---- ----------------------------------- 21.5/212.5 MB 7.2 MB/s eta 0:00:27\n",
      "   ---- ----------------------------------- 23.1/212.5 MB 7.2 MB/s eta 0:00:27\n",
      "   ---- ----------------------------------- 24.4/212.5 MB 7.2 MB/s eta 0:00:27\n",
      "   ---- ----------------------------------- 26.0/212.5 MB 7.2 MB/s eta 0:00:26\n",
      "   ----- ---------------------------------- 27.5/212.5 MB 7.2 MB/s eta 0:00:26\n",
      "   ----- ---------------------------------- 29.1/212.5 MB 7.2 MB/s eta 0:00:26\n",
      "   ----- ---------------------------------- 30.7/212.5 MB 7.2 MB/s eta 0:00:26\n",
      "   ------ --------------------------------- 32.2/212.5 MB 7.2 MB/s eta 0:00:25\n",
      "   ------ --------------------------------- 33.8/212.5 MB 7.2 MB/s eta 0:00:25\n",
      "   ------ --------------------------------- 35.4/212.5 MB 7.2 MB/s eta 0:00:25\n",
      "   ------ --------------------------------- 37.0/212.5 MB 7.2 MB/s eta 0:00:25\n",
      "   ------- -------------------------------- 38.3/212.5 MB 7.2 MB/s eta 0:00:25\n",
      "   ------- -------------------------------- 39.8/212.5 MB 7.2 MB/s eta 0:00:24\n",
      "   ------- -------------------------------- 41.4/212.5 MB 7.2 MB/s eta 0:00:24\n",
      "   -------- ------------------------------- 43.0/212.5 MB 7.2 MB/s eta 0:00:24\n",
      "   -------- ------------------------------- 44.6/212.5 MB 7.2 MB/s eta 0:00:24\n",
      "   -------- ------------------------------- 46.1/212.5 MB 7.2 MB/s eta 0:00:23\n",
      "   -------- ------------------------------- 47.7/212.5 MB 7.2 MB/s eta 0:00:23\n",
      "   --------- ------------------------------ 49.3/212.5 MB 7.2 MB/s eta 0:00:23\n",
      "   --------- ------------------------------ 50.9/212.5 MB 7.2 MB/s eta 0:00:23\n",
      "   --------- ------------------------------ 52.4/212.5 MB 7.2 MB/s eta 0:00:23\n",
      "   ---------- ----------------------------- 54.0/212.5 MB 7.2 MB/s eta 0:00:22\n",
      "   ---------- ----------------------------- 55.6/212.5 MB 7.2 MB/s eta 0:00:22\n",
      "   ---------- ----------------------------- 57.1/212.5 MB 7.2 MB/s eta 0:00:22\n",
      "   ----------- ---------------------------- 58.7/212.5 MB 7.2 MB/s eta 0:00:22\n",
      "   ----------- ---------------------------- 60.0/212.5 MB 7.2 MB/s eta 0:00:22\n",
      "   ----------- ---------------------------- 61.6/212.5 MB 7.2 MB/s eta 0:00:21\n",
      "   ----------- ---------------------------- 63.2/212.5 MB 7.2 MB/s eta 0:00:21\n",
      "   ------------ --------------------------- 64.7/212.5 MB 7.2 MB/s eta 0:00:21\n",
      "   ------------ --------------------------- 66.3/212.5 MB 7.2 MB/s eta 0:00:21\n",
      "   ------------ --------------------------- 67.9/212.5 MB 7.2 MB/s eta 0:00:20\n",
      "   ------------- -------------------------- 69.5/212.5 MB 7.2 MB/s eta 0:00:20\n",
      "   ------------- -------------------------- 71.0/212.5 MB 7.2 MB/s eta 0:00:20\n",
      "   ------------- -------------------------- 72.6/212.5 MB 7.2 MB/s eta 0:00:20\n",
      "   ------------- -------------------------- 74.2/212.5 MB 7.2 MB/s eta 0:00:20\n",
      "   -------------- ------------------------- 75.8/212.5 MB 7.2 MB/s eta 0:00:19\n",
      "   -------------- ------------------------- 77.3/212.5 MB 7.2 MB/s eta 0:00:19\n",
      "   -------------- ------------------------- 78.6/212.5 MB 7.2 MB/s eta 0:00:19\n",
      "   --------------- ------------------------ 80.2/212.5 MB 7.2 MB/s eta 0:00:19\n",
      "   --------------- ------------------------ 81.8/212.5 MB 7.2 MB/s eta 0:00:19\n",
      "   --------------- ------------------------ 83.4/212.5 MB 7.2 MB/s eta 0:00:18\n",
      "   --------------- ------------------------ 84.9/212.5 MB 7.2 MB/s eta 0:00:18\n",
      "   ---------------- ----------------------- 86.5/212.5 MB 7.2 MB/s eta 0:00:18\n",
      "   ---------------- ----------------------- 88.1/212.5 MB 7.2 MB/s eta 0:00:18\n",
      "   ---------------- ----------------------- 89.7/212.5 MB 7.2 MB/s eta 0:00:17\n",
      "   ----------------- ---------------------- 91.2/212.5 MB 7.2 MB/s eta 0:00:17\n",
      "   ----------------- ---------------------- 92.8/212.5 MB 7.2 MB/s eta 0:00:17\n",
      "   ----------------- ---------------------- 94.4/212.5 MB 7.2 MB/s eta 0:00:17\n",
      "   ------------------ --------------------- 95.9/212.5 MB 7.2 MB/s eta 0:00:17\n",
      "   ------------------ --------------------- 97.5/212.5 MB 7.2 MB/s eta 0:00:16\n",
      "   ------------------ --------------------- 99.1/212.5 MB 7.2 MB/s eta 0:00:16\n",
      "   ------------------ --------------------- 100.7/212.5 MB 7.2 MB/s eta 0:00:16\n",
      "   ------------------- -------------------- 102.2/212.5 MB 7.2 MB/s eta 0:00:16\n",
      "   ------------------- -------------------- 103.5/212.5 MB 7.2 MB/s eta 0:00:16\n",
      "   ------------------- -------------------- 105.1/212.5 MB 7.2 MB/s eta 0:00:15\n",
      "   -------------------- ------------------- 106.7/212.5 MB 7.2 MB/s eta 0:00:15\n",
      "   -------------------- ------------------- 108.3/212.5 MB 7.2 MB/s eta 0:00:15\n",
      "   -------------------- ------------------- 109.8/212.5 MB 7.2 MB/s eta 0:00:15\n",
      "   -------------------- ------------------- 111.4/212.5 MB 7.2 MB/s eta 0:00:14\n",
      "   --------------------- ------------------ 113.0/212.5 MB 7.2 MB/s eta 0:00:14\n",
      "   --------------------- ------------------ 114.6/212.5 MB 7.2 MB/s eta 0:00:14\n",
      "   --------------------- ------------------ 116.1/212.5 MB 7.2 MB/s eta 0:00:14\n",
      "   ---------------------- ----------------- 117.7/212.5 MB 7.2 MB/s eta 0:00:14\n",
      "   ---------------------- ----------------- 119.3/212.5 MB 7.2 MB/s eta 0:00:13\n",
      "   ---------------------- ----------------- 120.8/212.5 MB 7.2 MB/s eta 0:00:13\n",
      "   ----------------------- ---------------- 122.4/212.5 MB 7.2 MB/s eta 0:00:13\n",
      "   ----------------------- ---------------- 124.0/212.5 MB 7.2 MB/s eta 0:00:13\n",
      "   ----------------------- ---------------- 125.6/212.5 MB 7.2 MB/s eta 0:00:13\n",
      "   ----------------------- ---------------- 126.9/212.5 MB 7.2 MB/s eta 0:00:12\n",
      "   ------------------------ --------------- 128.5/212.5 MB 7.2 MB/s eta 0:00:12\n",
      "   ------------------------ --------------- 130.0/212.5 MB 7.2 MB/s eta 0:00:12\n",
      "   ------------------------ --------------- 131.6/212.5 MB 7.2 MB/s eta 0:00:12\n",
      "   ------------------------- -------------- 133.2/212.5 MB 7.2 MB/s eta 0:00:11\n",
      "   ------------------------- -------------- 134.7/212.5 MB 7.2 MB/s eta 0:00:11\n",
      "   ------------------------- -------------- 136.3/212.5 MB 7.2 MB/s eta 0:00:11\n",
      "   ------------------------- -------------- 137.9/212.5 MB 7.2 MB/s eta 0:00:11\n",
      "   -------------------------- ------------- 139.5/212.5 MB 7.2 MB/s eta 0:00:11\n",
      "   -------------------------- ------------- 141.0/212.5 MB 7.2 MB/s eta 0:00:10\n",
      "   -------------------------- ------------- 142.6/212.5 MB 7.2 MB/s eta 0:00:10\n",
      "   --------------------------- ------------ 144.2/212.5 MB 7.2 MB/s eta 0:00:10\n",
      "   --------------------------- ------------ 145.8/212.5 MB 7.2 MB/s eta 0:00:10\n",
      "   --------------------------- ------------ 147.3/212.5 MB 7.2 MB/s eta 0:00:10\n",
      "   ---------------------------- ----------- 148.9/212.5 MB 7.2 MB/s eta 0:00:09\n",
      "   ---------------------------- ----------- 150.5/212.5 MB 7.2 MB/s eta 0:00:09\n",
      "   ---------------------------- ----------- 151.8/212.5 MB 7.2 MB/s eta 0:00:09\n",
      "   ---------------------------- ----------- 153.4/212.5 MB 7.2 MB/s eta 0:00:09\n",
      "   ----------------------------- ---------- 154.9/212.5 MB 7.2 MB/s eta 0:00:08\n",
      "   ----------------------------- ---------- 156.5/212.5 MB 7.2 MB/s eta 0:00:08\n",
      "   ----------------------------- ---------- 158.1/212.5 MB 7.2 MB/s eta 0:00:08\n",
      "   ------------------------------ --------- 159.6/212.5 MB 7.2 MB/s eta 0:00:08\n",
      "   ------------------------------ --------- 161.2/212.5 MB 7.2 MB/s eta 0:00:08\n",
      "   ------------------------------ --------- 162.8/212.5 MB 7.2 MB/s eta 0:00:07\n",
      "   ------------------------------ --------- 164.4/212.5 MB 7.2 MB/s eta 0:00:07\n",
      "   ------------------------------- -------- 165.9/212.5 MB 7.2 MB/s eta 0:00:07\n",
      "   ------------------------------- -------- 167.5/212.5 MB 7.2 MB/s eta 0:00:07\n",
      "   ------------------------------- -------- 169.1/212.5 MB 7.2 MB/s eta 0:00:06\n",
      "   -------------------------------- ------- 170.7/212.5 MB 7.2 MB/s eta 0:00:06\n",
      "   -------------------------------- ------- 172.0/212.5 MB 7.2 MB/s eta 0:00:06\n",
      "   -------------------------------- ------- 173.5/212.5 MB 7.2 MB/s eta 0:00:06\n",
      "   -------------------------------- ------- 175.1/212.5 MB 7.2 MB/s eta 0:00:06\n",
      "   --------------------------------- ------ 176.7/212.5 MB 7.2 MB/s eta 0:00:05\n",
      "   --------------------------------- ------ 178.3/212.5 MB 7.2 MB/s eta 0:00:05\n",
      "   --------------------------------- ------ 179.8/212.5 MB 7.2 MB/s eta 0:00:05\n",
      "   ---------------------------------- ----- 181.4/212.5 MB 7.2 MB/s eta 0:00:05\n",
      "   ---------------------------------- ----- 183.0/212.5 MB 7.2 MB/s eta 0:00:05\n",
      "   ---------------------------------- ----- 184.5/212.5 MB 7.2 MB/s eta 0:00:04\n",
      "   ----------------------------------- ---- 186.1/212.5 MB 7.2 MB/s eta 0:00:04\n",
      "   ----------------------------------- ---- 187.7/212.5 MB 7.2 MB/s eta 0:00:04\n",
      "   ----------------------------------- ---- 189.3/212.5 MB 7.2 MB/s eta 0:00:04\n",
      "   ----------------------------------- ---- 190.8/212.5 MB 7.2 MB/s eta 0:00:03\n",
      "   ------------------------------------ --- 192.2/212.5 MB 7.2 MB/s eta 0:00:03\n",
      "   ------------------------------------ --- 193.7/212.5 MB 7.2 MB/s eta 0:00:03\n",
      "   ------------------------------------ --- 195.3/212.5 MB 7.2 MB/s eta 0:00:03\n",
      "   ------------------------------------- -- 196.9/212.5 MB 7.2 MB/s eta 0:00:03\n",
      "   ------------------------------------- -- 198.4/212.5 MB 7.2 MB/s eta 0:00:02\n",
      "   ------------------------------------- -- 199.8/212.5 MB 7.2 MB/s eta 0:00:02\n",
      "   ------------------------------------- -- 201.6/212.5 MB 7.2 MB/s eta 0:00:02\n",
      "   -------------------------------------- - 203.2/212.5 MB 7.2 MB/s eta 0:00:02\n",
      "   -------------------------------------- - 204.7/212.5 MB 7.2 MB/s eta 0:00:02\n",
      "   -------------------------------------- - 206.0/212.5 MB 7.2 MB/s eta 0:00:01\n",
      "   ---------------------------------------  207.6/212.5 MB 7.2 MB/s eta 0:00:01\n",
      "   ---------------------------------------  209.2/212.5 MB 7.2 MB/s eta 0:00:01\n",
      "   ---------------------------------------  210.8/212.5 MB 7.2 MB/s eta 0:00:01\n",
      "   ---------------------------------------  212.3/212.5 MB 7.2 MB/s eta 0:00:01\n",
      "   ---------------------------------------  212.3/212.5 MB 7.2 MB/s eta 0:00:01\n",
      "   ---------------------------------------  212.3/212.5 MB 7.2 MB/s eta 0:00:01\n",
      "   ---------------------------------------  212.3/212.5 MB 7.2 MB/s eta 0:00:01\n",
      "   ---------------------------------------- 212.5/212.5 MB 7.0 MB/s eta 0:00:00\n",
      "Downloading sympy-1.14.0-py3-none-any.whl (6.3 MB)\n",
      "   ---------------------------------------- 0.0/6.3 MB ? eta -:--:--\n",
      "   -------- ------------------------------- 1.3/6.3 MB 7.3 MB/s eta 0:00:01\n",
      "   ------------------ --------------------- 2.9/6.3 MB 7.3 MB/s eta 0:00:01\n",
      "   ---------------------------- ----------- 4.5/6.3 MB 7.3 MB/s eta 0:00:01\n",
      "   -------------------------------------- - 6.0/6.3 MB 7.3 MB/s eta 0:00:01\n",
      "   ---------------------------------------- 6.3/6.3 MB 7.0 MB/s eta 0:00:00\n",
      "Downloading mpmath-1.3.0-py3-none-any.whl (536 kB)\n",
      "   ---------------------------------------- 0.0/536.2 kB ? eta -:--:--\n",
      "   ---------------------------------------- 536.2/536.2 kB 5.9 MB/s eta 0:00:00\n",
      "Downloading torchvision-0.22.0-cp313-cp313-win_amd64.whl (1.7 MB)\n",
      "   ---------------------------------------- 0.0/1.7 MB ? eta -:--:--\n",
      "   ------------------------------------ --- 1.6/1.7 MB 7.3 MB/s eta 0:00:01\n",
      "   ---------------------------------------- 1.7/1.7 MB 6.9 MB/s eta 0:00:00\n",
      "Downloading tqdm-4.67.1-py3-none-any.whl (78 kB)\n",
      "Downloading tzdata-2025.2-py2.py3-none-any.whl (347 kB)\n",
      "Using cached ultralytics_thop-2.0.14-py3-none-any.whl (26 kB)\n",
      "Downloading filelock-3.18.0-py3-none-any.whl (16 kB)\n",
      "Downloading fsspec-2025.3.2-py3-none-any.whl (194 kB)\n",
      "Downloading jinja2-3.1.6-py3-none-any.whl (134 kB)\n",
      "Downloading MarkupSafe-3.0.2-cp313-cp313-win_amd64.whl (15 kB)\n",
      "Downloading networkx-3.4.2-py3-none-any.whl (1.7 MB)\n",
      "   ---------------------------------------- 0.0/1.7 MB ? eta -:--:--\n",
      "   ------------------------------ --------- 1.3/1.7 MB 7.4 MB/s eta 0:00:01\n",
      "   ---------------------------------------- 1.7/1.7 MB 6.9 MB/s eta 0:00:00\n",
      "Downloading py_cpuinfo-9.0.0-py3-none-any.whl (22 kB)\n",
      "Downloading setuptools-80.0.0-py3-none-any.whl (1.2 MB)\n",
      "   ---------------------------------------- 0.0/1.2 MB ? eta -:--:--\n",
      "   ---------------------------------------- 1.2/1.2 MB 6.7 MB/s eta 0:00:00\n",
      "Installing collected packages: pytz, py-cpuinfo, mpmath, urllib3, tzdata, tqdm, sympy, setuptools, pyyaml, pyparsing, pillow, opencv-python, networkx, MarkupSafe, kiwisolver, idna, fsspec, fonttools, filelock, cycler, contourpy, charset-normalizer, certifi, requests, pandas, matplotlib, jinja2, torch, seaborn, ultralytics-thop, torchvision, ultralytics\n",
      "\n",
      "   ----------------------------------------  0/32 [pytz]\n",
      "   ----------------------------------------  0/32 [pytz]\n",
      "   ----------------------------------------  0/32 [pytz]\n",
      "   - --------------------------------------  1/32 [py-cpuinfo]\n",
      "   -- -------------------------------------  2/32 [mpmath]\n",
      "   -- -------------------------------------  2/32 [mpmath]\n",
      "   -- -------------------------------------  2/32 [mpmath]\n",
      "   -- -------------------------------------  2/32 [mpmath]\n",
      "   -- -------------------------------------  2/32 [mpmath]\n",
      "   --- ------------------------------------  3/32 [urllib3]\n",
      "   --- ------------------------------------  3/32 [urllib3]\n",
      "   ----- ----------------------------------  4/32 [tzdata]\n",
      "   ----- ----------------------------------  4/32 [tzdata]\n",
      "   ----- ----------------------------------  4/32 [tzdata]\n",
      "   ----- ----------------------------------  4/32 [tzdata]\n",
      "   ------ ---------------------------------  5/32 [tqdm]\n",
      "   ------ ---------------------------------  5/32 [tqdm]\n",
      "   ------- --------------------------------  6/32 [sympy]\n",
      "   ------- --------------------------------  6/32 [sympy]\n",
      "   ------- --------------------------------  6/32 [sympy]\n",
      "   ------- --------------------------------  6/32 [sympy]\n",
      "   ------- --------------------------------  6/32 [sympy]\n",
      "   ------- --------------------------------  6/32 [sympy]\n",
      "   ------- --------------------------------  6/32 [sympy]\n",
      "   ------- --------------------------------  6/32 [sympy]\n",
      "   ------- --------------------------------  6/32 [sympy]\n",
      "   ------- --------------------------------  6/32 [sympy]\n",
      "   ------- --------------------------------  6/32 [sympy]\n",
      "   ------- --------------------------------  6/32 [sympy]\n",
      "   ------- --------------------------------  6/32 [sympy]\n",
      "   ------- --------------------------------  6/32 [sympy]\n",
      "   ------- --------------------------------  6/32 [sympy]\n",
      "   ------- --------------------------------  6/32 [sympy]\n",
      "   ------- --------------------------------  6/32 [sympy]\n",
      "   ------- --------------------------------  6/32 [sympy]\n",
      "   ------- --------------------------------  6/32 [sympy]\n",
      "   ------- --------------------------------  6/32 [sympy]\n",
      "   ------- --------------------------------  6/32 [sympy]\n",
      "   ------- --------------------------------  6/32 [sympy]\n",
      "   ------- --------------------------------  6/32 [sympy]\n",
      "   ------- --------------------------------  6/32 [sympy]\n",
      "   ------- --------------------------------  6/32 [sympy]\n",
      "   ------- --------------------------------  6/32 [sympy]\n",
      "   ------- --------------------------------  6/32 [sympy]\n",
      "   ------- --------------------------------  6/32 [sympy]\n",
      "   ------- --------------------------------  6/32 [sympy]\n",
      "   ------- --------------------------------  6/32 [sympy]\n",
      "   ------- --------------------------------  6/32 [sympy]\n",
      "   ------- --------------------------------  6/32 [sympy]\n",
      "   ------- --------------------------------  6/32 [sympy]\n",
      "   ------- --------------------------------  6/32 [sympy]\n",
      "   ------- --------------------------------  6/32 [sympy]\n",
      "   ------- --------------------------------  6/32 [sympy]\n",
      "   ------- --------------------------------  6/32 [sympy]\n",
      "   ------- --------------------------------  6/32 [sympy]\n",
      "   ------- --------------------------------  6/32 [sympy]\n",
      "   ------- --------------------------------  6/32 [sympy]\n",
      "   ------- --------------------------------  6/32 [sympy]\n",
      "   ------- --------------------------------  6/32 [sympy]\n",
      "   ------- --------------------------------  6/32 [sympy]\n",
      "   ------- --------------------------------  6/32 [sympy]\n",
      "   ------- --------------------------------  6/32 [sympy]\n",
      "   ------- --------------------------------  6/32 [sympy]\n",
      "   ------- --------------------------------  6/32 [sympy]\n",
      "   ------- --------------------------------  6/32 [sympy]\n",
      "   ------- --------------------------------  6/32 [sympy]\n",
      "   ------- --------------------------------  6/32 [sympy]\n",
      "   ------- --------------------------------  6/32 [sympy]\n",
      "   ------- --------------------------------  6/32 [sympy]\n",
      "   ------- --------------------------------  6/32 [sympy]\n",
      "   ------- --------------------------------  6/32 [sympy]\n",
      "   ------- --------------------------------  6/32 [sympy]\n",
      "   ------- --------------------------------  6/32 [sympy]\n",
      "   ------- --------------------------------  6/32 [sympy]\n",
      "   ------- --------------------------------  6/32 [sympy]\n",
      "   ------- --------------------------------  6/32 [sympy]\n",
      "   ------- --------------------------------  6/32 [sympy]\n",
      "   ------- --------------------------------  6/32 [sympy]\n",
      "   ------- --------------------------------  6/32 [sympy]\n",
      "   ------- --------------------------------  6/32 [sympy]\n",
      "   ------- --------------------------------  6/32 [sympy]\n",
      "   ------- --------------------------------  6/32 [sympy]\n",
      "   ------- --------------------------------  6/32 [sympy]\n",
      "   ------- --------------------------------  6/32 [sympy]\n",
      "   ------- --------------------------------  6/32 [sympy]\n",
      "   ------- --------------------------------  6/32 [sympy]\n",
      "   ------- --------------------------------  6/32 [sympy]\n",
      "   ------- --------------------------------  6/32 [sympy]\n",
      "   ------- --------------------------------  6/32 [sympy]\n",
      "   ------- --------------------------------  6/32 [sympy]\n",
      "   ------- --------------------------------  6/32 [sympy]\n",
      "   ------- --------------------------------  6/32 [sympy]\n",
      "   ------- --------------------------------  6/32 [sympy]\n",
      "   ------- --------------------------------  6/32 [sympy]\n",
      "   ------- --------------------------------  6/32 [sympy]\n",
      "   ------- --------------------------------  6/32 [sympy]\n",
      "   ------- --------------------------------  6/32 [sympy]\n",
      "   ------- --------------------------------  6/32 [sympy]\n",
      "   ------- --------------------------------  6/32 [sympy]\n",
      "   ------- --------------------------------  6/32 [sympy]\n",
      "   ------- --------------------------------  6/32 [sympy]\n",
      "   ------- --------------------------------  6/32 [sympy]\n",
      "   ------- --------------------------------  6/32 [sympy]\n",
      "   ------- --------------------------------  6/32 [sympy]\n",
      "   ------- --------------------------------  6/32 [sympy]\n",
      "   ------- --------------------------------  6/32 [sympy]\n",
      "   ------- --------------------------------  6/32 [sympy]\n",
      "   ------- --------------------------------  6/32 [sympy]\n",
      "   ------- --------------------------------  6/32 [sympy]\n",
      "   -------- -------------------------------  7/32 [setuptools]\n",
      "   -------- -------------------------------  7/32 [setuptools]\n",
      "   -------- -------------------------------  7/32 [setuptools]\n",
      "   -------- -------------------------------  7/32 [setuptools]\n",
      "   -------- -------------------------------  7/32 [setuptools]\n",
      "   -------- -------------------------------  7/32 [setuptools]\n",
      "   -------- -------------------------------  7/32 [setuptools]\n",
      "   -------- -------------------------------  7/32 [setuptools]\n",
      "   -------- -------------------------------  7/32 [setuptools]\n",
      "   -------- -------------------------------  7/32 [setuptools]\n",
      "   -------- -------------------------------  7/32 [setuptools]\n",
      "   -------- -------------------------------  7/32 [setuptools]\n",
      "   -------- -------------------------------  7/32 [setuptools]\n",
      "   -------- -------------------------------  7/32 [setuptools]\n",
      "   -------- -------------------------------  7/32 [setuptools]\n",
      "   -------- -------------------------------  7/32 [setuptools]\n",
      "   -------- -------------------------------  7/32 [setuptools]\n",
      "   ---------- -----------------------------  8/32 [pyyaml]\n",
      "   ----------- ----------------------------  9/32 [pyparsing]\n",
      "   ------------ --------------------------- 10/32 [pillow]\n",
      "   ------------ --------------------------- 10/32 [pillow]\n",
      "   ------------ --------------------------- 10/32 [pillow]\n",
      "   ------------ --------------------------- 10/32 [pillow]\n",
      "   ------------ --------------------------- 10/32 [pillow]\n",
      "   ------------- -------------------------- 11/32 [opencv-python]\n",
      "   ------------- -------------------------- 11/32 [opencv-python]\n",
      "   ------------- -------------------------- 11/32 [opencv-python]\n",
      "   ------------- -------------------------- 11/32 [opencv-python]\n",
      "   --------------- ------------------------ 12/32 [networkx]\n",
      "   --------------- ------------------------ 12/32 [networkx]\n",
      "   --------------- ------------------------ 12/32 [networkx]\n",
      "   --------------- ------------------------ 12/32 [networkx]\n",
      "   --------------- ------------------------ 12/32 [networkx]\n",
      "   --------------- ------------------------ 12/32 [networkx]\n",
      "   --------------- ------------------------ 12/32 [networkx]\n",
      "   --------------- ------------------------ 12/32 [networkx]\n",
      "   --------------- ------------------------ 12/32 [networkx]\n",
      "   --------------- ------------------------ 12/32 [networkx]\n",
      "   --------------- ------------------------ 12/32 [networkx]\n",
      "   --------------- ------------------------ 12/32 [networkx]\n",
      "   --------------- ------------------------ 12/32 [networkx]\n",
      "   --------------- ------------------------ 12/32 [networkx]\n",
      "   --------------- ------------------------ 12/32 [networkx]\n",
      "   --------------- ------------------------ 12/32 [networkx]\n",
      "   --------------- ------------------------ 12/32 [networkx]\n",
      "   --------------- ------------------------ 12/32 [networkx]\n",
      "   --------------- ------------------------ 12/32 [networkx]\n",
      "   --------------- ------------------------ 12/32 [networkx]\n",
      "   --------------- ------------------------ 12/32 [networkx]\n",
      "   --------------- ------------------------ 12/32 [networkx]\n",
      "   --------------- ------------------------ 12/32 [networkx]\n",
      "   --------------- ------------------------ 12/32 [networkx]\n",
      "   --------------- ------------------------ 12/32 [networkx]\n",
      "   ------------------ --------------------- 15/32 [idna]\n",
      "   -------------------- ------------------- 16/32 [fsspec]\n",
      "   -------------------- ------------------- 16/32 [fsspec]\n",
      "   --------------------- ------------------ 17/32 [fonttools]\n",
      "   --------------------- ------------------ 17/32 [fonttools]\n",
      "   --------------------- ------------------ 17/32 [fonttools]\n",
      "   --------------------- ------------------ 17/32 [fonttools]\n",
      "   --------------------- ------------------ 17/32 [fonttools]\n",
      "   --------------------- ------------------ 17/32 [fonttools]\n",
      "   --------------------- ------------------ 17/32 [fonttools]\n",
      "   --------------------- ------------------ 17/32 [fonttools]\n",
      "   --------------------- ------------------ 17/32 [fonttools]\n",
      "   --------------------- ------------------ 17/32 [fonttools]\n",
      "   --------------------- ------------------ 17/32 [fonttools]\n",
      "   --------------------- ------------------ 17/32 [fonttools]\n",
      "   --------------------- ------------------ 17/32 [fonttools]\n",
      "   --------------------- ------------------ 17/32 [fonttools]\n",
      "   --------------------- ------------------ 17/32 [fonttools]\n",
      "   --------------------- ------------------ 17/32 [fonttools]\n",
      "   --------------------- ------------------ 17/32 [fonttools]\n",
      "   ---------------------- ----------------- 18/32 [filelock]\n",
      "   -------------------------- ------------- 21/32 [charset-normalizer]\n",
      "   ---------------------------- ----------- 23/32 [requests]\n",
      "   ------------------------------ --------- 24/32 [pandas]\n",
      "   ------------------------------ --------- 24/32 [pandas]\n",
      "   ------------------------------ --------- 24/32 [pandas]\n",
      "   ------------------------------ --------- 24/32 [pandas]\n",
      "   ------------------------------ --------- 24/32 [pandas]\n",
      "   ------------------------------ --------- 24/32 [pandas]\n",
      "   ------------------------------ --------- 24/32 [pandas]\n",
      "   ------------------------------ --------- 24/32 [pandas]\n",
      "   ------------------------------ --------- 24/32 [pandas]\n",
      "   ------------------------------ --------- 24/32 [pandas]\n",
      "   ------------------------------ --------- 24/32 [pandas]\n",
      "   ------------------------------ --------- 24/32 [pandas]\n",
      "   ------------------------------ --------- 24/32 [pandas]\n",
      "   ------------------------------ --------- 24/32 [pandas]\n",
      "   ------------------------------ --------- 24/32 [pandas]\n",
      "   ------------------------------ --------- 24/32 [pandas]\n",
      "   ------------------------------ --------- 24/32 [pandas]\n",
      "   ------------------------------ --------- 24/32 [pandas]\n",
      "   ------------------------------ --------- 24/32 [pandas]\n",
      "   ------------------------------ --------- 24/32 [pandas]\n",
      "   ------------------------------ --------- 24/32 [pandas]\n",
      "   ------------------------------ --------- 24/32 [pandas]\n",
      "   ------------------------------ --------- 24/32 [pandas]\n",
      "   ------------------------------ --------- 24/32 [pandas]\n",
      "   ------------------------------ --------- 24/32 [pandas]\n",
      "   ------------------------------ --------- 24/32 [pandas]\n",
      "   ------------------------------ --------- 24/32 [pandas]\n",
      "   ------------------------------ --------- 24/32 [pandas]\n",
      "   ------------------------------ --------- 24/32 [pandas]\n",
      "   ------------------------------ --------- 24/32 [pandas]\n",
      "   ------------------------------ --------- 24/32 [pandas]\n",
      "   ------------------------------ --------- 24/32 [pandas]\n",
      "   ------------------------------ --------- 24/32 [pandas]\n",
      "   ------------------------------ --------- 24/32 [pandas]\n",
      "   ------------------------------ --------- 24/32 [pandas]\n",
      "   ------------------------------ --------- 24/32 [pandas]\n",
      "   ------------------------------ --------- 24/32 [pandas]\n",
      "   ------------------------------ --------- 24/32 [pandas]\n",
      "   ------------------------------ --------- 24/32 [pandas]\n",
      "   ------------------------------ --------- 24/32 [pandas]\n",
      "   ------------------------------ --------- 24/32 [pandas]\n",
      "   ------------------------------ --------- 24/32 [pandas]\n",
      "   ------------------------------ --------- 24/32 [pandas]\n",
      "   ------------------------------ --------- 24/32 [pandas]\n",
      "   ------------------------------ --------- 24/32 [pandas]\n",
      "   ------------------------------ --------- 24/32 [pandas]\n",
      "   ------------------------------ --------- 24/32 [pandas]\n",
      "   ------------------------------ --------- 24/32 [pandas]\n",
      "   ------------------------------ --------- 24/32 [pandas]\n",
      "   ------------------------------ --------- 24/32 [pandas]\n",
      "   ------------------------------ --------- 24/32 [pandas]\n",
      "   ------------------------------ --------- 24/32 [pandas]\n",
      "   ------------------------------ --------- 24/32 [pandas]\n",
      "   ------------------------------ --------- 24/32 [pandas]\n",
      "   ------------------------------ --------- 24/32 [pandas]\n",
      "   ------------------------------ --------- 24/32 [pandas]\n",
      "   ------------------------------ --------- 24/32 [pandas]\n",
      "   ------------------------------ --------- 24/32 [pandas]\n",
      "   ------------------------------ --------- 24/32 [pandas]\n",
      "   ------------------------------ --------- 24/32 [pandas]\n",
      "   ------------------------------ --------- 24/32 [pandas]\n",
      "   ------------------------------ --------- 24/32 [pandas]\n",
      "   ------------------------------ --------- 24/32 [pandas]\n",
      "   ------------------------------ --------- 24/32 [pandas]\n",
      "   ------------------------------ --------- 24/32 [pandas]\n",
      "   ------------------------------ --------- 24/32 [pandas]\n",
      "   ------------------------------ --------- 24/32 [pandas]\n",
      "   ------------------------------ --------- 24/32 [pandas]\n",
      "   ------------------------------ --------- 24/32 [pandas]\n",
      "   ------------------------------ --------- 24/32 [pandas]\n",
      "   ------------------------------ --------- 24/32 [pandas]\n",
      "   ------------------------------ --------- 24/32 [pandas]\n",
      "   ------------------------------ --------- 24/32 [pandas]\n",
      "   ------------------------------ --------- 24/32 [pandas]\n",
      "   ------------------------------ --------- 24/32 [pandas]\n",
      "   ------------------------------ --------- 24/32 [pandas]\n",
      "   ------------------------------ --------- 24/32 [pandas]\n",
      "   ------------------------------ --------- 24/32 [pandas]\n",
      "   ------------------------------ --------- 24/32 [pandas]\n",
      "   ------------------------------ --------- 24/32 [pandas]\n",
      "   ------------------------------ --------- 24/32 [pandas]\n",
      "   ------------------------------- -------- 25/32 [matplotlib]\n",
      "   ------------------------------- -------- 25/32 [matplotlib]\n",
      "   ------------------------------- -------- 25/32 [matplotlib]\n",
      "   ------------------------------- -------- 25/32 [matplotlib]\n",
      "   ------------------------------- -------- 25/32 [matplotlib]\n",
      "   ------------------------------- -------- 25/32 [matplotlib]\n",
      "   ------------------------------- -------- 25/32 [matplotlib]\n",
      "   ------------------------------- -------- 25/32 [matplotlib]\n",
      "   ------------------------------- -------- 25/32 [matplotlib]\n",
      "   ------------------------------- -------- 25/32 [matplotlib]\n",
      "   ------------------------------- -------- 25/32 [matplotlib]\n",
      "   ------------------------------- -------- 25/32 [matplotlib]\n",
      "   ------------------------------- -------- 25/32 [matplotlib]\n",
      "   ------------------------------- -------- 25/32 [matplotlib]\n",
      "   ------------------------------- -------- 25/32 [matplotlib]\n",
      "   ------------------------------- -------- 25/32 [matplotlib]\n",
      "   ------------------------------- -------- 25/32 [matplotlib]\n",
      "   ------------------------------- -------- 25/32 [matplotlib]\n",
      "   ------------------------------- -------- 25/32 [matplotlib]\n",
      "   ------------------------------- -------- 25/32 [matplotlib]\n",
      "   ------------------------------- -------- 25/32 [matplotlib]\n",
      "   ------------------------------- -------- 25/32 [matplotlib]\n",
      "   ------------------------------- -------- 25/32 [matplotlib]\n",
      "   -------------------------------- ------- 26/32 [jinja2]\n",
      "   --------------------------------- ------ 27/32 [torch]\n",
      "   --------------------------------- ------ 27/32 [torch]\n",
      "   --------------------------------- ------ 27/32 [torch]\n",
      "   --------------------------------- ------ 27/32 [torch]\n",
      "   --------------------------------- ------ 27/32 [torch]\n",
      "   --------------------------------- ------ 27/32 [torch]\n",
      "   --------------------------------- ------ 27/32 [torch]\n",
      "   --------------------------------- ------ 27/32 [torch]\n",
      "   --------------------------------- ------ 27/32 [torch]\n",
      "   --------------------------------- ------ 27/32 [torch]\n",
      "   --------------------------------- ------ 27/32 [torch]\n",
      "   --------------------------------- ------ 27/32 [torch]\n",
      "   --------------------------------- ------ 27/32 [torch]\n",
      "   --------------------------------- ------ 27/32 [torch]\n",
      "   --------------------------------- ------ 27/32 [torch]\n",
      "   --------------------------------- ------ 27/32 [torch]\n",
      "   --------------------------------- ------ 27/32 [torch]\n",
      "   --------------------------------- ------ 27/32 [torch]\n",
      "   --------------------------------- ------ 27/32 [torch]\n",
      "   --------------------------------- ------ 27/32 [torch]\n",
      "   --------------------------------- ------ 27/32 [torch]\n",
      "   --------------------------------- ------ 27/32 [torch]\n",
      "   --------------------------------- ------ 27/32 [torch]\n",
      "   --------------------------------- ------ 27/32 [torch]\n",
      "   --------------------------------- ------ 27/32 [torch]\n",
      "   --------------------------------- ------ 27/32 [torch]\n",
      "   --------------------------------- ------ 27/32 [torch]\n",
      "   --------------------------------- ------ 27/32 [torch]\n",
      "   --------------------------------- ------ 27/32 [torch]\n",
      "   --------------------------------- ------ 27/32 [torch]\n",
      "   --------------------------------- ------ 27/32 [torch]\n",
      "   --------------------------------- ------ 27/32 [torch]\n",
      "   --------------------------------- ------ 27/32 [torch]\n",
      "   --------------------------------- ------ 27/32 [torch]\n",
      "   --------------------------------- ------ 27/32 [torch]\n",
      "   --------------------------------- ------ 27/32 [torch]\n",
      "   --------------------------------- ------ 27/32 [torch]\n",
      "   --------------------------------- ------ 27/32 [torch]\n",
      "   --------------------------------- ------ 27/32 [torch]\n",
      "   --------------------------------- ------ 27/32 [torch]\n",
      "   --------------------------------- ------ 27/32 [torch]\n",
      "   --------------------------------- ------ 27/32 [torch]\n",
      "   --------------------------------- ------ 27/32 [torch]\n",
      "   --------------------------------- ------ 27/32 [torch]\n",
      "   --------------------------------- ------ 27/32 [torch]\n",
      "   --------------------------------- ------ 27/32 [torch]\n",
      "   --------------------------------- ------ 27/32 [torch]\n",
      "   --------------------------------- ------ 27/32 [torch]\n",
      "   --------------------------------- ------ 27/32 [torch]\n",
      "   --------------------------------- ------ 27/32 [torch]\n",
      "   --------------------------------- ------ 27/32 [torch]\n",
      "   --------------------------------- ------ 27/32 [torch]\n",
      "   --------------------------------- ------ 27/32 [torch]\n",
      "   --------------------------------- ------ 27/32 [torch]\n",
      "   --------------------------------- ------ 27/32 [torch]\n",
      "   --------------------------------- ------ 27/32 [torch]\n",
      "   --------------------------------- ------ 27/32 [torch]\n",
      "   --------------------------------- ------ 27/32 [torch]\n",
      "   --------------------------------- ------ 27/32 [torch]\n",
      "   --------------------------------- ------ 27/32 [torch]\n",
      "   --------------------------------- ------ 27/32 [torch]\n",
      "   --------------------------------- ------ 27/32 [torch]\n",
      "   --------------------------------- ------ 27/32 [torch]\n",
      "   --------------------------------- ------ 27/32 [torch]\n",
      "   --------------------------------- ------ 27/32 [torch]\n",
      "   --------------------------------- ------ 27/32 [torch]\n",
      "   --------------------------------- ------ 27/32 [torch]\n",
      "   --------------------------------- ------ 27/32 [torch]\n",
      "   --------------------------------- ------ 27/32 [torch]\n",
      "   --------------------------------- ------ 27/32 [torch]\n",
      "   --------------------------------- ------ 27/32 [torch]\n",
      "   --------------------------------- ------ 27/32 [torch]\n",
      "   --------------------------------- ------ 27/32 [torch]\n",
      "   --------------------------------- ------ 27/32 [torch]\n",
      "   --------------------------------- ------ 27/32 [torch]\n",
      "   --------------------------------- ------ 27/32 [torch]\n",
      "   --------------------------------- ------ 27/32 [torch]\n",
      "   --------------------------------- ------ 27/32 [torch]\n",
      "   --------------------------------- ------ 27/32 [torch]\n",
      "   --------------------------------- ------ 27/32 [torch]\n",
      "   --------------------------------- ------ 27/32 [torch]\n",
      "   --------------------------------- ------ 27/32 [torch]\n",
      "   --------------------------------- ------ 27/32 [torch]\n",
      "   --------------------------------- ------ 27/32 [torch]\n",
      "   --------------------------------- ------ 27/32 [torch]\n",
      "   --------------------------------- ------ 27/32 [torch]\n",
      "   --------------------------------- ------ 27/32 [torch]\n",
      "   --------------------------------- ------ 27/32 [torch]\n",
      "   --------------------------------- ------ 27/32 [torch]\n",
      "   --------------------------------- ------ 27/32 [torch]\n",
      "   --------------------------------- ------ 27/32 [torch]\n",
      "   --------------------------------- ------ 27/32 [torch]\n",
      "   --------------------------------- ------ 27/32 [torch]\n",
      "   --------------------------------- ------ 27/32 [torch]\n",
      "   --------------------------------- ------ 27/32 [torch]\n",
      "   --------------------------------- ------ 27/32 [torch]\n",
      "   --------------------------------- ------ 27/32 [torch]\n",
      "   --------------------------------- ------ 27/32 [torch]\n",
      "   --------------------------------- ------ 27/32 [torch]\n",
      "   --------------------------------- ------ 27/32 [torch]\n",
      "   --------------------------------- ------ 27/32 [torch]\n",
      "   --------------------------------- ------ 27/32 [torch]\n",
      "   --------------------------------- ------ 27/32 [torch]\n",
      "   --------------------------------- ------ 27/32 [torch]\n",
      "   --------------------------------- ------ 27/32 [torch]\n",
      "   --------------------------------- ------ 27/32 [torch]\n",
      "   --------------------------------- ------ 27/32 [torch]\n",
      "   --------------------------------- ------ 27/32 [torch]\n",
      "   --------------------------------- ------ 27/32 [torch]\n",
      "   --------------------------------- ------ 27/32 [torch]\n",
      "   --------------------------------- ------ 27/32 [torch]\n",
      "   --------------------------------- ------ 27/32 [torch]\n",
      "   --------------------------------- ------ 27/32 [torch]\n",
      "   --------------------------------- ------ 27/32 [torch]\n",
      "   --------------------------------- ------ 27/32 [torch]\n",
      "   --------------------------------- ------ 27/32 [torch]\n",
      "   --------------------------------- ------ 27/32 [torch]\n",
      "   --------------------------------- ------ 27/32 [torch]\n",
      "   --------------------------------- ------ 27/32 [torch]\n",
      "   --------------------------------- ------ 27/32 [torch]\n",
      "   --------------------------------- ------ 27/32 [torch]\n",
      "   --------------------------------- ------ 27/32 [torch]\n",
      "   --------------------------------- ------ 27/32 [torch]\n",
      "   --------------------------------- ------ 27/32 [torch]\n",
      "   --------------------------------- ------ 27/32 [torch]\n",
      "   --------------------------------- ------ 27/32 [torch]\n",
      "   --------------------------------- ------ 27/32 [torch]\n",
      "   --------------------------------- ------ 27/32 [torch]\n",
      "   --------------------------------- ------ 27/32 [torch]\n",
      "   --------------------------------- ------ 27/32 [torch]\n",
      "   --------------------------------- ------ 27/32 [torch]\n",
      "   --------------------------------- ------ 27/32 [torch]\n",
      "   --------------------------------- ------ 27/32 [torch]\n",
      "   --------------------------------- ------ 27/32 [torch]\n",
      "   --------------------------------- ------ 27/32 [torch]\n",
      "   --------------------------------- ------ 27/32 [torch]\n",
      "   --------------------------------- ------ 27/32 [torch]\n",
      "   --------------------------------- ------ 27/32 [torch]\n",
      "   --------------------------------- ------ 27/32 [torch]\n",
      "   --------------------------------- ------ 27/32 [torch]\n",
      "   --------------------------------- ------ 27/32 [torch]\n",
      "   --------------------------------- ------ 27/32 [torch]\n",
      "   --------------------------------- ------ 27/32 [torch]\n",
      "   --------------------------------- ------ 27/32 [torch]\n",
      "   --------------------------------- ------ 27/32 [torch]\n",
      "   --------------------------------- ------ 27/32 [torch]\n",
      "   --------------------------------- ------ 27/32 [torch]\n",
      "   --------------------------------- ------ 27/32 [torch]\n",
      "   --------------------------------- ------ 27/32 [torch]\n",
      "   --------------------------------- ------ 27/32 [torch]\n",
      "   --------------------------------- ------ 27/32 [torch]\n",
      "   --------------------------------- ------ 27/32 [torch]\n",
      "   --------------------------------- ------ 27/32 [torch]\n",
      "   --------------------------------- ------ 27/32 [torch]\n",
      "   --------------------------------- ------ 27/32 [torch]\n",
      "   --------------------------------- ------ 27/32 [torch]\n",
      "   --------------------------------- ------ 27/32 [torch]\n",
      "   --------------------------------- ------ 27/32 [torch]\n",
      "   --------------------------------- ------ 27/32 [torch]\n",
      "   --------------------------------- ------ 27/32 [torch]\n",
      "   --------------------------------- ------ 27/32 [torch]\n",
      "   --------------------------------- ------ 27/32 [torch]\n",
      "   --------------------------------- ------ 27/32 [torch]\n",
      "   --------------------------------- ------ 27/32 [torch]\n",
      "   --------------------------------- ------ 27/32 [torch]\n",
      "   --------------------------------- ------ 27/32 [torch]\n",
      "   --------------------------------- ------ 27/32 [torch]\n",
      "   --------------------------------- ------ 27/32 [torch]\n",
      "   --------------------------------- ------ 27/32 [torch]\n",
      "   --------------------------------- ------ 27/32 [torch]\n",
      "   --------------------------------- ------ 27/32 [torch]\n",
      "   --------------------------------- ------ 27/32 [torch]\n",
      "   --------------------------------- ------ 27/32 [torch]\n",
      "   --------------------------------- ------ 27/32 [torch]\n",
      "   --------------------------------- ------ 27/32 [torch]\n",
      "   --------------------------------- ------ 27/32 [torch]\n",
      "   --------------------------------- ------ 27/32 [torch]\n",
      "   --------------------------------- ------ 27/32 [torch]\n",
      "   --------------------------------- ------ 27/32 [torch]\n",
      "   --------------------------------- ------ 27/32 [torch]\n",
      "   --------------------------------- ------ 27/32 [torch]\n",
      "   --------------------------------- ------ 27/32 [torch]\n",
      "   --------------------------------- ------ 27/32 [torch]\n",
      "   --------------------------------- ------ 27/32 [torch]\n",
      "   --------------------------------- ------ 27/32 [torch]\n",
      "   --------------------------------- ------ 27/32 [torch]\n",
      "   --------------------------------- ------ 27/32 [torch]\n",
      "   --------------------------------- ------ 27/32 [torch]\n",
      "   --------------------------------- ------ 27/32 [torch]\n",
      "   --------------------------------- ------ 27/32 [torch]\n",
      "   --------------------------------- ------ 27/32 [torch]\n",
      "   --------------------------------- ------ 27/32 [torch]\n",
      "   --------------------------------- ------ 27/32 [torch]\n",
      "   --------------------------------- ------ 27/32 [torch]\n",
      "   --------------------------------- ------ 27/32 [torch]\n",
      "   --------------------------------- ------ 27/32 [torch]\n",
      "   --------------------------------- ------ 27/32 [torch]\n",
      "   --------------------------------- ------ 27/32 [torch]\n",
      "   --------------------------------- ------ 27/32 [torch]\n",
      "   --------------------------------- ------ 27/32 [torch]\n",
      "   --------------------------------- ------ 27/32 [torch]\n",
      "   --------------------------------- ------ 27/32 [torch]\n",
      "   --------------------------------- ------ 27/32 [torch]\n",
      "   --------------------------------- ------ 27/32 [torch]\n",
      "   --------------------------------- ------ 27/32 [torch]\n",
      "   --------------------------------- ------ 27/32 [torch]\n",
      "   --------------------------------- ------ 27/32 [torch]\n",
      "   --------------------------------- ------ 27/32 [torch]\n",
      "   --------------------------------- ------ 27/32 [torch]\n",
      "   --------------------------------- ------ 27/32 [torch]\n",
      "   --------------------------------- ------ 27/32 [torch]\n",
      "   --------------------------------- ------ 27/32 [torch]\n",
      "   --------------------------------- ------ 27/32 [torch]\n",
      "   --------------------------------- ------ 27/32 [torch]\n",
      "   --------------------------------- ------ 27/32 [torch]\n",
      "   --------------------------------- ------ 27/32 [torch]\n",
      "   --------------------------------- ------ 27/32 [torch]\n",
      "   --------------------------------- ------ 27/32 [torch]\n",
      "   --------------------------------- ------ 27/32 [torch]\n",
      "   --------------------------------- ------ 27/32 [torch]\n",
      "   --------------------------------- ------ 27/32 [torch]\n",
      "   --------------------------------- ------ 27/32 [torch]\n",
      "   --------------------------------- ------ 27/32 [torch]\n",
      "   --------------------------------- ------ 27/32 [torch]\n",
      "   --------------------------------- ------ 27/32 [torch]\n",
      "   --------------------------------- ------ 27/32 [torch]\n",
      "   --------------------------------- ------ 27/32 [torch]\n",
      "   --------------------------------- ------ 27/32 [torch]\n",
      "   --------------------------------- ------ 27/32 [torch]\n",
      "   --------------------------------- ------ 27/32 [torch]\n",
      "   --------------------------------- ------ 27/32 [torch]\n",
      "   --------------------------------- ------ 27/32 [torch]\n",
      "   --------------------------------- ------ 27/32 [torch]\n",
      "   --------------------------------- ------ 27/32 [torch]\n",
      "   --------------------------------- ------ 27/32 [torch]\n",
      "   --------------------------------- ------ 27/32 [torch]\n",
      "   --------------------------------- ------ 27/32 [torch]\n",
      "   --------------------------------- ------ 27/32 [torch]\n",
      "   --------------------------------- ------ 27/32 [torch]\n",
      "   --------------------------------- ------ 27/32 [torch]\n",
      "   --------------------------------- ------ 27/32 [torch]\n",
      "   --------------------------------- ------ 27/32 [torch]\n",
      "   --------------------------------- ------ 27/32 [torch]\n",
      "   --------------------------------- ------ 27/32 [torch]\n",
      "   --------------------------------- ------ 27/32 [torch]\n",
      "   --------------------------------- ------ 27/32 [torch]\n",
      "   --------------------------------- ------ 27/32 [torch]\n",
      "   --------------------------------- ------ 27/32 [torch]\n",
      "   --------------------------------- ------ 27/32 [torch]\n",
      "   --------------------------------- ------ 27/32 [torch]\n",
      "   --------------------------------- ------ 27/32 [torch]\n",
      "   --------------------------------- ------ 27/32 [torch]\n",
      "   --------------------------------- ------ 27/32 [torch]\n",
      "   --------------------------------- ------ 27/32 [torch]\n",
      "   --------------------------------- ------ 27/32 [torch]\n",
      "   --------------------------------- ------ 27/32 [torch]\n",
      "   --------------------------------- ------ 27/32 [torch]\n",
      "   --------------------------------- ------ 27/32 [torch]\n",
      "   --------------------------------- ------ 27/32 [torch]\n",
      "   --------------------------------- ------ 27/32 [torch]\n",
      "   --------------------------------- ------ 27/32 [torch]\n",
      "   --------------------------------- ------ 27/32 [torch]\n",
      "   --------------------------------- ------ 27/32 [torch]\n",
      "   --------------------------------- ------ 27/32 [torch]\n",
      "   --------------------------------- ------ 27/32 [torch]\n",
      "   --------------------------------- ------ 27/32 [torch]\n",
      "   --------------------------------- ------ 27/32 [torch]\n",
      "   --------------------------------- ------ 27/32 [torch]\n",
      "   --------------------------------- ------ 27/32 [torch]\n",
      "   --------------------------------- ------ 27/32 [torch]\n",
      "   ----------------------------------- ---- 28/32 [seaborn]\n",
      "   ----------------------------------- ---- 28/32 [seaborn]\n",
      "   ----------------------------------- ---- 28/32 [seaborn]\n",
      "   ----------------------------------- ---- 28/32 [seaborn]\n",
      "   ------------------------------------- -- 30/32 [torchvision]\n",
      "   ------------------------------------- -- 30/32 [torchvision]\n",
      "   ------------------------------------- -- 30/32 [torchvision]\n",
      "   ------------------------------------- -- 30/32 [torchvision]\n",
      "   ------------------------------------- -- 30/32 [torchvision]\n",
      "   ------------------------------------- -- 30/32 [torchvision]\n",
      "   ------------------------------------- -- 30/32 [torchvision]\n",
      "   ------------------------------------- -- 30/32 [torchvision]\n",
      "   ------------------------------------- -- 30/32 [torchvision]\n",
      "   ------------------------------------- -- 30/32 [torchvision]\n",
      "   ------------------------------------- -- 30/32 [torchvision]\n",
      "   -------------------------------------- - 31/32 [ultralytics]\n",
      "   -------------------------------------- - 31/32 [ultralytics]\n",
      "   -------------------------------------- - 31/32 [ultralytics]\n",
      "   -------------------------------------- - 31/32 [ultralytics]\n",
      "   -------------------------------------- - 31/32 [ultralytics]\n",
      "   -------------------------------------- - 31/32 [ultralytics]\n",
      "   -------------------------------------- - 31/32 [ultralytics]\n",
      "   -------------------------------------- - 31/32 [ultralytics]\n",
      "   -------------------------------------- - 31/32 [ultralytics]\n",
      "   ---------------------------------------- 32/32 [ultralytics]\n",
      "\n",
      "Successfully installed MarkupSafe-3.0.2 certifi-2025.4.26 charset-normalizer-3.4.1 contourpy-1.3.2 cycler-0.12.1 filelock-3.18.0 fonttools-4.57.0 fsspec-2025.3.2 idna-3.10 jinja2-3.1.6 kiwisolver-1.4.8 matplotlib-3.10.1 mpmath-1.3.0 networkx-3.4.2 opencv-python-4.11.0.86 pandas-2.2.3 pillow-11.2.1 py-cpuinfo-9.0.0 pyparsing-3.2.3 pytz-2025.2 pyyaml-6.0.2 requests-2.32.3 seaborn-0.13.2 setuptools-80.0.0 sympy-1.14.0 torch-2.7.0 torchvision-0.22.0 tqdm-4.67.1 tzdata-2025.2 ultralytics-8.3.120 ultralytics-thop-2.0.14 urllib3-2.4.0\n",
      "Creating new Ultralytics Settings v0.0.6 file  \n",
      "View Ultralytics Settings with 'yolo settings' or at 'C:\\Users\\Maxi\\AppData\\Roaming\\Ultralytics\\settings.json'\n",
      "Update Settings with 'yolo settings key=value', i.e. 'yolo settings runs_dir=path/to/dir'. For help see https://docs.ultralytics.com/quickstart/#ultralytics-settings.\n",
      "Ultralytics 8.3.120  Python-3.13.3 torch-2.7.0+cpu CPU (AMD Ryzen 5 2600 Six-Core Processor)\n",
      "\u001b[34m\u001b[1mengine\\trainer: \u001b[0mtask=detect, mode=train, model=yolov8n.pt, data=data.yaml, epochs=50, time=None, patience=100, batch=16, imgsz=640, save=True, save_period=-1, cache=False, device=None, workers=8, project=runs/train, name=ripe_only, exist_ok=False, pretrained=True, optimizer=auto, verbose=True, seed=0, deterministic=True, single_cls=False, rect=False, cos_lr=False, close_mosaic=10, resume=False, amp=True, fraction=1.0, profile=False, freeze=None, multi_scale=False, overlap_mask=True, mask_ratio=4, dropout=0.0, val=True, split=val, save_json=False, conf=None, iou=0.7, max_det=300, half=False, dnn=False, plots=True, source=None, vid_stride=1, stream_buffer=False, visualize=False, augment=True, agnostic_nms=False, classes=None, retina_masks=False, embed=None, show=False, save_frames=False, save_txt=False, save_conf=False, save_crop=False, show_labels=True, show_conf=True, show_boxes=True, line_width=None, format=torchscript, keras=False, optimize=False, int8=False, dynamic=False, simplify=True, opset=None, workspace=None, nms=False, lr0=0.01, lrf=0.01, momentum=0.937, weight_decay=0.0005, warmup_epochs=3.0, warmup_momentum=0.8, warmup_bias_lr=0.1, box=7.5, cls=0.5, dfl=1.5, pose=12.0, kobj=1.0, nbs=64, hsv_h=0.015, hsv_s=0.7, hsv_v=0.4, degrees=0.0, translate=0.1, scale=0.5, shear=0.0, perspective=0.0, flipud=0.0, fliplr=0.5, bgr=0.0, mosaic=1.0, mixup=0.0, cutmix=0.0, copy_paste=0.0, copy_paste_mode=flip, auto_augment=randaugment, erasing=0.4, cfg=None, tracker=botsort.yaml, save_dir=runs\\train\\ripe_only\n",
      "Downloading https://ultralytics.com/assets/Arial.ttf to 'C:\\Users\\Maxi\\AppData\\Roaming\\Ultralytics\\Arial.ttf'...\n"
     ]
    },
    {
     "name": "stderr",
     "output_type": "stream",
     "text": [
      "100%|██████████| 755k/755k [00:00<00:00, 7.30MB/s]"
     ]
    },
    {
     "name": "stdout",
     "output_type": "stream",
     "text": [
      "Overriding model.yaml nc=80 with nc=1\n",
      "\n",
      "                   from  n    params  module                                       arguments                     \n",
      "  0                  -1  1       464  ultralytics.nn.modules.conv.Conv             [3, 16, 3, 2]                 \n",
      "  1                  -1  1      4672  ultralytics.nn.modules.conv.Conv             [16, 32, 3, 2]                \n",
      "  2                  -1  1      7360  ultralytics.nn.modules.block.C2f             [32, 32, 1, True]             \n",
      "  3                  -1  1     18560  ultralytics.nn.modules.conv.Conv             [32, 64, 3, 2]                \n",
      "  4                  -1  2     49664  ultralytics.nn.modules.block.C2f             [64, 64, 2, True]             \n",
      "  5                  -1  1     73984  ultralytics.nn.modules.conv.Conv             [64, 128, 3, 2]               \n",
      "  6                  -1  2    197632  ultralytics.nn.modules.block.C2f             [128, 128, 2, True]           \n",
      "  7                  -1  1    295424  ultralytics.nn.modules.conv.Conv             [128, 256, 3, 2]              \n",
      "  8                  -1  1    460288  ultralytics.nn.modules.block.C2f             [256, 256, 1, True]           \n",
      "  9                  -1  1    164608  ultralytics.nn.modules.block.SPPF            [256, 256, 5]                 \n",
      " 10                  -1  1         0  torch.nn.modules.upsampling.Upsample         [None, 2, 'nearest']          \n",
      " 11             [-1, 6]  1         0  ultralytics.nn.modules.conv.Concat           [1]                           \n",
      " 12                  -1  1    148224  ultralytics.nn.modules.block.C2f             [384, 128, 1]                 \n",
      " 13                  -1  1         0  torch.nn.modules.upsampling.Upsample         [None, 2, 'nearest']          \n",
      " 14             [-1, 4]  1         0  ultralytics.nn.modules.conv.Concat           [1]                           \n",
      " 15                  -1  1     37248  ultralytics.nn.modules.block.C2f             [192, 64, 1]                  \n",
      " 16                  -1  1     36992  ultralytics.nn.modules.conv.Conv             [64, 64, 3, 2]                \n",
      " 17            [-1, 12]  1         0  ultralytics.nn.modules.conv.Concat           [1]                           \n",
      " 18                  -1  1    123648  ultralytics.nn.modules.block.C2f             [192, 128, 1]                 \n",
      " 19                  -1  1    147712  ultralytics.nn.modules.conv.Conv             [128, 128, 3, 2]              \n",
      " 20             [-1, 9]  1         0  ultralytics.nn.modules.conv.Concat           [1]                           \n",
      " 21                  -1  1    493056  ultralytics.nn.modules.block.C2f             [384, 256, 1]                 \n"
     ]
    },
    {
     "name": "stderr",
     "output_type": "stream",
     "text": [
      "\n"
     ]
    },
    {
     "name": "stdout",
     "output_type": "stream",
     "text": [
      " 22        [15, 18, 21]  1    751507  ultralytics.nn.modules.head.Detect           [1, [64, 128, 256]]           \n",
      "Model summary: 129 layers, 3,011,043 parameters, 3,011,027 gradients, 8.2 GFLOPs\n",
      "\n",
      "Transferred 319/355 items from pretrained weights\n",
      "Freezing layer 'model.22.dfl.conv.weight'\n",
      "\u001b[34m\u001b[1mtrain: \u001b[0mFast image access  (ping: 0.20.0 ms, read: 2.00.8 MB/s, size: 12.1 KB)\n"
     ]
    },
    {
     "name": "stderr",
     "output_type": "stream",
     "text": [
      "\u001b[34m\u001b[1mtrain: \u001b[0mScanning C:\\Users\\Maxi\\Documents\\Forschsem\\Erdbeeren\\Riseholme-2021\\labels\\train... 369 images, 0 backgrounds, 0 corrupt: 100%|██████████| 369/369 [00:00<00:00, 484.80it/s]\n"
     ]
    },
    {
     "name": "stdout",
     "output_type": "stream",
     "text": [
      "\u001b[34m\u001b[1mtrain: \u001b[0mNew cache created: C:\\Users\\Maxi\\Documents\\Forschsem\\Erdbeeren\\Riseholme-2021\\labels\\train.cache\n",
      "\u001b[34m\u001b[1mval: \u001b[0mFast image access  (ping: 0.20.0 ms, read: 1.00.9 MB/s, size: 7.7 KB)\n"
     ]
    },
    {
     "name": "stderr",
     "output_type": "stream",
     "text": [
      "c:\\Users\\Maxi\\anaconda3\\envs\\Erdbeerenv\\Lib\\site-packages\\torch\\utils\\data\\dataloader.py:665: UserWarning: 'pin_memory' argument is set as true but no accelerator is found, then device pinned memory won't be used.\n",
      "  warnings.warn(warn_msg)\n",
      "\u001b[34m\u001b[1mval: \u001b[0mScanning C:\\Users\\Maxi\\Documents\\Forschsem\\Erdbeeren\\Riseholme-2021\\labels\\val... 93 images, 0 backgrounds, 0 corrupt: 100%|██████████| 93/93 [00:00<00:00, 542.94it/s]"
     ]
    },
    {
     "name": "stdout",
     "output_type": "stream",
     "text": [
      "\u001b[34m\u001b[1mval: \u001b[0mNew cache created: C:\\Users\\Maxi\\Documents\\Forschsem\\Erdbeeren\\Riseholme-2021\\labels\\val.cache\n"
     ]
    },
    {
     "name": "stderr",
     "output_type": "stream",
     "text": [
      "\n",
      "c:\\Users\\Maxi\\anaconda3\\envs\\Erdbeerenv\\Lib\\site-packages\\torch\\utils\\data\\dataloader.py:665: UserWarning: 'pin_memory' argument is set as true but no accelerator is found, then device pinned memory won't be used.\n",
      "  warnings.warn(warn_msg)\n"
     ]
    },
    {
     "name": "stdout",
     "output_type": "stream",
     "text": [
      "Plotting labels to runs\\train\\ripe_only\\labels.jpg... \n",
      "\u001b[34m\u001b[1moptimizer:\u001b[0m 'optimizer=auto' found, ignoring 'lr0=0.01' and 'momentum=0.937' and determining best 'optimizer', 'lr0' and 'momentum' automatically... \n",
      "\u001b[34m\u001b[1moptimizer:\u001b[0m AdamW(lr=0.002, momentum=0.9) with parameter groups 57 weight(decay=0.0), 64 weight(decay=0.0005), 63 bias(decay=0.0)\n",
      "Image sizes 640 train, 640 val\n",
      "Using 0 dataloader workers\n",
      "Logging results to \u001b[1mruns\\train\\ripe_only\u001b[0m\n",
      "Starting training for 50 epochs...\n",
      "\n",
      "      Epoch    GPU_mem   box_loss   cls_loss   dfl_loss  Instances       Size\n"
     ]
    },
    {
     "name": "stderr",
     "output_type": "stream",
     "text": [
      "       1/50         0G     0.3538       1.52       1.08          3        640: 100%|██████████| 24/24 [02:18<00:00,  5.76s/it]\n",
      "                 Class     Images  Instances      Box(P          R      mAP50  mAP50-95): 100%|██████████| 3/3 [00:12<00:00,  4.07s/it]"
     ]
    },
    {
     "name": "stdout",
     "output_type": "stream",
     "text": [
      "                   all         93         93      0.973      0.394      0.887      0.488\n"
     ]
    },
    {
     "name": "stderr",
     "output_type": "stream",
     "text": [
      "\n"
     ]
    },
    {
     "name": "stdout",
     "output_type": "stream",
     "text": [
      "\n",
      "      Epoch    GPU_mem   box_loss   cls_loss   dfl_loss  Instances       Size\n"
     ]
    },
    {
     "name": "stderr",
     "output_type": "stream",
     "text": [
      "       2/50         0G     0.2114     0.6413     0.9492          4        640: 100%|██████████| 24/24 [02:04<00:00,  5.19s/it]\n",
      "                 Class     Images  Instances      Box(P          R      mAP50  mAP50-95): 100%|██████████| 3/3 [00:11<00:00,  3.97s/it]"
     ]
    },
    {
     "name": "stdout",
     "output_type": "stream",
     "text": [
      "                   all         93         93      0.937          1      0.967       0.96\n"
     ]
    },
    {
     "name": "stderr",
     "output_type": "stream",
     "text": [
      "\n"
     ]
    },
    {
     "name": "stdout",
     "output_type": "stream",
     "text": [
      "\n",
      "      Epoch    GPU_mem   box_loss   cls_loss   dfl_loss  Instances       Size\n"
     ]
    },
    {
     "name": "stderr",
     "output_type": "stream",
     "text": [
      "       3/50         0G     0.2389     0.6455     0.9694          2        640: 100%|██████████| 24/24 [02:06<00:00,  5.25s/it]\n",
      "                 Class     Images  Instances      Box(P          R      mAP50  mAP50-95): 100%|██████████| 3/3 [00:11<00:00,  3.90s/it]"
     ]
    },
    {
     "name": "stdout",
     "output_type": "stream",
     "text": [
      "                   all         93         93      0.826      0.989      0.978      0.898\n"
     ]
    },
    {
     "name": "stderr",
     "output_type": "stream",
     "text": [
      "\n"
     ]
    },
    {
     "name": "stdout",
     "output_type": "stream",
     "text": [
      "\n",
      "      Epoch    GPU_mem   box_loss   cls_loss   dfl_loss  Instances       Size\n"
     ]
    },
    {
     "name": "stderr",
     "output_type": "stream",
     "text": [
      "       4/50         0G     0.2279     0.5424     0.9384          4        640: 100%|██████████| 24/24 [02:07<00:00,  5.30s/it]\n",
      "                 Class     Images  Instances      Box(P          R      mAP50  mAP50-95): 100%|██████████| 3/3 [00:10<00:00,  3.66s/it]"
     ]
    },
    {
     "name": "stdout",
     "output_type": "stream",
     "text": [
      "                   all         93         93       0.99          1      0.995      0.878\n"
     ]
    },
    {
     "name": "stderr",
     "output_type": "stream",
     "text": [
      "\n"
     ]
    },
    {
     "name": "stdout",
     "output_type": "stream",
     "text": [
      "\n",
      "      Epoch    GPU_mem   box_loss   cls_loss   dfl_loss  Instances       Size\n"
     ]
    },
    {
     "name": "stderr",
     "output_type": "stream",
     "text": [
      "       5/50         0G     0.2405     0.4997     0.9546          4        640: 100%|██████████| 24/24 [02:05<00:00,  5.22s/it]\n",
      "                 Class     Images  Instances      Box(P          R      mAP50  mAP50-95): 100%|██████████| 3/3 [00:10<00:00,  3.62s/it]"
     ]
    },
    {
     "name": "stdout",
     "output_type": "stream",
     "text": [
      "                   all         93         93      0.751      0.946      0.893       0.72\n"
     ]
    },
    {
     "name": "stderr",
     "output_type": "stream",
     "text": [
      "\n"
     ]
    },
    {
     "name": "stdout",
     "output_type": "stream",
     "text": [
      "\n",
      "      Epoch    GPU_mem   box_loss   cls_loss   dfl_loss  Instances       Size\n"
     ]
    },
    {
     "name": "stderr",
     "output_type": "stream",
     "text": [
      "       6/50         0G     0.2096     0.4527     0.9506          4        640: 100%|██████████| 24/24 [02:06<00:00,  5.28s/it]\n",
      "                 Class     Images  Instances      Box(P          R      mAP50  mAP50-95): 100%|██████████| 3/3 [00:12<00:00,  4.31s/it]"
     ]
    },
    {
     "name": "stdout",
     "output_type": "stream",
     "text": [
      "                   all         93         93      0.852      0.931      0.908      0.517\n"
     ]
    },
    {
     "name": "stderr",
     "output_type": "stream",
     "text": [
      "\n"
     ]
    },
    {
     "name": "stdout",
     "output_type": "stream",
     "text": [
      "\n",
      "      Epoch    GPU_mem   box_loss   cls_loss   dfl_loss  Instances       Size\n"
     ]
    },
    {
     "name": "stderr",
     "output_type": "stream",
     "text": [
      "       7/50         0G      0.194     0.4096      0.931          2        640: 100%|██████████| 24/24 [02:03<00:00,  5.16s/it]\n",
      "                 Class     Images  Instances      Box(P          R      mAP50  mAP50-95): 100%|██████████| 3/3 [00:10<00:00,  3.56s/it]"
     ]
    },
    {
     "name": "stdout",
     "output_type": "stream",
     "text": [
      "                   all         93         93      0.974      0.989       0.99      0.969\n"
     ]
    },
    {
     "name": "stderr",
     "output_type": "stream",
     "text": [
      "\n"
     ]
    },
    {
     "name": "stdout",
     "output_type": "stream",
     "text": [
      "\n",
      "      Epoch    GPU_mem   box_loss   cls_loss   dfl_loss  Instances       Size\n"
     ]
    },
    {
     "name": "stderr",
     "output_type": "stream",
     "text": [
      "       8/50         0G     0.2028     0.3833     0.9116          4        640: 100%|██████████| 24/24 [02:06<00:00,  5.27s/it]\n",
      "                 Class     Images  Instances      Box(P          R      mAP50  mAP50-95): 100%|██████████| 3/3 [00:10<00:00,  3.66s/it]"
     ]
    },
    {
     "name": "stdout",
     "output_type": "stream",
     "text": [
      "                   all         93         93      0.995          1      0.995      0.992\n"
     ]
    },
    {
     "name": "stderr",
     "output_type": "stream",
     "text": [
      "\n"
     ]
    },
    {
     "name": "stdout",
     "output_type": "stream",
     "text": [
      "\n",
      "      Epoch    GPU_mem   box_loss   cls_loss   dfl_loss  Instances       Size\n"
     ]
    },
    {
     "name": "stderr",
     "output_type": "stream",
     "text": [
      "       9/50         0G     0.1851     0.3653     0.9297          4        640: 100%|██████████| 24/24 [02:10<00:00,  5.44s/it]\n",
      "                 Class     Images  Instances      Box(P          R      mAP50  mAP50-95): 100%|██████████| 3/3 [00:11<00:00,  3.72s/it]"
     ]
    },
    {
     "name": "stdout",
     "output_type": "stream",
     "text": [
      "                   all         93         93      0.997          1      0.995      0.995\n"
     ]
    },
    {
     "name": "stderr",
     "output_type": "stream",
     "text": [
      "\n"
     ]
    },
    {
     "name": "stdout",
     "output_type": "stream",
     "text": [
      "\n",
      "      Epoch    GPU_mem   box_loss   cls_loss   dfl_loss  Instances       Size\n"
     ]
    },
    {
     "name": "stderr",
     "output_type": "stream",
     "text": [
      "      10/50         0G     0.1643     0.3269     0.9215          4        640: 100%|██████████| 24/24 [02:06<00:00,  5.27s/it]\n",
      "                 Class     Images  Instances      Box(P          R      mAP50  mAP50-95): 100%|██████████| 3/3 [00:11<00:00,  3.74s/it]"
     ]
    },
    {
     "name": "stdout",
     "output_type": "stream",
     "text": [
      "                   all         93         93      0.996          1      0.995      0.994\n"
     ]
    },
    {
     "name": "stderr",
     "output_type": "stream",
     "text": [
      "\n"
     ]
    },
    {
     "name": "stdout",
     "output_type": "stream",
     "text": [
      "\n",
      "      Epoch    GPU_mem   box_loss   cls_loss   dfl_loss  Instances       Size\n"
     ]
    },
    {
     "name": "stderr",
     "output_type": "stream",
     "text": [
      "      11/50         0G     0.1531     0.3119     0.9204          4        640: 100%|██████████| 24/24 [02:05<00:00,  5.22s/it]\n",
      "                 Class     Images  Instances      Box(P          R      mAP50  mAP50-95): 100%|██████████| 3/3 [00:11<00:00,  3.76s/it]"
     ]
    },
    {
     "name": "stdout",
     "output_type": "stream",
     "text": [
      "                   all         93         93      0.979          1      0.995      0.995\n"
     ]
    },
    {
     "name": "stderr",
     "output_type": "stream",
     "text": [
      "\n"
     ]
    },
    {
     "name": "stdout",
     "output_type": "stream",
     "text": [
      "\n",
      "      Epoch    GPU_mem   box_loss   cls_loss   dfl_loss  Instances       Size\n"
     ]
    },
    {
     "name": "stderr",
     "output_type": "stream",
     "text": [
      "      12/50         0G     0.1656     0.3087     0.9231          4        640: 100%|██████████| 24/24 [02:08<00:00,  5.37s/it]\n",
      "                 Class     Images  Instances      Box(P          R      mAP50  mAP50-95): 100%|██████████| 3/3 [00:11<00:00,  3.79s/it]"
     ]
    },
    {
     "name": "stdout",
     "output_type": "stream",
     "text": [
      "                   all         93         93      0.994          1      0.995      0.995\n"
     ]
    },
    {
     "name": "stderr",
     "output_type": "stream",
     "text": [
      "\n"
     ]
    },
    {
     "name": "stdout",
     "output_type": "stream",
     "text": [
      "\n",
      "      Epoch    GPU_mem   box_loss   cls_loss   dfl_loss  Instances       Size\n"
     ]
    },
    {
     "name": "stderr",
     "output_type": "stream",
     "text": [
      "      13/50         0G     0.1595     0.3238     0.9259          2        640: 100%|██████████| 24/24 [02:12<00:00,  5.54s/it]\n",
      "                 Class     Images  Instances      Box(P          R      mAP50  mAP50-95): 100%|██████████| 3/3 [00:12<00:00,  4.01s/it]"
     ]
    },
    {
     "name": "stdout",
     "output_type": "stream",
     "text": [
      "                   all         93         93      0.989          1      0.995      0.995\n"
     ]
    },
    {
     "name": "stderr",
     "output_type": "stream",
     "text": [
      "\n"
     ]
    },
    {
     "name": "stdout",
     "output_type": "stream",
     "text": [
      "\n",
      "      Epoch    GPU_mem   box_loss   cls_loss   dfl_loss  Instances       Size\n"
     ]
    },
    {
     "name": "stderr",
     "output_type": "stream",
     "text": [
      "      14/50         0G     0.1512     0.2803     0.9133          4        640: 100%|██████████| 24/24 [02:08<00:00,  5.36s/it]\n",
      "                 Class     Images  Instances      Box(P          R      mAP50  mAP50-95): 100%|██████████| 3/3 [00:13<00:00,  4.36s/it]"
     ]
    },
    {
     "name": "stdout",
     "output_type": "stream",
     "text": [
      "                   all         93         93      0.999          1      0.995      0.986\n"
     ]
    },
    {
     "name": "stderr",
     "output_type": "stream",
     "text": [
      "\n"
     ]
    },
    {
     "name": "stdout",
     "output_type": "stream",
     "text": [
      "\n",
      "      Epoch    GPU_mem   box_loss   cls_loss   dfl_loss  Instances       Size\n"
     ]
    },
    {
     "name": "stderr",
     "output_type": "stream",
     "text": [
      "      15/50         0G     0.1354     0.2578     0.9093          2        640: 100%|██████████| 24/24 [02:05<00:00,  5.23s/it]\n",
      "                 Class     Images  Instances      Box(P          R      mAP50  mAP50-95): 100%|██████████| 3/3 [00:11<00:00,  3.74s/it]"
     ]
    },
    {
     "name": "stdout",
     "output_type": "stream",
     "text": [
      "                   all         93         93      0.998          1      0.995      0.988\n"
     ]
    },
    {
     "name": "stderr",
     "output_type": "stream",
     "text": [
      "\n"
     ]
    },
    {
     "name": "stdout",
     "output_type": "stream",
     "text": [
      "\n",
      "      Epoch    GPU_mem   box_loss   cls_loss   dfl_loss  Instances       Size\n"
     ]
    },
    {
     "name": "stderr",
     "output_type": "stream",
     "text": [
      "      16/50         0G     0.1323     0.2653     0.8968          4        640: 100%|██████████| 24/24 [01:59<00:00,  4.97s/it]\n",
      "                 Class     Images  Instances      Box(P          R      mAP50  mAP50-95): 100%|██████████| 3/3 [00:11<00:00,  3.84s/it]"
     ]
    },
    {
     "name": "stdout",
     "output_type": "stream",
     "text": [
      "                   all         93         93      0.999          1      0.995      0.995\n"
     ]
    },
    {
     "name": "stderr",
     "output_type": "stream",
     "text": [
      "\n"
     ]
    },
    {
     "name": "stdout",
     "output_type": "stream",
     "text": [
      "\n",
      "      Epoch    GPU_mem   box_loss   cls_loss   dfl_loss  Instances       Size\n"
     ]
    },
    {
     "name": "stderr",
     "output_type": "stream",
     "text": [
      "      17/50         0G     0.1288      0.253     0.9052          4        640: 100%|██████████| 24/24 [02:01<00:00,  5.07s/it]\n",
      "                 Class     Images  Instances      Box(P          R      mAP50  mAP50-95): 100%|██████████| 3/3 [00:11<00:00,  3.80s/it]"
     ]
    },
    {
     "name": "stdout",
     "output_type": "stream",
     "text": [
      "                   all         93         93      0.997          1      0.995      0.995\n"
     ]
    },
    {
     "name": "stderr",
     "output_type": "stream",
     "text": [
      "\n"
     ]
    },
    {
     "name": "stdout",
     "output_type": "stream",
     "text": [
      "\n",
      "      Epoch    GPU_mem   box_loss   cls_loss   dfl_loss  Instances       Size\n"
     ]
    },
    {
     "name": "stderr",
     "output_type": "stream",
     "text": [
      "      18/50         0G     0.1504     0.3103     0.9321          2        640: 100%|██████████| 24/24 [01:59<00:00,  5.00s/it]\n",
      "                 Class     Images  Instances      Box(P          R      mAP50  mAP50-95): 100%|██████████| 3/3 [00:11<00:00,  3.87s/it]"
     ]
    },
    {
     "name": "stdout",
     "output_type": "stream",
     "text": [
      "                   all         93         93      0.995          1      0.995      0.995\n"
     ]
    },
    {
     "name": "stderr",
     "output_type": "stream",
     "text": [
      "\n"
     ]
    },
    {
     "name": "stdout",
     "output_type": "stream",
     "text": [
      "\n",
      "      Epoch    GPU_mem   box_loss   cls_loss   dfl_loss  Instances       Size\n"
     ]
    },
    {
     "name": "stderr",
     "output_type": "stream",
     "text": [
      "      19/50         0G     0.1261     0.2495     0.9125          2        640: 100%|██████████| 24/24 [02:00<00:00,  5.00s/it]\n",
      "                 Class     Images  Instances      Box(P          R      mAP50  mAP50-95): 100%|██████████| 3/3 [00:11<00:00,  3.80s/it]"
     ]
    },
    {
     "name": "stdout",
     "output_type": "stream",
     "text": [
      "                   all         93         93      0.988          1      0.995      0.992\n"
     ]
    },
    {
     "name": "stderr",
     "output_type": "stream",
     "text": [
      "\n"
     ]
    },
    {
     "name": "stdout",
     "output_type": "stream",
     "text": [
      "\n",
      "      Epoch    GPU_mem   box_loss   cls_loss   dfl_loss  Instances       Size\n"
     ]
    },
    {
     "name": "stderr",
     "output_type": "stream",
     "text": [
      "      20/50         0G     0.1163     0.2366     0.8843          4        640: 100%|██████████| 24/24 [01:59<00:00,  4.99s/it]\n",
      "                 Class     Images  Instances      Box(P          R      mAP50  mAP50-95): 100%|██████████| 3/3 [00:11<00:00,  3.86s/it]"
     ]
    },
    {
     "name": "stdout",
     "output_type": "stream",
     "text": [
      "                   all         93         93      0.999          1      0.995      0.995\n"
     ]
    },
    {
     "name": "stderr",
     "output_type": "stream",
     "text": [
      "\n"
     ]
    },
    {
     "name": "stdout",
     "output_type": "stream",
     "text": [
      "\n",
      "      Epoch    GPU_mem   box_loss   cls_loss   dfl_loss  Instances       Size\n"
     ]
    },
    {
     "name": "stderr",
     "output_type": "stream",
     "text": [
      "      21/50         0G     0.1147     0.2215     0.8881          4        640: 100%|██████████| 24/24 [02:00<00:00,  5.02s/it]\n",
      "                 Class     Images  Instances      Box(P          R      mAP50  mAP50-95): 100%|██████████| 3/3 [00:11<00:00,  3.80s/it]"
     ]
    },
    {
     "name": "stdout",
     "output_type": "stream",
     "text": [
      "                   all         93         93      0.999          1      0.995      0.995\n"
     ]
    },
    {
     "name": "stderr",
     "output_type": "stream",
     "text": [
      "\n"
     ]
    },
    {
     "name": "stdout",
     "output_type": "stream",
     "text": [
      "\n",
      "      Epoch    GPU_mem   box_loss   cls_loss   dfl_loss  Instances       Size\n"
     ]
    },
    {
     "name": "stderr",
     "output_type": "stream",
     "text": [
      "      22/50         0G     0.1317     0.2594     0.9162          2        640: 100%|██████████| 24/24 [01:59<00:00,  5.00s/it]\n",
      "                 Class     Images  Instances      Box(P          R      mAP50  mAP50-95): 100%|██████████| 3/3 [00:11<00:00,  3.83s/it]"
     ]
    },
    {
     "name": "stdout",
     "output_type": "stream",
     "text": [
      "                   all         93         93          1          1      0.995      0.995\n"
     ]
    },
    {
     "name": "stderr",
     "output_type": "stream",
     "text": [
      "\n"
     ]
    },
    {
     "name": "stdout",
     "output_type": "stream",
     "text": [
      "\n",
      "      Epoch    GPU_mem   box_loss   cls_loss   dfl_loss  Instances       Size\n"
     ]
    },
    {
     "name": "stderr",
     "output_type": "stream",
     "text": [
      "      23/50         0G     0.1136     0.2821     0.9074          1        640: 100%|██████████| 24/24 [01:59<00:00,  4.99s/it]\n",
      "                 Class     Images  Instances      Box(P          R      mAP50  mAP50-95): 100%|██████████| 3/3 [00:11<00:00,  3.74s/it]"
     ]
    },
    {
     "name": "stdout",
     "output_type": "stream",
     "text": [
      "                   all         93         93      0.997          1      0.995      0.995\n"
     ]
    },
    {
     "name": "stderr",
     "output_type": "stream",
     "text": [
      "\n"
     ]
    },
    {
     "name": "stdout",
     "output_type": "stream",
     "text": [
      "\n",
      "      Epoch    GPU_mem   box_loss   cls_loss   dfl_loss  Instances       Size\n"
     ]
    },
    {
     "name": "stderr",
     "output_type": "stream",
     "text": [
      "      24/50         0G     0.1595     0.2431     0.9538          2        640: 100%|██████████| 24/24 [01:59<00:00,  4.99s/it]\n",
      "                 Class     Images  Instances      Box(P          R      mAP50  mAP50-95): 100%|██████████| 3/3 [00:11<00:00,  3.78s/it]"
     ]
    },
    {
     "name": "stdout",
     "output_type": "stream",
     "text": [
      "                   all         93         93      0.999          1      0.995      0.993\n"
     ]
    },
    {
     "name": "stderr",
     "output_type": "stream",
     "text": [
      "\n"
     ]
    },
    {
     "name": "stdout",
     "output_type": "stream",
     "text": [
      "\n",
      "      Epoch    GPU_mem   box_loss   cls_loss   dfl_loss  Instances       Size\n"
     ]
    },
    {
     "name": "stderr",
     "output_type": "stream",
     "text": [
      "      25/50         0G     0.1329     0.2779     0.9447          2        640: 100%|██████████| 24/24 [01:58<00:00,  4.96s/it]\n",
      "                 Class     Images  Instances      Box(P          R      mAP50  mAP50-95): 100%|██████████| 3/3 [00:11<00:00,  3.77s/it]"
     ]
    },
    {
     "name": "stdout",
     "output_type": "stream",
     "text": [
      "                   all         93         93      0.999          1      0.995      0.995\n"
     ]
    },
    {
     "name": "stderr",
     "output_type": "stream",
     "text": [
      "\n"
     ]
    },
    {
     "name": "stdout",
     "output_type": "stream",
     "text": [
      "\n",
      "      Epoch    GPU_mem   box_loss   cls_loss   dfl_loss  Instances       Size\n"
     ]
    },
    {
     "name": "stderr",
     "output_type": "stream",
     "text": [
      "      26/50         0G     0.0977     0.1912     0.8883          4        640: 100%|██████████| 24/24 [01:59<00:00,  4.97s/it]\n",
      "                 Class     Images  Instances      Box(P          R      mAP50  mAP50-95): 100%|██████████| 3/3 [00:11<00:00,  3.82s/it]"
     ]
    },
    {
     "name": "stdout",
     "output_type": "stream",
     "text": [
      "                   all         93         93      0.999          1      0.995      0.995\n"
     ]
    },
    {
     "name": "stderr",
     "output_type": "stream",
     "text": [
      "\n"
     ]
    },
    {
     "name": "stdout",
     "output_type": "stream",
     "text": [
      "\n",
      "      Epoch    GPU_mem   box_loss   cls_loss   dfl_loss  Instances       Size\n"
     ]
    },
    {
     "name": "stderr",
     "output_type": "stream",
     "text": [
      "      27/50         0G     0.1007     0.1837     0.8913          2        640: 100%|██████████| 24/24 [01:59<00:00,  5.00s/it]\n",
      "                 Class     Images  Instances      Box(P          R      mAP50  mAP50-95): 100%|██████████| 3/3 [00:11<00:00,  3.81s/it]"
     ]
    },
    {
     "name": "stdout",
     "output_type": "stream",
     "text": [
      "                   all         93         93      0.999          1      0.995      0.995\n"
     ]
    },
    {
     "name": "stderr",
     "output_type": "stream",
     "text": [
      "\n"
     ]
    },
    {
     "name": "stdout",
     "output_type": "stream",
     "text": [
      "\n",
      "      Epoch    GPU_mem   box_loss   cls_loss   dfl_loss  Instances       Size\n"
     ]
    },
    {
     "name": "stderr",
     "output_type": "stream",
     "text": [
      "      28/50         0G    0.09431     0.2224     0.9004          2        640: 100%|██████████| 24/24 [01:59<00:00,  4.99s/it]\n",
      "                 Class     Images  Instances      Box(P          R      mAP50  mAP50-95): 100%|██████████| 3/3 [00:11<00:00,  3.77s/it]"
     ]
    },
    {
     "name": "stdout",
     "output_type": "stream",
     "text": [
      "                   all         93         93      0.999          1      0.995      0.995\n"
     ]
    },
    {
     "name": "stderr",
     "output_type": "stream",
     "text": [
      "\n"
     ]
    },
    {
     "name": "stdout",
     "output_type": "stream",
     "text": [
      "\n",
      "      Epoch    GPU_mem   box_loss   cls_loss   dfl_loss  Instances       Size\n"
     ]
    },
    {
     "name": "stderr",
     "output_type": "stream",
     "text": [
      "      29/50         0G    0.09493     0.1894     0.8993          4        640: 100%|██████████| 24/24 [02:00<00:00,  5.03s/it]\n",
      "                 Class     Images  Instances      Box(P          R      mAP50  mAP50-95): 100%|██████████| 3/3 [00:11<00:00,  3.78s/it]"
     ]
    },
    {
     "name": "stdout",
     "output_type": "stream",
     "text": [
      "                   all         93         93      0.999          1      0.995      0.995\n"
     ]
    },
    {
     "name": "stderr",
     "output_type": "stream",
     "text": [
      "\n"
     ]
    },
    {
     "name": "stdout",
     "output_type": "stream",
     "text": [
      "\n",
      "      Epoch    GPU_mem   box_loss   cls_loss   dfl_loss  Instances       Size\n"
     ]
    },
    {
     "name": "stderr",
     "output_type": "stream",
     "text": [
      "      30/50         0G    0.08951     0.1936     0.8936          2        640: 100%|██████████| 24/24 [02:01<00:00,  5.06s/it]\n",
      "                 Class     Images  Instances      Box(P          R      mAP50  mAP50-95): 100%|██████████| 3/3 [00:11<00:00,  3.80s/it]"
     ]
    },
    {
     "name": "stdout",
     "output_type": "stream",
     "text": [
      "                   all         93         93      0.999          1      0.995      0.995\n"
     ]
    },
    {
     "name": "stderr",
     "output_type": "stream",
     "text": [
      "\n"
     ]
    },
    {
     "name": "stdout",
     "output_type": "stream",
     "text": [
      "\n",
      "      Epoch    GPU_mem   box_loss   cls_loss   dfl_loss  Instances       Size\n"
     ]
    },
    {
     "name": "stderr",
     "output_type": "stream",
     "text": [
      "      31/50         0G    0.09253     0.1828     0.8829          4        640: 100%|██████████| 24/24 [02:00<00:00,  5.01s/it]\n",
      "                 Class     Images  Instances      Box(P          R      mAP50  mAP50-95): 100%|██████████| 3/3 [00:10<00:00,  3.63s/it]"
     ]
    },
    {
     "name": "stdout",
     "output_type": "stream",
     "text": [
      "                   all         93         93      0.999          1      0.995      0.995\n"
     ]
    },
    {
     "name": "stderr",
     "output_type": "stream",
     "text": [
      "\n"
     ]
    },
    {
     "name": "stdout",
     "output_type": "stream",
     "text": [
      "\n",
      "      Epoch    GPU_mem   box_loss   cls_loss   dfl_loss  Instances       Size\n"
     ]
    },
    {
     "name": "stderr",
     "output_type": "stream",
     "text": [
      "      32/50         0G     0.1146     0.1925     0.9457          3        640: 100%|██████████| 24/24 [02:00<00:00,  5.02s/it]\n",
      "                 Class     Images  Instances      Box(P          R      mAP50  mAP50-95): 100%|██████████| 3/3 [00:10<00:00,  3.50s/it]"
     ]
    },
    {
     "name": "stdout",
     "output_type": "stream",
     "text": [
      "                   all         93         93      0.999          1      0.995      0.895\n"
     ]
    },
    {
     "name": "stderr",
     "output_type": "stream",
     "text": [
      "\n"
     ]
    },
    {
     "name": "stdout",
     "output_type": "stream",
     "text": [
      "\n",
      "      Epoch    GPU_mem   box_loss   cls_loss   dfl_loss  Instances       Size\n"
     ]
    },
    {
     "name": "stderr",
     "output_type": "stream",
     "text": [
      "      33/50         0G    0.08749     0.1985     0.8968          3        640: 100%|██████████| 24/24 [02:00<00:00,  5.03s/it]\n",
      "                 Class     Images  Instances      Box(P          R      mAP50  mAP50-95): 100%|██████████| 3/3 [00:10<00:00,  3.36s/it]"
     ]
    },
    {
     "name": "stdout",
     "output_type": "stream",
     "text": [
      "                   all         93         93      0.999          1      0.995      0.995\n"
     ]
    },
    {
     "name": "stderr",
     "output_type": "stream",
     "text": [
      "\n"
     ]
    },
    {
     "name": "stdout",
     "output_type": "stream",
     "text": [
      "\n",
      "      Epoch    GPU_mem   box_loss   cls_loss   dfl_loss  Instances       Size\n"
     ]
    },
    {
     "name": "stderr",
     "output_type": "stream",
     "text": [
      "      34/50         0G    0.08419     0.1856     0.8911          1        640: 100%|██████████| 24/24 [02:00<00:00,  5.00s/it]\n",
      "                 Class     Images  Instances      Box(P          R      mAP50  mAP50-95): 100%|██████████| 3/3 [00:09<00:00,  3.27s/it]"
     ]
    },
    {
     "name": "stdout",
     "output_type": "stream",
     "text": [
      "                   all         93         93      0.999          1      0.995      0.995\n"
     ]
    },
    {
     "name": "stderr",
     "output_type": "stream",
     "text": [
      "\n"
     ]
    },
    {
     "name": "stdout",
     "output_type": "stream",
     "text": [
      "\n",
      "      Epoch    GPU_mem   box_loss   cls_loss   dfl_loss  Instances       Size\n"
     ]
    },
    {
     "name": "stderr",
     "output_type": "stream",
     "text": [
      "      35/50         0G    0.08818     0.2726     0.8955          1        640: 100%|██████████| 24/24 [02:01<00:00,  5.05s/it]\n",
      "                 Class     Images  Instances      Box(P          R      mAP50  mAP50-95): 100%|██████████| 3/3 [00:09<00:00,  3.30s/it]"
     ]
    },
    {
     "name": "stdout",
     "output_type": "stream",
     "text": [
      "                   all         93         93      0.999          1      0.995      0.995\n"
     ]
    },
    {
     "name": "stderr",
     "output_type": "stream",
     "text": [
      "\n"
     ]
    },
    {
     "name": "stdout",
     "output_type": "stream",
     "text": [
      "\n",
      "      Epoch    GPU_mem   box_loss   cls_loss   dfl_loss  Instances       Size\n"
     ]
    },
    {
     "name": "stderr",
     "output_type": "stream",
     "text": [
      "      36/50         0G    0.08062      0.159     0.8864          4        640: 100%|██████████| 24/24 [02:01<00:00,  5.06s/it]\n",
      "                 Class     Images  Instances      Box(P          R      mAP50  mAP50-95): 100%|██████████| 3/3 [00:09<00:00,  3.33s/it]"
     ]
    },
    {
     "name": "stdout",
     "output_type": "stream",
     "text": [
      "                   all         93         93      0.999          1      0.995      0.995\n"
     ]
    },
    {
     "name": "stderr",
     "output_type": "stream",
     "text": [
      "\n"
     ]
    },
    {
     "name": "stdout",
     "output_type": "stream",
     "text": [
      "\n",
      "      Epoch    GPU_mem   box_loss   cls_loss   dfl_loss  Instances       Size\n"
     ]
    },
    {
     "name": "stderr",
     "output_type": "stream",
     "text": [
      "      37/50         0G    0.07659     0.1593     0.8782          4        640: 100%|██████████| 24/24 [02:00<00:00,  5.04s/it]\n",
      "                 Class     Images  Instances      Box(P          R      mAP50  mAP50-95): 100%|██████████| 3/3 [00:09<00:00,  3.33s/it]"
     ]
    },
    {
     "name": "stdout",
     "output_type": "stream",
     "text": [
      "                   all         93         93      0.999          1      0.995      0.995\n"
     ]
    },
    {
     "name": "stderr",
     "output_type": "stream",
     "text": [
      "\n"
     ]
    },
    {
     "name": "stdout",
     "output_type": "stream",
     "text": [
      "\n",
      "      Epoch    GPU_mem   box_loss   cls_loss   dfl_loss  Instances       Size\n"
     ]
    },
    {
     "name": "stderr",
     "output_type": "stream",
     "text": [
      "      38/50         0G    0.07893     0.1688     0.9004          4        640: 100%|██████████| 24/24 [02:00<00:00,  5.04s/it]\n",
      "                 Class     Images  Instances      Box(P          R      mAP50  mAP50-95): 100%|██████████| 3/3 [00:10<00:00,  3.36s/it]"
     ]
    },
    {
     "name": "stdout",
     "output_type": "stream",
     "text": [
      "                   all         93         93      0.999          1      0.995      0.995\n"
     ]
    },
    {
     "name": "stderr",
     "output_type": "stream",
     "text": [
      "\n"
     ]
    },
    {
     "name": "stdout",
     "output_type": "stream",
     "text": [
      "\n",
      "      Epoch    GPU_mem   box_loss   cls_loss   dfl_loss  Instances       Size\n"
     ]
    },
    {
     "name": "stderr",
     "output_type": "stream",
     "text": [
      "      39/50         0G    0.07194      0.164     0.8921          2        640: 100%|██████████| 24/24 [02:03<00:00,  5.14s/it]\n",
      "                 Class     Images  Instances      Box(P          R      mAP50  mAP50-95): 100%|██████████| 3/3 [00:10<00:00,  3.40s/it]"
     ]
    },
    {
     "name": "stdout",
     "output_type": "stream",
     "text": [
      "                   all         93         93      0.999          1      0.995      0.995\n"
     ]
    },
    {
     "name": "stderr",
     "output_type": "stream",
     "text": [
      "\n"
     ]
    },
    {
     "name": "stdout",
     "output_type": "stream",
     "text": [
      "\n",
      "      Epoch    GPU_mem   box_loss   cls_loss   dfl_loss  Instances       Size\n"
     ]
    },
    {
     "name": "stderr",
     "output_type": "stream",
     "text": [
      "      40/50         0G      0.144     0.2618     0.9883          1        640: 100%|██████████| 24/24 [02:02<00:00,  5.10s/it]\n",
      "                 Class     Images  Instances      Box(P          R      mAP50  mAP50-95): 100%|██████████| 3/3 [00:10<00:00,  3.41s/it]"
     ]
    },
    {
     "name": "stdout",
     "output_type": "stream",
     "text": [
      "                   all         93         93      0.999          1      0.995      0.995\n"
     ]
    },
    {
     "name": "stderr",
     "output_type": "stream",
     "text": [
      "\n"
     ]
    },
    {
     "name": "stdout",
     "output_type": "stream",
     "text": [
      "Closing dataloader mosaic\n",
      "\n",
      "      Epoch    GPU_mem   box_loss   cls_loss   dfl_loss  Instances       Size\n"
     ]
    },
    {
     "name": "stderr",
     "output_type": "stream",
     "text": [
      "c:\\Users\\Maxi\\anaconda3\\envs\\Erdbeerenv\\Lib\\site-packages\\torch\\utils\\data\\dataloader.py:665: UserWarning: 'pin_memory' argument is set as true but no accelerator is found, then device pinned memory won't be used.\n",
      "  warnings.warn(warn_msg)\n",
      "      41/50         0G      0.165     0.5473      0.956          1        640: 100%|██████████| 24/24 [02:01<00:00,  5.06s/it]\n",
      "                 Class     Images  Instances      Box(P          R      mAP50  mAP50-95): 100%|██████████| 3/3 [00:10<00:00,  3.44s/it]"
     ]
    },
    {
     "name": "stdout",
     "output_type": "stream",
     "text": [
      "                   all         93         93      0.999          1      0.995      0.995\n"
     ]
    },
    {
     "name": "stderr",
     "output_type": "stream",
     "text": [
      "\n"
     ]
    },
    {
     "name": "stdout",
     "output_type": "stream",
     "text": [
      "\n",
      "      Epoch    GPU_mem   box_loss   cls_loss   dfl_loss  Instances       Size\n"
     ]
    },
    {
     "name": "stderr",
     "output_type": "stream",
     "text": [
      "      42/50         0G    0.06409     0.1346      0.893          1        640: 100%|██████████| 24/24 [02:00<00:00,  5.03s/it]\n",
      "                 Class     Images  Instances      Box(P          R      mAP50  mAP50-95): 100%|██████████| 3/3 [00:10<00:00,  3.41s/it]"
     ]
    },
    {
     "name": "stdout",
     "output_type": "stream",
     "text": [
      "                   all         93         93      0.999          1      0.995      0.995\n"
     ]
    },
    {
     "name": "stderr",
     "output_type": "stream",
     "text": [
      "\n"
     ]
    },
    {
     "name": "stdout",
     "output_type": "stream",
     "text": [
      "\n",
      "      Epoch    GPU_mem   box_loss   cls_loss   dfl_loss  Instances       Size\n"
     ]
    },
    {
     "name": "stderr",
     "output_type": "stream",
     "text": [
      "      43/50         0G     0.0551     0.1156     0.8712          1        640: 100%|██████████| 24/24 [02:01<00:00,  5.05s/it]\n",
      "                 Class     Images  Instances      Box(P          R      mAP50  mAP50-95): 100%|██████████| 3/3 [00:10<00:00,  3.48s/it]"
     ]
    },
    {
     "name": "stdout",
     "output_type": "stream",
     "text": [
      "                   all         93         93      0.999          1      0.995      0.995\n"
     ]
    },
    {
     "name": "stderr",
     "output_type": "stream",
     "text": [
      "\n"
     ]
    },
    {
     "name": "stdout",
     "output_type": "stream",
     "text": [
      "\n",
      "      Epoch    GPU_mem   box_loss   cls_loss   dfl_loss  Instances       Size\n"
     ]
    },
    {
     "name": "stderr",
     "output_type": "stream",
     "text": [
      "      44/50         0G    0.07569     0.1543     0.8987          1        640: 100%|██████████| 24/24 [02:01<00:00,  5.06s/it]\n",
      "                 Class     Images  Instances      Box(P          R      mAP50  mAP50-95): 100%|██████████| 3/3 [00:10<00:00,  3.50s/it]"
     ]
    },
    {
     "name": "stdout",
     "output_type": "stream",
     "text": [
      "                   all         93         93      0.999          1      0.995      0.995\n"
     ]
    },
    {
     "name": "stderr",
     "output_type": "stream",
     "text": [
      "\n"
     ]
    },
    {
     "name": "stdout",
     "output_type": "stream",
     "text": [
      "\n",
      "      Epoch    GPU_mem   box_loss   cls_loss   dfl_loss  Instances       Size\n"
     ]
    },
    {
     "name": "stderr",
     "output_type": "stream",
     "text": [
      "      45/50         0G     0.0491    0.09805     0.8865          1        640: 100%|██████████| 24/24 [02:04<00:00,  5.19s/it]\n",
      "                 Class     Images  Instances      Box(P          R      mAP50  mAP50-95): 100%|██████████| 3/3 [00:10<00:00,  3.61s/it]"
     ]
    },
    {
     "name": "stdout",
     "output_type": "stream",
     "text": [
      "                   all         93         93      0.999          1      0.995      0.995\n"
     ]
    },
    {
     "name": "stderr",
     "output_type": "stream",
     "text": [
      "\n"
     ]
    },
    {
     "name": "stdout",
     "output_type": "stream",
     "text": [
      "\n",
      "      Epoch    GPU_mem   box_loss   cls_loss   dfl_loss  Instances       Size\n"
     ]
    },
    {
     "name": "stderr",
     "output_type": "stream",
     "text": [
      "      46/50         0G    0.04763    0.09396     0.8751          1        640: 100%|██████████| 24/24 [02:00<00:00,  5.03s/it]\n",
      "                 Class     Images  Instances      Box(P          R      mAP50  mAP50-95): 100%|██████████| 3/3 [00:10<00:00,  3.53s/it]"
     ]
    },
    {
     "name": "stdout",
     "output_type": "stream",
     "text": [
      "                   all         93         93      0.999          1      0.995      0.995\n"
     ]
    },
    {
     "name": "stderr",
     "output_type": "stream",
     "text": [
      "\n"
     ]
    },
    {
     "name": "stdout",
     "output_type": "stream",
     "text": [
      "\n",
      "      Epoch    GPU_mem   box_loss   cls_loss   dfl_loss  Instances       Size\n"
     ]
    },
    {
     "name": "stderr",
     "output_type": "stream",
     "text": [
      "      47/50         0G    0.04616     0.0889     0.8948          1        640: 100%|██████████| 24/24 [01:59<00:00,  4.97s/it]\n",
      "                 Class     Images  Instances      Box(P          R      mAP50  mAP50-95): 100%|██████████| 3/3 [00:10<00:00,  3.51s/it]"
     ]
    },
    {
     "name": "stdout",
     "output_type": "stream",
     "text": [
      "                   all         93         93      0.999          1      0.995      0.995\n"
     ]
    },
    {
     "name": "stderr",
     "output_type": "stream",
     "text": [
      "\n"
     ]
    },
    {
     "name": "stdout",
     "output_type": "stream",
     "text": [
      "\n",
      "      Epoch    GPU_mem   box_loss   cls_loss   dfl_loss  Instances       Size\n"
     ]
    },
    {
     "name": "stderr",
     "output_type": "stream",
     "text": [
      "      48/50         0G    0.04216    0.08183     0.8899          1        640: 100%|██████████| 24/24 [02:00<00:00,  5.03s/it]\n",
      "                 Class     Images  Instances      Box(P          R      mAP50  mAP50-95): 100%|██████████| 3/3 [00:10<00:00,  3.55s/it]"
     ]
    },
    {
     "name": "stdout",
     "output_type": "stream",
     "text": [
      "                   all         93         93      0.999          1      0.995      0.995\n"
     ]
    },
    {
     "name": "stderr",
     "output_type": "stream",
     "text": [
      "\n"
     ]
    },
    {
     "name": "stdout",
     "output_type": "stream",
     "text": [
      "\n",
      "      Epoch    GPU_mem   box_loss   cls_loss   dfl_loss  Instances       Size\n"
     ]
    },
    {
     "name": "stderr",
     "output_type": "stream",
     "text": [
      "      49/50         0G    0.04228     0.0846     0.8775          1        640: 100%|██████████| 24/24 [02:01<00:00,  5.05s/it]\n",
      "                 Class     Images  Instances      Box(P          R      mAP50  mAP50-95): 100%|██████████| 3/3 [00:10<00:00,  3.56s/it]"
     ]
    },
    {
     "name": "stdout",
     "output_type": "stream",
     "text": [
      "                   all         93         93      0.999          1      0.995      0.995\n"
     ]
    },
    {
     "name": "stderr",
     "output_type": "stream",
     "text": [
      "\n"
     ]
    },
    {
     "name": "stdout",
     "output_type": "stream",
     "text": [
      "\n",
      "      Epoch    GPU_mem   box_loss   cls_loss   dfl_loss  Instances       Size\n"
     ]
    },
    {
     "name": "stderr",
     "output_type": "stream",
     "text": [
      "      50/50         0G    0.03672    0.08264       0.89          1        640: 100%|██████████| 24/24 [01:58<00:00,  4.93s/it]\n",
      "                 Class     Images  Instances      Box(P          R      mAP50  mAP50-95): 100%|██████████| 3/3 [00:10<00:00,  3.56s/it]"
     ]
    },
    {
     "name": "stdout",
     "output_type": "stream",
     "text": [
      "                   all         93         93      0.999          1      0.995      0.995\n"
     ]
    },
    {
     "name": "stderr",
     "output_type": "stream",
     "text": [
      "\n"
     ]
    },
    {
     "name": "stdout",
     "output_type": "stream",
     "text": [
      "\n",
      "50 epochs completed in 1.864 hours.\n",
      "Optimizer stripped from runs\\train\\ripe_only\\weights\\last.pt, 6.2MB\n",
      "Optimizer stripped from runs\\train\\ripe_only\\weights\\best.pt, 6.2MB\n",
      "\n",
      "Validating runs\\train\\ripe_only\\weights\\best.pt...\n",
      "Ultralytics 8.3.120  Python-3.13.3 torch-2.7.0+cpu CPU (AMD Ryzen 5 2600 Six-Core Processor)\n",
      "Model summary (fused): 72 layers, 3,005,843 parameters, 0 gradients, 8.1 GFLOPs\n"
     ]
    },
    {
     "name": "stderr",
     "output_type": "stream",
     "text": [
      "                 Class     Images  Instances      Box(P          R      mAP50  mAP50-95): 100%|██████████| 3/3 [00:20<00:00,  6.84s/it]\n"
     ]
    },
    {
     "name": "stdout",
     "output_type": "stream",
     "text": [
      "                   all         93         93      0.999          1      0.995      0.995\n",
      "Speed: 1.8ms preprocess, 210.2ms inference, 0.0ms loss, 0.8ms postprocess per image\n",
      "Results saved to \u001b[1mruns\\train\\ripe_only\u001b[0m\n"
     ]
    },
    {
     "data": {
      "text/plain": [
       "ultralytics.utils.metrics.DetMetrics object with attributes:\n",
       "\n",
       "ap_class_index: array([0])\n",
       "box: ultralytics.utils.metrics.Metric object\n",
       "confusion_matrix: <ultralytics.utils.metrics.ConfusionMatrix object at 0x0000024AB7F20830>\n",
       "curves: ['Precision-Recall(B)', 'F1-Confidence(B)', 'Precision-Confidence(B)', 'Recall-Confidence(B)']\n",
       "curves_results: [[array([          0,    0.001001,    0.002002,    0.003003,    0.004004,    0.005005,    0.006006,    0.007007,    0.008008,    0.009009,     0.01001,    0.011011,    0.012012,    0.013013,    0.014014,    0.015015,    0.016016,    0.017017,    0.018018,    0.019019,     0.02002,    0.021021,    0.022022,    0.023023,\n",
       "          0.024024,    0.025025,    0.026026,    0.027027,    0.028028,    0.029029,     0.03003,    0.031031,    0.032032,    0.033033,    0.034034,    0.035035,    0.036036,    0.037037,    0.038038,    0.039039,     0.04004,    0.041041,    0.042042,    0.043043,    0.044044,    0.045045,    0.046046,    0.047047,\n",
       "          0.048048,    0.049049,     0.05005,    0.051051,    0.052052,    0.053053,    0.054054,    0.055055,    0.056056,    0.057057,    0.058058,    0.059059,     0.06006,    0.061061,    0.062062,    0.063063,    0.064064,    0.065065,    0.066066,    0.067067,    0.068068,    0.069069,     0.07007,    0.071071,\n",
       "          0.072072,    0.073073,    0.074074,    0.075075,    0.076076,    0.077077,    0.078078,    0.079079,     0.08008,    0.081081,    0.082082,    0.083083,    0.084084,    0.085085,    0.086086,    0.087087,    0.088088,    0.089089,     0.09009,    0.091091,    0.092092,    0.093093,    0.094094,    0.095095,\n",
       "          0.096096,    0.097097,    0.098098,    0.099099,      0.1001,      0.1011,      0.1021,      0.1031,      0.1041,     0.10511,     0.10611,     0.10711,     0.10811,     0.10911,     0.11011,     0.11111,     0.11211,     0.11311,     0.11411,     0.11512,     0.11612,     0.11712,     0.11812,     0.11912,\n",
       "           0.12012,     0.12112,     0.12212,     0.12312,     0.12412,     0.12513,     0.12613,     0.12713,     0.12813,     0.12913,     0.13013,     0.13113,     0.13213,     0.13313,     0.13413,     0.13514,     0.13614,     0.13714,     0.13814,     0.13914,     0.14014,     0.14114,     0.14214,     0.14314,\n",
       "           0.14414,     0.14515,     0.14615,     0.14715,     0.14815,     0.14915,     0.15015,     0.15115,     0.15215,     0.15315,     0.15415,     0.15516,     0.15616,     0.15716,     0.15816,     0.15916,     0.16016,     0.16116,     0.16216,     0.16316,     0.16416,     0.16517,     0.16617,     0.16717,\n",
       "           0.16817,     0.16917,     0.17017,     0.17117,     0.17217,     0.17317,     0.17417,     0.17518,     0.17618,     0.17718,     0.17818,     0.17918,     0.18018,     0.18118,     0.18218,     0.18318,     0.18418,     0.18519,     0.18619,     0.18719,     0.18819,     0.18919,     0.19019,     0.19119,\n",
       "           0.19219,     0.19319,     0.19419,      0.1952,      0.1962,      0.1972,      0.1982,      0.1992,      0.2002,      0.2012,      0.2022,      0.2032,      0.2042,     0.20521,     0.20621,     0.20721,     0.20821,     0.20921,     0.21021,     0.21121,     0.21221,     0.21321,     0.21421,     0.21522,\n",
       "           0.21622,     0.21722,     0.21822,     0.21922,     0.22022,     0.22122,     0.22222,     0.22322,     0.22422,     0.22523,     0.22623,     0.22723,     0.22823,     0.22923,     0.23023,     0.23123,     0.23223,     0.23323,     0.23423,     0.23524,     0.23624,     0.23724,     0.23824,     0.23924,\n",
       "           0.24024,     0.24124,     0.24224,     0.24324,     0.24424,     0.24525,     0.24625,     0.24725,     0.24825,     0.24925,     0.25025,     0.25125,     0.25225,     0.25325,     0.25425,     0.25526,     0.25626,     0.25726,     0.25826,     0.25926,     0.26026,     0.26126,     0.26226,     0.26326,\n",
       "           0.26426,     0.26527,     0.26627,     0.26727,     0.26827,     0.26927,     0.27027,     0.27127,     0.27227,     0.27327,     0.27427,     0.27528,     0.27628,     0.27728,     0.27828,     0.27928,     0.28028,     0.28128,     0.28228,     0.28328,     0.28428,     0.28529,     0.28629,     0.28729,\n",
       "           0.28829,     0.28929,     0.29029,     0.29129,     0.29229,     0.29329,     0.29429,      0.2953,      0.2963,      0.2973,      0.2983,      0.2993,      0.3003,      0.3013,      0.3023,      0.3033,      0.3043,     0.30531,     0.30631,     0.30731,     0.30831,     0.30931,     0.31031,     0.31131,\n",
       "           0.31231,     0.31331,     0.31431,     0.31532,     0.31632,     0.31732,     0.31832,     0.31932,     0.32032,     0.32132,     0.32232,     0.32332,     0.32432,     0.32533,     0.32633,     0.32733,     0.32833,     0.32933,     0.33033,     0.33133,     0.33233,     0.33333,     0.33433,     0.33534,\n",
       "           0.33634,     0.33734,     0.33834,     0.33934,     0.34034,     0.34134,     0.34234,     0.34334,     0.34434,     0.34535,     0.34635,     0.34735,     0.34835,     0.34935,     0.35035,     0.35135,     0.35235,     0.35335,     0.35435,     0.35536,     0.35636,     0.35736,     0.35836,     0.35936,\n",
       "           0.36036,     0.36136,     0.36236,     0.36336,     0.36436,     0.36537,     0.36637,     0.36737,     0.36837,     0.36937,     0.37037,     0.37137,     0.37237,     0.37337,     0.37437,     0.37538,     0.37638,     0.37738,     0.37838,     0.37938,     0.38038,     0.38138,     0.38238,     0.38338,\n",
       "           0.38438,     0.38539,     0.38639,     0.38739,     0.38839,     0.38939,     0.39039,     0.39139,     0.39239,     0.39339,     0.39439,      0.3954,      0.3964,      0.3974,      0.3984,      0.3994,      0.4004,      0.4014,      0.4024,      0.4034,      0.4044,     0.40541,     0.40641,     0.40741,\n",
       "           0.40841,     0.40941,     0.41041,     0.41141,     0.41241,     0.41341,     0.41441,     0.41542,     0.41642,     0.41742,     0.41842,     0.41942,     0.42042,     0.42142,     0.42242,     0.42342,     0.42442,     0.42543,     0.42643,     0.42743,     0.42843,     0.42943,     0.43043,     0.43143,\n",
       "           0.43243,     0.43343,     0.43443,     0.43544,     0.43644,     0.43744,     0.43844,     0.43944,     0.44044,     0.44144,     0.44244,     0.44344,     0.44444,     0.44545,     0.44645,     0.44745,     0.44845,     0.44945,     0.45045,     0.45145,     0.45245,     0.45345,     0.45445,     0.45546,\n",
       "           0.45646,     0.45746,     0.45846,     0.45946,     0.46046,     0.46146,     0.46246,     0.46346,     0.46446,     0.46547,     0.46647,     0.46747,     0.46847,     0.46947,     0.47047,     0.47147,     0.47247,     0.47347,     0.47447,     0.47548,     0.47648,     0.47748,     0.47848,     0.47948,\n",
       "           0.48048,     0.48148,     0.48248,     0.48348,     0.48448,     0.48549,     0.48649,     0.48749,     0.48849,     0.48949,     0.49049,     0.49149,     0.49249,     0.49349,     0.49449,      0.4955,      0.4965,      0.4975,      0.4985,      0.4995,      0.5005,      0.5015,      0.5025,      0.5035,\n",
       "            0.5045,     0.50551,     0.50651,     0.50751,     0.50851,     0.50951,     0.51051,     0.51151,     0.51251,     0.51351,     0.51451,     0.51552,     0.51652,     0.51752,     0.51852,     0.51952,     0.52052,     0.52152,     0.52252,     0.52352,     0.52452,     0.52553,     0.52653,     0.52753,\n",
       "           0.52853,     0.52953,     0.53053,     0.53153,     0.53253,     0.53353,     0.53453,     0.53554,     0.53654,     0.53754,     0.53854,     0.53954,     0.54054,     0.54154,     0.54254,     0.54354,     0.54454,     0.54555,     0.54655,     0.54755,     0.54855,     0.54955,     0.55055,     0.55155,\n",
       "           0.55255,     0.55355,     0.55455,     0.55556,     0.55656,     0.55756,     0.55856,     0.55956,     0.56056,     0.56156,     0.56256,     0.56356,     0.56456,     0.56557,     0.56657,     0.56757,     0.56857,     0.56957,     0.57057,     0.57157,     0.57257,     0.57357,     0.57457,     0.57558,\n",
       "           0.57658,     0.57758,     0.57858,     0.57958,     0.58058,     0.58158,     0.58258,     0.58358,     0.58458,     0.58559,     0.58659,     0.58759,     0.58859,     0.58959,     0.59059,     0.59159,     0.59259,     0.59359,     0.59459,      0.5956,      0.5966,      0.5976,      0.5986,      0.5996,\n",
       "            0.6006,      0.6016,      0.6026,      0.6036,      0.6046,     0.60561,     0.60661,     0.60761,     0.60861,     0.60961,     0.61061,     0.61161,     0.61261,     0.61361,     0.61461,     0.61562,     0.61662,     0.61762,     0.61862,     0.61962,     0.62062,     0.62162,     0.62262,     0.62362,\n",
       "           0.62462,     0.62563,     0.62663,     0.62763,     0.62863,     0.62963,     0.63063,     0.63163,     0.63263,     0.63363,     0.63463,     0.63564,     0.63664,     0.63764,     0.63864,     0.63964,     0.64064,     0.64164,     0.64264,     0.64364,     0.64464,     0.64565,     0.64665,     0.64765,\n",
       "           0.64865,     0.64965,     0.65065,     0.65165,     0.65265,     0.65365,     0.65465,     0.65566,     0.65666,     0.65766,     0.65866,     0.65966,     0.66066,     0.66166,     0.66266,     0.66366,     0.66466,     0.66567,     0.66667,     0.66767,     0.66867,     0.66967,     0.67067,     0.67167,\n",
       "           0.67267,     0.67367,     0.67467,     0.67568,     0.67668,     0.67768,     0.67868,     0.67968,     0.68068,     0.68168,     0.68268,     0.68368,     0.68468,     0.68569,     0.68669,     0.68769,     0.68869,     0.68969,     0.69069,     0.69169,     0.69269,     0.69369,     0.69469,      0.6957,\n",
       "            0.6967,      0.6977,      0.6987,      0.6997,      0.7007,      0.7017,      0.7027,      0.7037,      0.7047,     0.70571,     0.70671,     0.70771,     0.70871,     0.70971,     0.71071,     0.71171,     0.71271,     0.71371,     0.71471,     0.71572,     0.71672,     0.71772,     0.71872,     0.71972,\n",
       "           0.72072,     0.72172,     0.72272,     0.72372,     0.72472,     0.72573,     0.72673,     0.72773,     0.72873,     0.72973,     0.73073,     0.73173,     0.73273,     0.73373,     0.73473,     0.73574,     0.73674,     0.73774,     0.73874,     0.73974,     0.74074,     0.74174,     0.74274,     0.74374,\n",
       "           0.74474,     0.74575,     0.74675,     0.74775,     0.74875,     0.74975,     0.75075,     0.75175,     0.75275,     0.75375,     0.75475,     0.75576,     0.75676,     0.75776,     0.75876,     0.75976,     0.76076,     0.76176,     0.76276,     0.76376,     0.76476,     0.76577,     0.76677,     0.76777,\n",
       "           0.76877,     0.76977,     0.77077,     0.77177,     0.77277,     0.77377,     0.77477,     0.77578,     0.77678,     0.77778,     0.77878,     0.77978,     0.78078,     0.78178,     0.78278,     0.78378,     0.78478,     0.78579,     0.78679,     0.78779,     0.78879,     0.78979,     0.79079,     0.79179,\n",
       "           0.79279,     0.79379,     0.79479,      0.7958,      0.7968,      0.7978,      0.7988,      0.7998,      0.8008,      0.8018,      0.8028,      0.8038,      0.8048,     0.80581,     0.80681,     0.80781,     0.80881,     0.80981,     0.81081,     0.81181,     0.81281,     0.81381,     0.81481,     0.81582,\n",
       "           0.81682,     0.81782,     0.81882,     0.81982,     0.82082,     0.82182,     0.82282,     0.82382,     0.82482,     0.82583,     0.82683,     0.82783,     0.82883,     0.82983,     0.83083,     0.83183,     0.83283,     0.83383,     0.83483,     0.83584,     0.83684,     0.83784,     0.83884,     0.83984,\n",
       "           0.84084,     0.84184,     0.84284,     0.84384,     0.84484,     0.84585,     0.84685,     0.84785,     0.84885,     0.84985,     0.85085,     0.85185,     0.85285,     0.85385,     0.85485,     0.85586,     0.85686,     0.85786,     0.85886,     0.85986,     0.86086,     0.86186,     0.86286,     0.86386,\n",
       "           0.86486,     0.86587,     0.86687,     0.86787,     0.86887,     0.86987,     0.87087,     0.87187,     0.87287,     0.87387,     0.87487,     0.87588,     0.87688,     0.87788,     0.87888,     0.87988,     0.88088,     0.88188,     0.88288,     0.88388,     0.88488,     0.88589,     0.88689,     0.88789,\n",
       "           0.88889,     0.88989,     0.89089,     0.89189,     0.89289,     0.89389,     0.89489,      0.8959,      0.8969,      0.8979,      0.8989,      0.8999,      0.9009,      0.9019,      0.9029,      0.9039,      0.9049,     0.90591,     0.90691,     0.90791,     0.90891,     0.90991,     0.91091,     0.91191,\n",
       "           0.91291,     0.91391,     0.91491,     0.91592,     0.91692,     0.91792,     0.91892,     0.91992,     0.92092,     0.92192,     0.92292,     0.92392,     0.92492,     0.92593,     0.92693,     0.92793,     0.92893,     0.92993,     0.93093,     0.93193,     0.93293,     0.93393,     0.93493,     0.93594,\n",
       "           0.93694,     0.93794,     0.93894,     0.93994,     0.94094,     0.94194,     0.94294,     0.94394,     0.94494,     0.94595,     0.94695,     0.94795,     0.94895,     0.94995,     0.95095,     0.95195,     0.95295,     0.95395,     0.95495,     0.95596,     0.95696,     0.95796,     0.95896,     0.95996,\n",
       "           0.96096,     0.96196,     0.96296,     0.96396,     0.96496,     0.96597,     0.96697,     0.96797,     0.96897,     0.96997,     0.97097,     0.97197,     0.97297,     0.97397,     0.97497,     0.97598,     0.97698,     0.97798,     0.97898,     0.97998,     0.98098,     0.98198,     0.98298,     0.98398,\n",
       "           0.98498,     0.98599,     0.98699,     0.98799,     0.98899,     0.98999,     0.99099,     0.99199,     0.99299,     0.99399,     0.99499,       0.996,       0.997,       0.998,       0.999,           1]), array([[          1,           1,           1,           1,           1,           1,           1,           1,           1,           1,           1,           1,           1,           1,           1,           1,           1,           1,           1,           1,           1,           1,           1,\n",
       "                  1,           1,           1,           1,           1,           1,           1,           1,           1,           1,           1,           1,           1,           1,           1,           1,           1,           1,           1,           1,           1,           1,           1,\n",
       "                  1,           1,           1,           1,           1,           1,           1,           1,           1,           1,           1,           1,           1,           1,           1,           1,           1,           1,           1,           1,           1,           1,           1,\n",
       "                  1,           1,           1,           1,           1,           1,           1,           1,           1,           1,           1,           1,           1,           1,           1,           1,           1,           1,           1,           1,           1,           1,           1,\n",
       "                  1,           1,           1,           1,           1,           1,           1,           1,           1,           1,           1,           1,           1,           1,           1,           1,           1,           1,           1,           1,           1,           1,           1,\n",
       "                  1,           1,           1,           1,           1,           1,           1,           1,           1,           1,           1,           1,           1,           1,           1,           1,           1,           1,           1,           1,           1,           1,           1,\n",
       "                  1,           1,           1,           1,           1,           1,           1,           1,           1,           1,           1,           1,           1,           1,           1,           1,           1,           1,           1,           1,           1,           1,           1,\n",
       "                  1,           1,           1,           1,           1,           1,           1,           1,           1,           1,           1,           1,           1,           1,           1,           1,           1,           1,           1,           1,           1,           1,           1,\n",
       "                  1,           1,           1,           1,           1,           1,           1,           1,           1,           1,           1,           1,           1,           1,           1,           1,           1,           1,           1,           1,           1,           1,           1,\n",
       "                  1,           1,           1,           1,           1,           1,           1,           1,           1,           1,           1,           1,           1,           1,           1,           1,           1,           1,           1,           1,           1,           1,           1,\n",
       "                  1,           1,           1,           1,           1,           1,           1,           1,           1,           1,           1,           1,           1,           1,           1,           1,           1,           1,           1,           1,           1,           1,           1,\n",
       "                  1,           1,           1,           1,           1,           1,           1,           1,           1,           1,           1,           1,           1,           1,           1,           1,           1,           1,           1,           1,           1,           1,           1,\n",
       "                  1,           1,           1,           1,           1,           1,           1,           1,           1,           1,           1,           1,           1,           1,           1,           1,           1,           1,           1,           1,           1,           1,           1,\n",
       "                  1,           1,           1,           1,           1,           1,           1,           1,           1,           1,           1,           1,           1,           1,           1,           1,           1,           1,           1,           1,           1,           1,           1,\n",
       "                  1,           1,           1,           1,           1,           1,           1,           1,           1,           1,           1,           1,           1,           1,           1,           1,           1,           1,           1,           1,           1,           1,           1,\n",
       "                  1,           1,           1,           1,           1,           1,           1,           1,           1,           1,           1,           1,           1,           1,           1,           1,           1,           1,           1,           1,           1,           1,           1,\n",
       "                  1,           1,           1,           1,           1,           1,           1,           1,           1,           1,           1,           1,           1,           1,           1,           1,           1,           1,           1,           1,           1,           1,           1,\n",
       "                  1,           1,           1,           1,           1,           1,           1,           1,           1,           1,           1,           1,           1,           1,           1,           1,           1,           1,           1,           1,           1,           1,           1,\n",
       "                  1,           1,           1,           1,           1,           1,           1,           1,           1,           1,           1,           1,           1,           1,           1,           1,           1,           1,           1,           1,           1,           1,           1,\n",
       "                  1,           1,           1,           1,           1,           1,           1,           1,           1,           1,           1,           1,           1,           1,           1,           1,           1,           1,           1,           1,           1,           1,           1,\n",
       "                  1,           1,           1,           1,           1,           1,           1,           1,           1,           1,           1,           1,           1,           1,           1,           1,           1,           1,           1,           1,           1,           1,           1,\n",
       "                  1,           1,           1,           1,           1,           1,           1,           1,           1,           1,           1,           1,           1,           1,           1,           1,           1,           1,           1,           1,           1,           1,           1,\n",
       "                  1,           1,           1,           1,           1,           1,           1,           1,           1,           1,           1,           1,           1,           1,           1,           1,           1,           1,           1,           1,           1,           1,           1,\n",
       "                  1,           1,           1,           1,           1,           1,           1,           1,           1,           1,           1,           1,           1,           1,           1,           1,           1,           1,           1,           1,           1,           1,           1,\n",
       "                  1,           1,           1,           1,           1,           1,           1,           1,           1,           1,           1,           1,           1,           1,           1,           1,           1,           1,           1,           1,           1,           1,           1,\n",
       "                  1,           1,           1,           1,           1,           1,           1,           1,           1,           1,           1,           1,           1,           1,           1,           1,           1,           1,           1,           1,           1,           1,           1,\n",
       "                  1,           1,           1,           1,           1,           1,           1,           1,           1,           1,           1,           1,           1,           1,           1,           1,           1,           1,           1,           1,           1,           1,           1,\n",
       "                  1,           1,           1,           1,           1,           1,           1,           1,           1,           1,           1,           1,           1,           1,           1,           1,           1,           1,           1,           1,           1,           1,           1,\n",
       "                  1,           1,           1,           1,           1,           1,           1,           1,           1,           1,           1,           1,           1,           1,           1,           1,           1,           1,           1,           1,           1,           1,           1,\n",
       "                  1,           1,           1,           1,           1,           1,           1,           1,           1,           1,           1,           1,           1,           1,           1,           1,           1,           1,           1,           1,           1,           1,           1,\n",
       "                  1,           1,           1,           1,           1,           1,           1,           1,           1,           1,           1,           1,           1,           1,           1,           1,           1,           1,           1,           1,           1,           1,           1,\n",
       "                  1,           1,           1,           1,           1,           1,           1,           1,           1,           1,           1,           1,           1,           1,           1,           1,           1,           1,           1,           1,           1,           1,           1,\n",
       "                  1,           1,           1,           1,           1,           1,           1,           1,           1,           1,           1,           1,           1,           1,           1,           1,           1,           1,           1,           1,           1,           1,           1,\n",
       "                  1,           1,           1,           1,           1,           1,           1,           1,           1,           1,           1,           1,           1,           1,           1,           1,           1,           1,           1,           1,           1,           1,           1,\n",
       "                  1,           1,           1,           1,           1,           1,           1,           1,           1,           1,           1,           1,           1,           1,           1,           1,           1,           1,           1,           1,           1,           1,           1,\n",
       "                  1,           1,           1,           1,           1,           1,           1,           1,           1,           1,           1,           1,           1,           1,           1,           1,           1,           1,           1,           1,           1,           1,           1,\n",
       "                  1,           1,           1,           1,           1,           1,           1,           1,           1,           1,           1,           1,           1,           1,           1,           1,           1,           1,           1,           1,           1,           1,           1,\n",
       "                  1,           1,           1,           1,           1,           1,           1,           1,           1,           1,           1,           1,           1,           1,           1,           1,           1,           1,           1,           1,           1,           1,           1,\n",
       "                  1,           1,           1,           1,           1,           1,           1,           1,           1,           1,           1,           1,           1,           1,           1,           1,           1,           1,           1,           1,           1,           1,           1,\n",
       "                  1,           1,           1,           1,           1,           1,           1,           1,           1,           1,           1,           1,           1,           1,           1,           1,           1,           1,           1,           1,           1,           1,           1,\n",
       "                  1,           1,           1,           1,           1,           1,           1,           1,           1,           1,           1,           1,           1,           1,           1,           1,           1,           1,           1,           1,           1,           1,           1,\n",
       "                  1,           1,           1,           1,           1,           1,           1,           1,           1,           1,           1,           1,           1,           1,           1,           1,           1,           1,           1,           1,           1,           1,           1,\n",
       "                  1,           1,           1,           1,           1,           1,           1,           1,           1,           1,           1,           1,           1,           1,           1,           1,           1,           1,           1,           1,           1,           1,           1,\n",
       "                  1,           1,           1,           1,           1,           1,           1,           1,           1,           1,           0]]), 'Recall', 'Precision'], [array([          0,    0.001001,    0.002002,    0.003003,    0.004004,    0.005005,    0.006006,    0.007007,    0.008008,    0.009009,     0.01001,    0.011011,    0.012012,    0.013013,    0.014014,    0.015015,    0.016016,    0.017017,    0.018018,    0.019019,     0.02002,    0.021021,    0.022022,    0.023023,\n",
       "          0.024024,    0.025025,    0.026026,    0.027027,    0.028028,    0.029029,     0.03003,    0.031031,    0.032032,    0.033033,    0.034034,    0.035035,    0.036036,    0.037037,    0.038038,    0.039039,     0.04004,    0.041041,    0.042042,    0.043043,    0.044044,    0.045045,    0.046046,    0.047047,\n",
       "          0.048048,    0.049049,     0.05005,    0.051051,    0.052052,    0.053053,    0.054054,    0.055055,    0.056056,    0.057057,    0.058058,    0.059059,     0.06006,    0.061061,    0.062062,    0.063063,    0.064064,    0.065065,    0.066066,    0.067067,    0.068068,    0.069069,     0.07007,    0.071071,\n",
       "          0.072072,    0.073073,    0.074074,    0.075075,    0.076076,    0.077077,    0.078078,    0.079079,     0.08008,    0.081081,    0.082082,    0.083083,    0.084084,    0.085085,    0.086086,    0.087087,    0.088088,    0.089089,     0.09009,    0.091091,    0.092092,    0.093093,    0.094094,    0.095095,\n",
       "          0.096096,    0.097097,    0.098098,    0.099099,      0.1001,      0.1011,      0.1021,      0.1031,      0.1041,     0.10511,     0.10611,     0.10711,     0.10811,     0.10911,     0.11011,     0.11111,     0.11211,     0.11311,     0.11411,     0.11512,     0.11612,     0.11712,     0.11812,     0.11912,\n",
       "           0.12012,     0.12112,     0.12212,     0.12312,     0.12412,     0.12513,     0.12613,     0.12713,     0.12813,     0.12913,     0.13013,     0.13113,     0.13213,     0.13313,     0.13413,     0.13514,     0.13614,     0.13714,     0.13814,     0.13914,     0.14014,     0.14114,     0.14214,     0.14314,\n",
       "           0.14414,     0.14515,     0.14615,     0.14715,     0.14815,     0.14915,     0.15015,     0.15115,     0.15215,     0.15315,     0.15415,     0.15516,     0.15616,     0.15716,     0.15816,     0.15916,     0.16016,     0.16116,     0.16216,     0.16316,     0.16416,     0.16517,     0.16617,     0.16717,\n",
       "           0.16817,     0.16917,     0.17017,     0.17117,     0.17217,     0.17317,     0.17417,     0.17518,     0.17618,     0.17718,     0.17818,     0.17918,     0.18018,     0.18118,     0.18218,     0.18318,     0.18418,     0.18519,     0.18619,     0.18719,     0.18819,     0.18919,     0.19019,     0.19119,\n",
       "           0.19219,     0.19319,     0.19419,      0.1952,      0.1962,      0.1972,      0.1982,      0.1992,      0.2002,      0.2012,      0.2022,      0.2032,      0.2042,     0.20521,     0.20621,     0.20721,     0.20821,     0.20921,     0.21021,     0.21121,     0.21221,     0.21321,     0.21421,     0.21522,\n",
       "           0.21622,     0.21722,     0.21822,     0.21922,     0.22022,     0.22122,     0.22222,     0.22322,     0.22422,     0.22523,     0.22623,     0.22723,     0.22823,     0.22923,     0.23023,     0.23123,     0.23223,     0.23323,     0.23423,     0.23524,     0.23624,     0.23724,     0.23824,     0.23924,\n",
       "           0.24024,     0.24124,     0.24224,     0.24324,     0.24424,     0.24525,     0.24625,     0.24725,     0.24825,     0.24925,     0.25025,     0.25125,     0.25225,     0.25325,     0.25425,     0.25526,     0.25626,     0.25726,     0.25826,     0.25926,     0.26026,     0.26126,     0.26226,     0.26326,\n",
       "           0.26426,     0.26527,     0.26627,     0.26727,     0.26827,     0.26927,     0.27027,     0.27127,     0.27227,     0.27327,     0.27427,     0.27528,     0.27628,     0.27728,     0.27828,     0.27928,     0.28028,     0.28128,     0.28228,     0.28328,     0.28428,     0.28529,     0.28629,     0.28729,\n",
       "           0.28829,     0.28929,     0.29029,     0.29129,     0.29229,     0.29329,     0.29429,      0.2953,      0.2963,      0.2973,      0.2983,      0.2993,      0.3003,      0.3013,      0.3023,      0.3033,      0.3043,     0.30531,     0.30631,     0.30731,     0.30831,     0.30931,     0.31031,     0.31131,\n",
       "           0.31231,     0.31331,     0.31431,     0.31532,     0.31632,     0.31732,     0.31832,     0.31932,     0.32032,     0.32132,     0.32232,     0.32332,     0.32432,     0.32533,     0.32633,     0.32733,     0.32833,     0.32933,     0.33033,     0.33133,     0.33233,     0.33333,     0.33433,     0.33534,\n",
       "           0.33634,     0.33734,     0.33834,     0.33934,     0.34034,     0.34134,     0.34234,     0.34334,     0.34434,     0.34535,     0.34635,     0.34735,     0.34835,     0.34935,     0.35035,     0.35135,     0.35235,     0.35335,     0.35435,     0.35536,     0.35636,     0.35736,     0.35836,     0.35936,\n",
       "           0.36036,     0.36136,     0.36236,     0.36336,     0.36436,     0.36537,     0.36637,     0.36737,     0.36837,     0.36937,     0.37037,     0.37137,     0.37237,     0.37337,     0.37437,     0.37538,     0.37638,     0.37738,     0.37838,     0.37938,     0.38038,     0.38138,     0.38238,     0.38338,\n",
       "           0.38438,     0.38539,     0.38639,     0.38739,     0.38839,     0.38939,     0.39039,     0.39139,     0.39239,     0.39339,     0.39439,      0.3954,      0.3964,      0.3974,      0.3984,      0.3994,      0.4004,      0.4014,      0.4024,      0.4034,      0.4044,     0.40541,     0.40641,     0.40741,\n",
       "           0.40841,     0.40941,     0.41041,     0.41141,     0.41241,     0.41341,     0.41441,     0.41542,     0.41642,     0.41742,     0.41842,     0.41942,     0.42042,     0.42142,     0.42242,     0.42342,     0.42442,     0.42543,     0.42643,     0.42743,     0.42843,     0.42943,     0.43043,     0.43143,\n",
       "           0.43243,     0.43343,     0.43443,     0.43544,     0.43644,     0.43744,     0.43844,     0.43944,     0.44044,     0.44144,     0.44244,     0.44344,     0.44444,     0.44545,     0.44645,     0.44745,     0.44845,     0.44945,     0.45045,     0.45145,     0.45245,     0.45345,     0.45445,     0.45546,\n",
       "           0.45646,     0.45746,     0.45846,     0.45946,     0.46046,     0.46146,     0.46246,     0.46346,     0.46446,     0.46547,     0.46647,     0.46747,     0.46847,     0.46947,     0.47047,     0.47147,     0.47247,     0.47347,     0.47447,     0.47548,     0.47648,     0.47748,     0.47848,     0.47948,\n",
       "           0.48048,     0.48148,     0.48248,     0.48348,     0.48448,     0.48549,     0.48649,     0.48749,     0.48849,     0.48949,     0.49049,     0.49149,     0.49249,     0.49349,     0.49449,      0.4955,      0.4965,      0.4975,      0.4985,      0.4995,      0.5005,      0.5015,      0.5025,      0.5035,\n",
       "            0.5045,     0.50551,     0.50651,     0.50751,     0.50851,     0.50951,     0.51051,     0.51151,     0.51251,     0.51351,     0.51451,     0.51552,     0.51652,     0.51752,     0.51852,     0.51952,     0.52052,     0.52152,     0.52252,     0.52352,     0.52452,     0.52553,     0.52653,     0.52753,\n",
       "           0.52853,     0.52953,     0.53053,     0.53153,     0.53253,     0.53353,     0.53453,     0.53554,     0.53654,     0.53754,     0.53854,     0.53954,     0.54054,     0.54154,     0.54254,     0.54354,     0.54454,     0.54555,     0.54655,     0.54755,     0.54855,     0.54955,     0.55055,     0.55155,\n",
       "           0.55255,     0.55355,     0.55455,     0.55556,     0.55656,     0.55756,     0.55856,     0.55956,     0.56056,     0.56156,     0.56256,     0.56356,     0.56456,     0.56557,     0.56657,     0.56757,     0.56857,     0.56957,     0.57057,     0.57157,     0.57257,     0.57357,     0.57457,     0.57558,\n",
       "           0.57658,     0.57758,     0.57858,     0.57958,     0.58058,     0.58158,     0.58258,     0.58358,     0.58458,     0.58559,     0.58659,     0.58759,     0.58859,     0.58959,     0.59059,     0.59159,     0.59259,     0.59359,     0.59459,      0.5956,      0.5966,      0.5976,      0.5986,      0.5996,\n",
       "            0.6006,      0.6016,      0.6026,      0.6036,      0.6046,     0.60561,     0.60661,     0.60761,     0.60861,     0.60961,     0.61061,     0.61161,     0.61261,     0.61361,     0.61461,     0.61562,     0.61662,     0.61762,     0.61862,     0.61962,     0.62062,     0.62162,     0.62262,     0.62362,\n",
       "           0.62462,     0.62563,     0.62663,     0.62763,     0.62863,     0.62963,     0.63063,     0.63163,     0.63263,     0.63363,     0.63463,     0.63564,     0.63664,     0.63764,     0.63864,     0.63964,     0.64064,     0.64164,     0.64264,     0.64364,     0.64464,     0.64565,     0.64665,     0.64765,\n",
       "           0.64865,     0.64965,     0.65065,     0.65165,     0.65265,     0.65365,     0.65465,     0.65566,     0.65666,     0.65766,     0.65866,     0.65966,     0.66066,     0.66166,     0.66266,     0.66366,     0.66466,     0.66567,     0.66667,     0.66767,     0.66867,     0.66967,     0.67067,     0.67167,\n",
       "           0.67267,     0.67367,     0.67467,     0.67568,     0.67668,     0.67768,     0.67868,     0.67968,     0.68068,     0.68168,     0.68268,     0.68368,     0.68468,     0.68569,     0.68669,     0.68769,     0.68869,     0.68969,     0.69069,     0.69169,     0.69269,     0.69369,     0.69469,      0.6957,\n",
       "            0.6967,      0.6977,      0.6987,      0.6997,      0.7007,      0.7017,      0.7027,      0.7037,      0.7047,     0.70571,     0.70671,     0.70771,     0.70871,     0.70971,     0.71071,     0.71171,     0.71271,     0.71371,     0.71471,     0.71572,     0.71672,     0.71772,     0.71872,     0.71972,\n",
       "           0.72072,     0.72172,     0.72272,     0.72372,     0.72472,     0.72573,     0.72673,     0.72773,     0.72873,     0.72973,     0.73073,     0.73173,     0.73273,     0.73373,     0.73473,     0.73574,     0.73674,     0.73774,     0.73874,     0.73974,     0.74074,     0.74174,     0.74274,     0.74374,\n",
       "           0.74474,     0.74575,     0.74675,     0.74775,     0.74875,     0.74975,     0.75075,     0.75175,     0.75275,     0.75375,     0.75475,     0.75576,     0.75676,     0.75776,     0.75876,     0.75976,     0.76076,     0.76176,     0.76276,     0.76376,     0.76476,     0.76577,     0.76677,     0.76777,\n",
       "           0.76877,     0.76977,     0.77077,     0.77177,     0.77277,     0.77377,     0.77477,     0.77578,     0.77678,     0.77778,     0.77878,     0.77978,     0.78078,     0.78178,     0.78278,     0.78378,     0.78478,     0.78579,     0.78679,     0.78779,     0.78879,     0.78979,     0.79079,     0.79179,\n",
       "           0.79279,     0.79379,     0.79479,      0.7958,      0.7968,      0.7978,      0.7988,      0.7998,      0.8008,      0.8018,      0.8028,      0.8038,      0.8048,     0.80581,     0.80681,     0.80781,     0.80881,     0.80981,     0.81081,     0.81181,     0.81281,     0.81381,     0.81481,     0.81582,\n",
       "           0.81682,     0.81782,     0.81882,     0.81982,     0.82082,     0.82182,     0.82282,     0.82382,     0.82482,     0.82583,     0.82683,     0.82783,     0.82883,     0.82983,     0.83083,     0.83183,     0.83283,     0.83383,     0.83483,     0.83584,     0.83684,     0.83784,     0.83884,     0.83984,\n",
       "           0.84084,     0.84184,     0.84284,     0.84384,     0.84484,     0.84585,     0.84685,     0.84785,     0.84885,     0.84985,     0.85085,     0.85185,     0.85285,     0.85385,     0.85485,     0.85586,     0.85686,     0.85786,     0.85886,     0.85986,     0.86086,     0.86186,     0.86286,     0.86386,\n",
       "           0.86486,     0.86587,     0.86687,     0.86787,     0.86887,     0.86987,     0.87087,     0.87187,     0.87287,     0.87387,     0.87487,     0.87588,     0.87688,     0.87788,     0.87888,     0.87988,     0.88088,     0.88188,     0.88288,     0.88388,     0.88488,     0.88589,     0.88689,     0.88789,\n",
       "           0.88889,     0.88989,     0.89089,     0.89189,     0.89289,     0.89389,     0.89489,      0.8959,      0.8969,      0.8979,      0.8989,      0.8999,      0.9009,      0.9019,      0.9029,      0.9039,      0.9049,     0.90591,     0.90691,     0.90791,     0.90891,     0.90991,     0.91091,     0.91191,\n",
       "           0.91291,     0.91391,     0.91491,     0.91592,     0.91692,     0.91792,     0.91892,     0.91992,     0.92092,     0.92192,     0.92292,     0.92392,     0.92492,     0.92593,     0.92693,     0.92793,     0.92893,     0.92993,     0.93093,     0.93193,     0.93293,     0.93393,     0.93493,     0.93594,\n",
       "           0.93694,     0.93794,     0.93894,     0.93994,     0.94094,     0.94194,     0.94294,     0.94394,     0.94494,     0.94595,     0.94695,     0.94795,     0.94895,     0.94995,     0.95095,     0.95195,     0.95295,     0.95395,     0.95495,     0.95596,     0.95696,     0.95796,     0.95896,     0.95996,\n",
       "           0.96096,     0.96196,     0.96296,     0.96396,     0.96496,     0.96597,     0.96697,     0.96797,     0.96897,     0.96997,     0.97097,     0.97197,     0.97297,     0.97397,     0.97497,     0.97598,     0.97698,     0.97798,     0.97898,     0.97998,     0.98098,     0.98198,     0.98298,     0.98398,\n",
       "           0.98498,     0.98599,     0.98699,     0.98799,     0.98899,     0.98999,     0.99099,     0.99199,     0.99299,     0.99399,     0.99499,       0.996,       0.997,       0.998,       0.999,           1]), array([[    0.41518,     0.41518,     0.98877,     0.99466,     0.99466,     0.99467,     0.99467,     0.99468,     0.99468,     0.99469,      0.9947,      0.9947,     0.99471,     0.99471,     0.99472,     0.99472,     0.99473,     0.99473,     0.99474,     0.99474,     0.99475,     0.99476,     0.99476,\n",
       "            0.99477,     0.99477,     0.99478,     0.99478,     0.99479,     0.99479,      0.9948,      0.9948,     0.99481,     0.99482,     0.99482,     0.99483,     0.99483,     0.99484,     0.99484,     0.99485,     0.99485,     0.99486,     0.99486,     0.99487,     0.99488,     0.99488,     0.99489,\n",
       "            0.99489,      0.9949,      0.9949,     0.99491,     0.99491,     0.99492,     0.99492,     0.99493,     0.99493,     0.99494,     0.99495,     0.99495,     0.99496,     0.99496,     0.99497,     0.99497,     0.99498,     0.99498,     0.99499,     0.99499,       0.995,     0.99501,     0.99501,\n",
       "            0.99502,     0.99502,     0.99503,     0.99503,     0.99504,     0.99504,     0.99505,     0.99505,     0.99506,     0.99507,     0.99507,     0.99508,     0.99508,     0.99509,     0.99509,      0.9951,      0.9951,     0.99511,     0.99511,     0.99512,     0.99513,     0.99513,     0.99514,\n",
       "            0.99514,     0.99515,     0.99515,     0.99516,     0.99516,     0.99517,     0.99517,     0.99518,     0.99519,     0.99519,      0.9952,      0.9952,     0.99521,     0.99521,     0.99522,     0.99522,     0.99523,     0.99523,     0.99524,     0.99524,     0.99525,     0.99526,     0.99526,\n",
       "            0.99527,     0.99527,     0.99528,     0.99528,     0.99529,     0.99529,      0.9953,      0.9953,     0.99531,     0.99532,     0.99532,     0.99533,     0.99533,     0.99534,     0.99534,     0.99535,     0.99535,     0.99536,     0.99536,     0.99537,     0.99538,     0.99538,     0.99539,\n",
       "            0.99539,      0.9954,      0.9954,     0.99541,     0.99541,     0.99542,     0.99542,     0.99543,     0.99544,     0.99544,     0.99545,     0.99545,     0.99546,     0.99546,     0.99547,     0.99547,     0.99548,     0.99548,     0.99549,     0.99549,      0.9955,     0.99551,     0.99551,\n",
       "            0.99552,     0.99552,     0.99553,     0.99553,     0.99554,     0.99554,     0.99555,     0.99555,     0.99556,     0.99557,     0.99557,     0.99558,     0.99558,     0.99559,     0.99559,      0.9956,      0.9956,     0.99561,     0.99561,     0.99562,     0.99563,     0.99563,     0.99564,\n",
       "            0.99564,     0.99565,     0.99565,     0.99566,     0.99566,     0.99567,     0.99567,     0.99568,     0.99569,     0.99569,      0.9957,      0.9957,     0.99571,     0.99571,     0.99572,     0.99572,     0.99573,     0.99573,     0.99574,     0.99574,     0.99575,     0.99576,     0.99576,\n",
       "            0.99577,     0.99577,     0.99578,     0.99578,     0.99579,     0.99579,      0.9958,      0.9958,     0.99581,     0.99582,     0.99582,     0.99583,     0.99583,     0.99584,     0.99584,     0.99585,     0.99585,     0.99586,     0.99586,     0.99587,     0.99588,     0.99588,     0.99589,\n",
       "            0.99589,      0.9959,      0.9959,     0.99591,     0.99591,     0.99592,     0.99592,     0.99593,     0.99593,     0.99594,     0.99595,     0.99595,     0.99596,     0.99596,     0.99597,     0.99597,     0.99598,     0.99598,     0.99599,     0.99599,       0.996,     0.99601,     0.99601,\n",
       "            0.99602,     0.99602,     0.99603,     0.99603,     0.99604,     0.99604,     0.99605,     0.99605,     0.99606,     0.99607,     0.99607,     0.99608,     0.99608,     0.99609,     0.99609,      0.9961,      0.9961,     0.99611,     0.99611,     0.99612,     0.99612,     0.99613,     0.99614,\n",
       "            0.99614,     0.99615,     0.99615,     0.99616,     0.99616,     0.99617,     0.99617,     0.99618,     0.99618,     0.99619,      0.9962,      0.9962,     0.99621,     0.99621,     0.99622,     0.99622,     0.99623,     0.99623,     0.99624,     0.99624,     0.99625,     0.99626,     0.99626,\n",
       "            0.99627,     0.99627,     0.99628,     0.99628,     0.99629,     0.99629,      0.9963,      0.9963,     0.99631,     0.99631,     0.99632,     0.99633,     0.99633,     0.99634,     0.99634,     0.99635,     0.99635,     0.99636,     0.99636,     0.99637,     0.99637,     0.99638,     0.99639,\n",
       "            0.99639,      0.9964,      0.9964,     0.99641,     0.99641,     0.99642,     0.99642,     0.99643,     0.99643,     0.99644,     0.99645,     0.99645,     0.99646,     0.99646,     0.99647,     0.99647,     0.99648,     0.99648,     0.99649,     0.99649,      0.9965,      0.9965,     0.99651,\n",
       "            0.99652,     0.99652,     0.99653,     0.99653,     0.99654,     0.99654,     0.99655,     0.99655,     0.99656,     0.99656,     0.99657,     0.99658,     0.99658,     0.99659,     0.99659,      0.9966,      0.9966,     0.99661,     0.99661,     0.99662,     0.99662,     0.99663,     0.99663,\n",
       "            0.99664,     0.99665,     0.99665,     0.99666,     0.99666,     0.99667,     0.99667,     0.99668,     0.99668,     0.99669,     0.99669,      0.9967,     0.99671,     0.99671,     0.99672,     0.99672,     0.99673,     0.99673,     0.99674,     0.99674,     0.99675,     0.99675,     0.99676,\n",
       "            0.99676,     0.99677,     0.99678,     0.99678,     0.99679,     0.99679,      0.9968,      0.9968,     0.99681,     0.99681,     0.99682,     0.99682,     0.99683,     0.99684,     0.99684,     0.99685,     0.99685,     0.99686,     0.99686,     0.99687,     0.99687,     0.99688,     0.99688,\n",
       "            0.99689,      0.9969,      0.9969,     0.99691,     0.99691,     0.99692,     0.99692,     0.99693,     0.99693,     0.99694,     0.99694,     0.99695,     0.99695,     0.99696,     0.99697,     0.99697,     0.99698,     0.99698,     0.99699,     0.99699,       0.997,       0.997,     0.99701,\n",
       "            0.99701,     0.99702,     0.99703,     0.99703,     0.99704,     0.99704,     0.99705,     0.99705,     0.99706,     0.99706,     0.99707,     0.99707,     0.99708,     0.99708,     0.99709,      0.9971,      0.9971,     0.99711,     0.99711,     0.99712,     0.99712,     0.99713,     0.99713,\n",
       "            0.99714,     0.99714,     0.99715,     0.99716,     0.99716,     0.99717,     0.99717,     0.99718,     0.99718,     0.99719,     0.99719,      0.9972,      0.9972,     0.99721,     0.99721,     0.99722,     0.99723,     0.99723,     0.99724,     0.99724,     0.99725,     0.99725,     0.99726,\n",
       "            0.99726,     0.99727,     0.99727,     0.99728,     0.99729,     0.99729,      0.9973,      0.9973,     0.99731,     0.99731,     0.99732,     0.99732,     0.99733,     0.99733,     0.99734,     0.99734,     0.99735,     0.99736,     0.99736,     0.99737,     0.99737,     0.99738,     0.99738,\n",
       "            0.99739,     0.99739,      0.9974,      0.9974,     0.99741,     0.99741,     0.99742,     0.99743,     0.99743,     0.99744,     0.99744,     0.99745,     0.99745,     0.99746,     0.99746,     0.99747,     0.99747,     0.99748,     0.99749,     0.99749,      0.9975,      0.9975,     0.99751,\n",
       "            0.99751,     0.99752,     0.99752,     0.99753,     0.99753,     0.99754,     0.99754,     0.99755,     0.99756,     0.99756,     0.99757,     0.99757,     0.99758,     0.99758,     0.99759,     0.99759,      0.9976,      0.9976,     0.99761,     0.99762,     0.99762,     0.99763,     0.99763,\n",
       "            0.99764,     0.99764,     0.99765,     0.99765,     0.99766,     0.99766,     0.99767,     0.99767,     0.99768,     0.99769,     0.99769,      0.9977,      0.9977,     0.99771,     0.99771,     0.99772,     0.99772,     0.99773,     0.99773,     0.99774,     0.99775,     0.99775,     0.99776,\n",
       "            0.99776,     0.99777,     0.99777,     0.99778,     0.99778,     0.99779,     0.99779,      0.9978,      0.9978,     0.99781,     0.99782,     0.99782,     0.99783,     0.99783,     0.99784,     0.99784,     0.99785,     0.99785,     0.99786,     0.99786,     0.99787,     0.99787,     0.99788,\n",
       "            0.99789,     0.99789,      0.9979,      0.9979,     0.99791,     0.99791,     0.99792,     0.99792,     0.99793,     0.99793,     0.99794,     0.99795,     0.99795,     0.99796,     0.99796,     0.99797,     0.99797,     0.99798,     0.99798,     0.99799,     0.99799,       0.998,       0.998,\n",
       "            0.99801,     0.99802,     0.99802,     0.99803,     0.99803,     0.99804,     0.99804,     0.99805,     0.99805,     0.99806,     0.99806,     0.99807,     0.99807,     0.99808,     0.99809,     0.99809,      0.9981,      0.9981,     0.99811,     0.99811,     0.99812,     0.99812,     0.99813,\n",
       "            0.99813,     0.99814,     0.99815,     0.99815,     0.99816,     0.99816,     0.99817,     0.99817,     0.99818,     0.99818,     0.99819,     0.99819,      0.9982,      0.9982,     0.99821,     0.99822,     0.99822,     0.99823,     0.99823,     0.99824,     0.99824,     0.99825,     0.99825,\n",
       "            0.99826,     0.99826,     0.99827,     0.99827,     0.99828,     0.99829,     0.99829,      0.9983,      0.9983,     0.99831,     0.99831,     0.99832,     0.99832,     0.99833,     0.99833,     0.99834,     0.99835,     0.99835,     0.99836,     0.99836,     0.99837,     0.99837,     0.99838,\n",
       "            0.99838,     0.99839,     0.99839,      0.9984,      0.9984,     0.99841,     0.99842,     0.99842,     0.99843,     0.99843,     0.99844,     0.99844,     0.99845,     0.99845,     0.99846,     0.99846,     0.99847,     0.99847,     0.99848,     0.99849,     0.99849,      0.9985,      0.9985,\n",
       "            0.99851,     0.99851,     0.99852,     0.99852,     0.99853,     0.99853,     0.99854,     0.99855,     0.99855,     0.99856,     0.99856,     0.99857,     0.99857,     0.99858,     0.99858,     0.99859,     0.99859,      0.9986,      0.9986,     0.99861,     0.99862,     0.99862,     0.99863,\n",
       "            0.99863,     0.99864,     0.99864,     0.99865,     0.99865,     0.99866,     0.99866,     0.99867,     0.99867,     0.99868,     0.99869,     0.99869,      0.9987,      0.9987,     0.99871,     0.99871,     0.99872,     0.99872,     0.99873,     0.99873,     0.99874,     0.99874,     0.99875,\n",
       "            0.99876,     0.99876,     0.99877,     0.99877,     0.99878,     0.99878,     0.99879,     0.99879,      0.9988,      0.9988,     0.99881,     0.99882,     0.99882,     0.99883,     0.99883,     0.99884,     0.99884,     0.99885,     0.99885,     0.99886,     0.99886,     0.99887,     0.99887,\n",
       "            0.99888,     0.99889,     0.99889,      0.9989,      0.9989,     0.99891,     0.99891,     0.99892,     0.99892,     0.99893,     0.99893,     0.99894,     0.99894,     0.99895,     0.99896,     0.99896,     0.99897,     0.99897,     0.99898,     0.99898,     0.99899,     0.99899,       0.999,\n",
       "              0.999,     0.99901,     0.99901,     0.99902,     0.99903,     0.99903,     0.99904,     0.99904,     0.99905,     0.99905,     0.99906,     0.99906,     0.99907,     0.99907,     0.99908,     0.99908,     0.99909,      0.9991,      0.9991,     0.99911,     0.99911,     0.99912,     0.99912,\n",
       "            0.99913,     0.99913,     0.99914,     0.99914,     0.99915,     0.99916,     0.99916,     0.99917,     0.99917,     0.99918,     0.99918,     0.99919,     0.99919,      0.9992,      0.9992,     0.99921,     0.99921,     0.99922,     0.99923,     0.99923,     0.99924,     0.99924,     0.99925,\n",
       "            0.99925,     0.99926,     0.99926,     0.99927,     0.99927,     0.99928,     0.99928,     0.99929,      0.9993,      0.9993,     0.99931,     0.99931,     0.99932,     0.99932,     0.99933,     0.99933,     0.99934,     0.99934,     0.99935,     0.99935,     0.99936,     0.99937,     0.99937,\n",
       "            0.99938,     0.99938,     0.99939,     0.99939,      0.9994,      0.9994,     0.99941,     0.99941,     0.99942,     0.99942,     0.99943,     0.99944,     0.99944,     0.99945,     0.99945,     0.99946,     0.99946,     0.99947,     0.99947,     0.99948,     0.99948,     0.99949,     0.99949,\n",
       "             0.9995,     0.99951,     0.99951,     0.99952,     0.99952,     0.99953,     0.99953,     0.99954,     0.99954,     0.99955,     0.99955,     0.99956,     0.99956,     0.99957,     0.99958,     0.99958,     0.99959,     0.99959,      0.9996,      0.9996,     0.99961,     0.99961,     0.99962,\n",
       "            0.99962,     0.99963,     0.99963,     0.99964,     0.99965,     0.99965,     0.99966,     0.99966,     0.99967,     0.99967,     0.99968,     0.99968,     0.99969,     0.99969,      0.9997,      0.9997,     0.99971,     0.99972,     0.99972,     0.99973,     0.99973,     0.99974,     0.99974,\n",
       "            0.99975,     0.99975,     0.99976,     0.99976,     0.99977,     0.99978,     0.99978,     0.99979,     0.99979,      0.9998,      0.9998,     0.99981,     0.99981,     0.99982,     0.99982,     0.99983,     0.99983,     0.99984,     0.99985,     0.99985,     0.99986,     0.99986,     0.99987,\n",
       "            0.99987,     0.99988,     0.99988,     0.99989,     0.99989,      0.9999,      0.9999,     0.99991,     0.99992,     0.99992,     0.99993,     0.99993,     0.99994,     0.99994,     0.99995,     0.99995,     0.99996,     0.99996,     0.99997,     0.99997,     0.99998,     0.99999,     0.99999,\n",
       "                  1,     0.99672,     0.97858,     0.91669,     0.69686,     0.39284,     0.11085,           0,           0,           0,           0]]), 'Confidence', 'F1'], [array([          0,    0.001001,    0.002002,    0.003003,    0.004004,    0.005005,    0.006006,    0.007007,    0.008008,    0.009009,     0.01001,    0.011011,    0.012012,    0.013013,    0.014014,    0.015015,    0.016016,    0.017017,    0.018018,    0.019019,     0.02002,    0.021021,    0.022022,    0.023023,\n",
       "          0.024024,    0.025025,    0.026026,    0.027027,    0.028028,    0.029029,     0.03003,    0.031031,    0.032032,    0.033033,    0.034034,    0.035035,    0.036036,    0.037037,    0.038038,    0.039039,     0.04004,    0.041041,    0.042042,    0.043043,    0.044044,    0.045045,    0.046046,    0.047047,\n",
       "          0.048048,    0.049049,     0.05005,    0.051051,    0.052052,    0.053053,    0.054054,    0.055055,    0.056056,    0.057057,    0.058058,    0.059059,     0.06006,    0.061061,    0.062062,    0.063063,    0.064064,    0.065065,    0.066066,    0.067067,    0.068068,    0.069069,     0.07007,    0.071071,\n",
       "          0.072072,    0.073073,    0.074074,    0.075075,    0.076076,    0.077077,    0.078078,    0.079079,     0.08008,    0.081081,    0.082082,    0.083083,    0.084084,    0.085085,    0.086086,    0.087087,    0.088088,    0.089089,     0.09009,    0.091091,    0.092092,    0.093093,    0.094094,    0.095095,\n",
       "          0.096096,    0.097097,    0.098098,    0.099099,      0.1001,      0.1011,      0.1021,      0.1031,      0.1041,     0.10511,     0.10611,     0.10711,     0.10811,     0.10911,     0.11011,     0.11111,     0.11211,     0.11311,     0.11411,     0.11512,     0.11612,     0.11712,     0.11812,     0.11912,\n",
       "           0.12012,     0.12112,     0.12212,     0.12312,     0.12412,     0.12513,     0.12613,     0.12713,     0.12813,     0.12913,     0.13013,     0.13113,     0.13213,     0.13313,     0.13413,     0.13514,     0.13614,     0.13714,     0.13814,     0.13914,     0.14014,     0.14114,     0.14214,     0.14314,\n",
       "           0.14414,     0.14515,     0.14615,     0.14715,     0.14815,     0.14915,     0.15015,     0.15115,     0.15215,     0.15315,     0.15415,     0.15516,     0.15616,     0.15716,     0.15816,     0.15916,     0.16016,     0.16116,     0.16216,     0.16316,     0.16416,     0.16517,     0.16617,     0.16717,\n",
       "           0.16817,     0.16917,     0.17017,     0.17117,     0.17217,     0.17317,     0.17417,     0.17518,     0.17618,     0.17718,     0.17818,     0.17918,     0.18018,     0.18118,     0.18218,     0.18318,     0.18418,     0.18519,     0.18619,     0.18719,     0.18819,     0.18919,     0.19019,     0.19119,\n",
       "           0.19219,     0.19319,     0.19419,      0.1952,      0.1962,      0.1972,      0.1982,      0.1992,      0.2002,      0.2012,      0.2022,      0.2032,      0.2042,     0.20521,     0.20621,     0.20721,     0.20821,     0.20921,     0.21021,     0.21121,     0.21221,     0.21321,     0.21421,     0.21522,\n",
       "           0.21622,     0.21722,     0.21822,     0.21922,     0.22022,     0.22122,     0.22222,     0.22322,     0.22422,     0.22523,     0.22623,     0.22723,     0.22823,     0.22923,     0.23023,     0.23123,     0.23223,     0.23323,     0.23423,     0.23524,     0.23624,     0.23724,     0.23824,     0.23924,\n",
       "           0.24024,     0.24124,     0.24224,     0.24324,     0.24424,     0.24525,     0.24625,     0.24725,     0.24825,     0.24925,     0.25025,     0.25125,     0.25225,     0.25325,     0.25425,     0.25526,     0.25626,     0.25726,     0.25826,     0.25926,     0.26026,     0.26126,     0.26226,     0.26326,\n",
       "           0.26426,     0.26527,     0.26627,     0.26727,     0.26827,     0.26927,     0.27027,     0.27127,     0.27227,     0.27327,     0.27427,     0.27528,     0.27628,     0.27728,     0.27828,     0.27928,     0.28028,     0.28128,     0.28228,     0.28328,     0.28428,     0.28529,     0.28629,     0.28729,\n",
       "           0.28829,     0.28929,     0.29029,     0.29129,     0.29229,     0.29329,     0.29429,      0.2953,      0.2963,      0.2973,      0.2983,      0.2993,      0.3003,      0.3013,      0.3023,      0.3033,      0.3043,     0.30531,     0.30631,     0.30731,     0.30831,     0.30931,     0.31031,     0.31131,\n",
       "           0.31231,     0.31331,     0.31431,     0.31532,     0.31632,     0.31732,     0.31832,     0.31932,     0.32032,     0.32132,     0.32232,     0.32332,     0.32432,     0.32533,     0.32633,     0.32733,     0.32833,     0.32933,     0.33033,     0.33133,     0.33233,     0.33333,     0.33433,     0.33534,\n",
       "           0.33634,     0.33734,     0.33834,     0.33934,     0.34034,     0.34134,     0.34234,     0.34334,     0.34434,     0.34535,     0.34635,     0.34735,     0.34835,     0.34935,     0.35035,     0.35135,     0.35235,     0.35335,     0.35435,     0.35536,     0.35636,     0.35736,     0.35836,     0.35936,\n",
       "           0.36036,     0.36136,     0.36236,     0.36336,     0.36436,     0.36537,     0.36637,     0.36737,     0.36837,     0.36937,     0.37037,     0.37137,     0.37237,     0.37337,     0.37437,     0.37538,     0.37638,     0.37738,     0.37838,     0.37938,     0.38038,     0.38138,     0.38238,     0.38338,\n",
       "           0.38438,     0.38539,     0.38639,     0.38739,     0.38839,     0.38939,     0.39039,     0.39139,     0.39239,     0.39339,     0.39439,      0.3954,      0.3964,      0.3974,      0.3984,      0.3994,      0.4004,      0.4014,      0.4024,      0.4034,      0.4044,     0.40541,     0.40641,     0.40741,\n",
       "           0.40841,     0.40941,     0.41041,     0.41141,     0.41241,     0.41341,     0.41441,     0.41542,     0.41642,     0.41742,     0.41842,     0.41942,     0.42042,     0.42142,     0.42242,     0.42342,     0.42442,     0.42543,     0.42643,     0.42743,     0.42843,     0.42943,     0.43043,     0.43143,\n",
       "           0.43243,     0.43343,     0.43443,     0.43544,     0.43644,     0.43744,     0.43844,     0.43944,     0.44044,     0.44144,     0.44244,     0.44344,     0.44444,     0.44545,     0.44645,     0.44745,     0.44845,     0.44945,     0.45045,     0.45145,     0.45245,     0.45345,     0.45445,     0.45546,\n",
       "           0.45646,     0.45746,     0.45846,     0.45946,     0.46046,     0.46146,     0.46246,     0.46346,     0.46446,     0.46547,     0.46647,     0.46747,     0.46847,     0.46947,     0.47047,     0.47147,     0.47247,     0.47347,     0.47447,     0.47548,     0.47648,     0.47748,     0.47848,     0.47948,\n",
       "           0.48048,     0.48148,     0.48248,     0.48348,     0.48448,     0.48549,     0.48649,     0.48749,     0.48849,     0.48949,     0.49049,     0.49149,     0.49249,     0.49349,     0.49449,      0.4955,      0.4965,      0.4975,      0.4985,      0.4995,      0.5005,      0.5015,      0.5025,      0.5035,\n",
       "            0.5045,     0.50551,     0.50651,     0.50751,     0.50851,     0.50951,     0.51051,     0.51151,     0.51251,     0.51351,     0.51451,     0.51552,     0.51652,     0.51752,     0.51852,     0.51952,     0.52052,     0.52152,     0.52252,     0.52352,     0.52452,     0.52553,     0.52653,     0.52753,\n",
       "           0.52853,     0.52953,     0.53053,     0.53153,     0.53253,     0.53353,     0.53453,     0.53554,     0.53654,     0.53754,     0.53854,     0.53954,     0.54054,     0.54154,     0.54254,     0.54354,     0.54454,     0.54555,     0.54655,     0.54755,     0.54855,     0.54955,     0.55055,     0.55155,\n",
       "           0.55255,     0.55355,     0.55455,     0.55556,     0.55656,     0.55756,     0.55856,     0.55956,     0.56056,     0.56156,     0.56256,     0.56356,     0.56456,     0.56557,     0.56657,     0.56757,     0.56857,     0.56957,     0.57057,     0.57157,     0.57257,     0.57357,     0.57457,     0.57558,\n",
       "           0.57658,     0.57758,     0.57858,     0.57958,     0.58058,     0.58158,     0.58258,     0.58358,     0.58458,     0.58559,     0.58659,     0.58759,     0.58859,     0.58959,     0.59059,     0.59159,     0.59259,     0.59359,     0.59459,      0.5956,      0.5966,      0.5976,      0.5986,      0.5996,\n",
       "            0.6006,      0.6016,      0.6026,      0.6036,      0.6046,     0.60561,     0.60661,     0.60761,     0.60861,     0.60961,     0.61061,     0.61161,     0.61261,     0.61361,     0.61461,     0.61562,     0.61662,     0.61762,     0.61862,     0.61962,     0.62062,     0.62162,     0.62262,     0.62362,\n",
       "           0.62462,     0.62563,     0.62663,     0.62763,     0.62863,     0.62963,     0.63063,     0.63163,     0.63263,     0.63363,     0.63463,     0.63564,     0.63664,     0.63764,     0.63864,     0.63964,     0.64064,     0.64164,     0.64264,     0.64364,     0.64464,     0.64565,     0.64665,     0.64765,\n",
       "           0.64865,     0.64965,     0.65065,     0.65165,     0.65265,     0.65365,     0.65465,     0.65566,     0.65666,     0.65766,     0.65866,     0.65966,     0.66066,     0.66166,     0.66266,     0.66366,     0.66466,     0.66567,     0.66667,     0.66767,     0.66867,     0.66967,     0.67067,     0.67167,\n",
       "           0.67267,     0.67367,     0.67467,     0.67568,     0.67668,     0.67768,     0.67868,     0.67968,     0.68068,     0.68168,     0.68268,     0.68368,     0.68468,     0.68569,     0.68669,     0.68769,     0.68869,     0.68969,     0.69069,     0.69169,     0.69269,     0.69369,     0.69469,      0.6957,\n",
       "            0.6967,      0.6977,      0.6987,      0.6997,      0.7007,      0.7017,      0.7027,      0.7037,      0.7047,     0.70571,     0.70671,     0.70771,     0.70871,     0.70971,     0.71071,     0.71171,     0.71271,     0.71371,     0.71471,     0.71572,     0.71672,     0.71772,     0.71872,     0.71972,\n",
       "           0.72072,     0.72172,     0.72272,     0.72372,     0.72472,     0.72573,     0.72673,     0.72773,     0.72873,     0.72973,     0.73073,     0.73173,     0.73273,     0.73373,     0.73473,     0.73574,     0.73674,     0.73774,     0.73874,     0.73974,     0.74074,     0.74174,     0.74274,     0.74374,\n",
       "           0.74474,     0.74575,     0.74675,     0.74775,     0.74875,     0.74975,     0.75075,     0.75175,     0.75275,     0.75375,     0.75475,     0.75576,     0.75676,     0.75776,     0.75876,     0.75976,     0.76076,     0.76176,     0.76276,     0.76376,     0.76476,     0.76577,     0.76677,     0.76777,\n",
       "           0.76877,     0.76977,     0.77077,     0.77177,     0.77277,     0.77377,     0.77477,     0.77578,     0.77678,     0.77778,     0.77878,     0.77978,     0.78078,     0.78178,     0.78278,     0.78378,     0.78478,     0.78579,     0.78679,     0.78779,     0.78879,     0.78979,     0.79079,     0.79179,\n",
       "           0.79279,     0.79379,     0.79479,      0.7958,      0.7968,      0.7978,      0.7988,      0.7998,      0.8008,      0.8018,      0.8028,      0.8038,      0.8048,     0.80581,     0.80681,     0.80781,     0.80881,     0.80981,     0.81081,     0.81181,     0.81281,     0.81381,     0.81481,     0.81582,\n",
       "           0.81682,     0.81782,     0.81882,     0.81982,     0.82082,     0.82182,     0.82282,     0.82382,     0.82482,     0.82583,     0.82683,     0.82783,     0.82883,     0.82983,     0.83083,     0.83183,     0.83283,     0.83383,     0.83483,     0.83584,     0.83684,     0.83784,     0.83884,     0.83984,\n",
       "           0.84084,     0.84184,     0.84284,     0.84384,     0.84484,     0.84585,     0.84685,     0.84785,     0.84885,     0.84985,     0.85085,     0.85185,     0.85285,     0.85385,     0.85485,     0.85586,     0.85686,     0.85786,     0.85886,     0.85986,     0.86086,     0.86186,     0.86286,     0.86386,\n",
       "           0.86486,     0.86587,     0.86687,     0.86787,     0.86887,     0.86987,     0.87087,     0.87187,     0.87287,     0.87387,     0.87487,     0.87588,     0.87688,     0.87788,     0.87888,     0.87988,     0.88088,     0.88188,     0.88288,     0.88388,     0.88488,     0.88589,     0.88689,     0.88789,\n",
       "           0.88889,     0.88989,     0.89089,     0.89189,     0.89289,     0.89389,     0.89489,      0.8959,      0.8969,      0.8979,      0.8989,      0.8999,      0.9009,      0.9019,      0.9029,      0.9039,      0.9049,     0.90591,     0.90691,     0.90791,     0.90891,     0.90991,     0.91091,     0.91191,\n",
       "           0.91291,     0.91391,     0.91491,     0.91592,     0.91692,     0.91792,     0.91892,     0.91992,     0.92092,     0.92192,     0.92292,     0.92392,     0.92492,     0.92593,     0.92693,     0.92793,     0.92893,     0.92993,     0.93093,     0.93193,     0.93293,     0.93393,     0.93493,     0.93594,\n",
       "           0.93694,     0.93794,     0.93894,     0.93994,     0.94094,     0.94194,     0.94294,     0.94394,     0.94494,     0.94595,     0.94695,     0.94795,     0.94895,     0.94995,     0.95095,     0.95195,     0.95295,     0.95395,     0.95495,     0.95596,     0.95696,     0.95796,     0.95896,     0.95996,\n",
       "           0.96096,     0.96196,     0.96296,     0.96396,     0.96496,     0.96597,     0.96697,     0.96797,     0.96897,     0.96997,     0.97097,     0.97197,     0.97297,     0.97397,     0.97497,     0.97598,     0.97698,     0.97798,     0.97898,     0.97998,     0.98098,     0.98198,     0.98298,     0.98398,\n",
       "           0.98498,     0.98599,     0.98699,     0.98799,     0.98899,     0.98999,     0.99099,     0.99199,     0.99299,     0.99399,     0.99499,       0.996,       0.997,       0.998,       0.999,           1]), array([[    0.26197,     0.26197,     0.97779,     0.98937,     0.98938,     0.98939,      0.9894,     0.98941,     0.98943,     0.98944,     0.98945,     0.98946,     0.98947,     0.98948,     0.98949,      0.9895,     0.98951,     0.98952,     0.98953,     0.98954,     0.98955,     0.98957,     0.98958,\n",
       "            0.98959,      0.9896,     0.98961,     0.98962,     0.98963,     0.98964,     0.98965,     0.98966,     0.98967,     0.98968,     0.98969,     0.98971,     0.98972,     0.98973,     0.98974,     0.98975,     0.98976,     0.98977,     0.98978,     0.98979,      0.9898,     0.98981,     0.98982,\n",
       "            0.98983,     0.98985,     0.98986,     0.98987,     0.98988,     0.98989,      0.9899,     0.98991,     0.98992,     0.98993,     0.98994,     0.98995,     0.98996,     0.98997,     0.98999,        0.99,     0.99001,     0.99002,     0.99003,     0.99004,     0.99005,     0.99006,     0.99007,\n",
       "            0.99008,     0.99009,      0.9901,     0.99011,     0.99013,     0.99014,     0.99015,     0.99016,     0.99017,     0.99018,     0.99019,      0.9902,     0.99021,     0.99022,     0.99023,     0.99024,     0.99025,     0.99027,     0.99028,     0.99029,      0.9903,     0.99031,     0.99032,\n",
       "            0.99033,     0.99034,     0.99035,     0.99036,     0.99037,     0.99038,     0.99039,     0.99041,     0.99042,     0.99043,     0.99044,     0.99045,     0.99046,     0.99047,     0.99048,     0.99049,      0.9905,     0.99051,     0.99052,     0.99053,     0.99055,     0.99056,     0.99057,\n",
       "            0.99058,     0.99059,      0.9906,     0.99061,     0.99062,     0.99063,     0.99064,     0.99065,     0.99066,     0.99067,     0.99069,      0.9907,     0.99071,     0.99072,     0.99073,     0.99074,     0.99075,     0.99076,     0.99077,     0.99078,     0.99079,      0.9908,     0.99081,\n",
       "            0.99083,     0.99084,     0.99085,     0.99086,     0.99087,     0.99088,     0.99089,      0.9909,     0.99091,     0.99092,     0.99093,     0.99094,     0.99095,     0.99097,     0.99098,     0.99099,       0.991,     0.99101,     0.99102,     0.99103,     0.99104,     0.99105,     0.99106,\n",
       "            0.99107,     0.99108,      0.9911,     0.99111,     0.99112,     0.99113,     0.99114,     0.99115,     0.99116,     0.99117,     0.99118,     0.99119,      0.9912,     0.99121,     0.99122,     0.99124,     0.99125,     0.99126,     0.99127,     0.99128,     0.99129,      0.9913,     0.99131,\n",
       "            0.99132,     0.99133,     0.99134,     0.99135,     0.99136,     0.99138,     0.99139,      0.9914,     0.99141,     0.99142,     0.99143,     0.99144,     0.99145,     0.99146,     0.99147,     0.99148,     0.99149,      0.9915,     0.99152,     0.99153,     0.99154,     0.99155,     0.99156,\n",
       "            0.99157,     0.99158,     0.99159,      0.9916,     0.99161,     0.99162,     0.99163,     0.99164,     0.99166,     0.99167,     0.99168,     0.99169,      0.9917,     0.99171,     0.99172,     0.99173,     0.99174,     0.99175,     0.99176,     0.99177,     0.99178,      0.9918,     0.99181,\n",
       "            0.99182,     0.99183,     0.99184,     0.99185,     0.99186,     0.99187,     0.99188,     0.99189,      0.9919,     0.99191,     0.99192,     0.99194,     0.99195,     0.99196,     0.99197,     0.99198,     0.99199,       0.992,     0.99201,     0.99202,     0.99203,     0.99204,     0.99205,\n",
       "            0.99206,     0.99208,     0.99209,      0.9921,     0.99211,     0.99212,     0.99213,     0.99214,     0.99215,     0.99216,     0.99217,     0.99218,     0.99219,      0.9922,     0.99222,     0.99223,     0.99224,     0.99225,     0.99226,     0.99227,     0.99228,     0.99229,      0.9923,\n",
       "            0.99231,     0.99232,     0.99233,     0.99234,     0.99236,     0.99237,     0.99238,     0.99239,      0.9924,     0.99241,     0.99242,     0.99243,     0.99244,     0.99245,     0.99246,     0.99247,     0.99248,      0.9925,     0.99251,     0.99252,     0.99253,     0.99254,     0.99255,\n",
       "            0.99256,     0.99257,     0.99258,     0.99259,      0.9926,     0.99261,     0.99262,     0.99264,     0.99265,     0.99266,     0.99267,     0.99268,     0.99269,      0.9927,     0.99271,     0.99272,     0.99273,     0.99274,     0.99275,     0.99276,     0.99278,     0.99279,      0.9928,\n",
       "            0.99281,     0.99282,     0.99283,     0.99284,     0.99285,     0.99286,     0.99287,     0.99288,     0.99289,      0.9929,     0.99292,     0.99293,     0.99294,     0.99295,     0.99296,     0.99297,     0.99298,     0.99299,       0.993,     0.99301,     0.99302,     0.99303,     0.99304,\n",
       "            0.99306,     0.99307,     0.99308,     0.99309,      0.9931,     0.99311,     0.99312,     0.99313,     0.99314,     0.99315,     0.99316,     0.99317,     0.99318,      0.9932,     0.99321,     0.99322,     0.99323,     0.99324,     0.99325,     0.99326,     0.99327,     0.99328,     0.99329,\n",
       "             0.9933,     0.99331,     0.99332,     0.99334,     0.99335,     0.99336,     0.99337,     0.99338,     0.99339,      0.9934,     0.99341,     0.99342,     0.99343,     0.99344,     0.99345,     0.99346,     0.99348,     0.99349,      0.9935,     0.99351,     0.99352,     0.99353,     0.99354,\n",
       "            0.99355,     0.99356,     0.99357,     0.99358,     0.99359,      0.9936,     0.99362,     0.99363,     0.99364,     0.99365,     0.99366,     0.99367,     0.99368,     0.99369,      0.9937,     0.99371,     0.99372,     0.99373,     0.99374,     0.99376,     0.99377,     0.99378,     0.99379,\n",
       "             0.9938,     0.99381,     0.99382,     0.99383,     0.99384,     0.99385,     0.99386,     0.99387,     0.99388,      0.9939,     0.99391,     0.99392,     0.99393,     0.99394,     0.99395,     0.99396,     0.99397,     0.99398,     0.99399,       0.994,     0.99401,     0.99402,     0.99404,\n",
       "            0.99405,     0.99406,     0.99407,     0.99408,     0.99409,      0.9941,     0.99411,     0.99412,     0.99413,     0.99414,     0.99415,     0.99416,     0.99418,     0.99419,      0.9942,     0.99421,     0.99422,     0.99423,     0.99424,     0.99425,     0.99426,     0.99427,     0.99428,\n",
       "            0.99429,      0.9943,     0.99432,     0.99433,     0.99434,     0.99435,     0.99436,     0.99437,     0.99438,     0.99439,      0.9944,     0.99441,     0.99442,     0.99443,     0.99444,     0.99446,     0.99447,     0.99448,     0.99449,      0.9945,     0.99451,     0.99452,     0.99453,\n",
       "            0.99454,     0.99455,     0.99456,     0.99457,     0.99458,      0.9946,     0.99461,     0.99462,     0.99463,     0.99464,     0.99465,     0.99466,     0.99467,     0.99468,     0.99469,      0.9947,     0.99471,     0.99472,     0.99474,     0.99475,     0.99476,     0.99477,     0.99478,\n",
       "            0.99479,      0.9948,     0.99481,     0.99482,     0.99483,     0.99484,     0.99485,     0.99486,     0.99488,     0.99489,      0.9949,     0.99491,     0.99492,     0.99493,     0.99494,     0.99495,     0.99496,     0.99497,     0.99498,     0.99499,       0.995,     0.99502,     0.99503,\n",
       "            0.99504,     0.99505,     0.99506,     0.99507,     0.99508,     0.99509,      0.9951,     0.99511,     0.99512,     0.99513,     0.99514,     0.99516,     0.99517,     0.99518,     0.99519,      0.9952,     0.99521,     0.99522,     0.99523,     0.99524,     0.99525,     0.99526,     0.99527,\n",
       "            0.99528,      0.9953,     0.99531,     0.99532,     0.99533,     0.99534,     0.99535,     0.99536,     0.99537,     0.99538,     0.99539,      0.9954,     0.99541,     0.99542,     0.99544,     0.99545,     0.99546,     0.99547,     0.99548,     0.99549,      0.9955,     0.99551,     0.99552,\n",
       "            0.99553,     0.99554,     0.99555,     0.99556,     0.99558,     0.99559,      0.9956,     0.99561,     0.99562,     0.99563,     0.99564,     0.99565,     0.99566,     0.99567,     0.99568,     0.99569,      0.9957,     0.99572,     0.99573,     0.99574,     0.99575,     0.99576,     0.99577,\n",
       "            0.99578,     0.99579,      0.9958,     0.99581,     0.99582,     0.99583,     0.99584,     0.99586,     0.99587,     0.99588,     0.99589,      0.9959,     0.99591,     0.99592,     0.99593,     0.99594,     0.99595,     0.99596,     0.99597,     0.99598,       0.996,     0.99601,     0.99602,\n",
       "            0.99603,     0.99604,     0.99605,     0.99606,     0.99607,     0.99608,     0.99609,      0.9961,     0.99611,     0.99613,     0.99614,     0.99615,     0.99616,     0.99617,     0.99618,     0.99619,      0.9962,     0.99621,     0.99622,     0.99623,     0.99624,     0.99625,     0.99627,\n",
       "            0.99628,     0.99629,      0.9963,     0.99631,     0.99632,     0.99633,     0.99634,     0.99635,     0.99636,     0.99637,     0.99638,     0.99639,     0.99641,     0.99642,     0.99643,     0.99644,     0.99645,     0.99646,     0.99647,     0.99648,     0.99649,      0.9965,     0.99651,\n",
       "            0.99652,     0.99653,     0.99655,     0.99656,     0.99657,     0.99658,     0.99659,      0.9966,     0.99661,     0.99662,     0.99663,     0.99664,     0.99665,     0.99666,     0.99667,     0.99669,      0.9967,     0.99671,     0.99672,     0.99673,     0.99674,     0.99675,     0.99676,\n",
       "            0.99677,     0.99678,     0.99679,      0.9968,     0.99681,     0.99683,     0.99684,     0.99685,     0.99686,     0.99687,     0.99688,     0.99689,      0.9969,     0.99691,     0.99692,     0.99693,     0.99694,     0.99695,     0.99697,     0.99698,     0.99699,       0.997,     0.99701,\n",
       "            0.99702,     0.99703,     0.99704,     0.99705,     0.99706,     0.99707,     0.99708,     0.99709,     0.99711,     0.99712,     0.99713,     0.99714,     0.99715,     0.99716,     0.99717,     0.99718,     0.99719,      0.9972,     0.99721,     0.99722,     0.99723,     0.99725,     0.99726,\n",
       "            0.99727,     0.99728,     0.99729,      0.9973,     0.99731,     0.99732,     0.99733,     0.99734,     0.99735,     0.99736,     0.99737,     0.99739,      0.9974,     0.99741,     0.99742,     0.99743,     0.99744,     0.99745,     0.99746,     0.99747,     0.99748,     0.99749,      0.9975,\n",
       "            0.99751,     0.99753,     0.99754,     0.99755,     0.99756,     0.99757,     0.99758,     0.99759,      0.9976,     0.99761,     0.99762,     0.99763,     0.99764,     0.99765,     0.99767,     0.99768,     0.99769,      0.9977,     0.99771,     0.99772,     0.99773,     0.99774,     0.99775,\n",
       "            0.99776,     0.99777,     0.99778,     0.99779,     0.99781,     0.99782,     0.99783,     0.99784,     0.99785,     0.99786,     0.99787,     0.99788,     0.99789,      0.9979,     0.99791,     0.99792,     0.99793,     0.99795,     0.99796,     0.99797,     0.99798,     0.99799,       0.998,\n",
       "            0.99801,     0.99802,     0.99803,     0.99804,     0.99805,     0.99806,     0.99807,     0.99809,      0.9981,     0.99811,     0.99812,     0.99813,     0.99814,     0.99815,     0.99816,     0.99817,     0.99818,     0.99819,      0.9982,     0.99821,     0.99823,     0.99824,     0.99825,\n",
       "            0.99826,     0.99827,     0.99828,     0.99829,      0.9983,     0.99831,     0.99832,     0.99833,     0.99834,     0.99835,     0.99837,     0.99838,     0.99839,      0.9984,     0.99841,     0.99842,     0.99843,     0.99844,     0.99845,     0.99846,     0.99847,     0.99848,     0.99849,\n",
       "            0.99851,     0.99852,     0.99853,     0.99854,     0.99855,     0.99856,     0.99857,     0.99858,     0.99859,      0.9986,     0.99861,     0.99862,     0.99863,     0.99865,     0.99866,     0.99867,     0.99868,     0.99869,      0.9987,     0.99871,     0.99872,     0.99873,     0.99874,\n",
       "            0.99875,     0.99876,     0.99877,     0.99879,      0.9988,     0.99881,     0.99882,     0.99883,     0.99884,     0.99885,     0.99886,     0.99887,     0.99888,     0.99889,      0.9989,     0.99891,     0.99893,     0.99894,     0.99895,     0.99896,     0.99897,     0.99898,     0.99899,\n",
       "              0.999,     0.99901,     0.99902,     0.99903,     0.99904,     0.99905,     0.99907,     0.99908,     0.99909,      0.9991,     0.99911,     0.99912,     0.99913,     0.99914,     0.99915,     0.99916,     0.99917,     0.99918,     0.99919,     0.99921,     0.99922,     0.99923,     0.99924,\n",
       "            0.99925,     0.99926,     0.99927,     0.99928,     0.99929,      0.9993,     0.99931,     0.99932,     0.99933,     0.99935,     0.99936,     0.99937,     0.99938,     0.99939,      0.9994,     0.99941,     0.99942,     0.99943,     0.99944,     0.99945,     0.99946,     0.99947,     0.99949,\n",
       "             0.9995,     0.99951,     0.99952,     0.99953,     0.99954,     0.99955,     0.99956,     0.99957,     0.99958,     0.99959,      0.9996,     0.99961,     0.99963,     0.99964,     0.99965,     0.99966,     0.99967,     0.99968,     0.99969,      0.9997,     0.99971,     0.99972,     0.99973,\n",
       "            0.99974,     0.99975,     0.99977,     0.99978,     0.99979,      0.9998,     0.99981,     0.99982,     0.99983,     0.99984,     0.99985,     0.99986,     0.99987,     0.99988,     0.99989,     0.99991,     0.99992,     0.99993,     0.99994,     0.99995,     0.99996,     0.99997,     0.99998,\n",
       "            0.99999,           1,           1,           1,           1,           1,           1,           1,           1,           1,           1]]), 'Confidence', 'Precision'], [array([          0,    0.001001,    0.002002,    0.003003,    0.004004,    0.005005,    0.006006,    0.007007,    0.008008,    0.009009,     0.01001,    0.011011,    0.012012,    0.013013,    0.014014,    0.015015,    0.016016,    0.017017,    0.018018,    0.019019,     0.02002,    0.021021,    0.022022,    0.023023,\n",
       "          0.024024,    0.025025,    0.026026,    0.027027,    0.028028,    0.029029,     0.03003,    0.031031,    0.032032,    0.033033,    0.034034,    0.035035,    0.036036,    0.037037,    0.038038,    0.039039,     0.04004,    0.041041,    0.042042,    0.043043,    0.044044,    0.045045,    0.046046,    0.047047,\n",
       "          0.048048,    0.049049,     0.05005,    0.051051,    0.052052,    0.053053,    0.054054,    0.055055,    0.056056,    0.057057,    0.058058,    0.059059,     0.06006,    0.061061,    0.062062,    0.063063,    0.064064,    0.065065,    0.066066,    0.067067,    0.068068,    0.069069,     0.07007,    0.071071,\n",
       "          0.072072,    0.073073,    0.074074,    0.075075,    0.076076,    0.077077,    0.078078,    0.079079,     0.08008,    0.081081,    0.082082,    0.083083,    0.084084,    0.085085,    0.086086,    0.087087,    0.088088,    0.089089,     0.09009,    0.091091,    0.092092,    0.093093,    0.094094,    0.095095,\n",
       "          0.096096,    0.097097,    0.098098,    0.099099,      0.1001,      0.1011,      0.1021,      0.1031,      0.1041,     0.10511,     0.10611,     0.10711,     0.10811,     0.10911,     0.11011,     0.11111,     0.11211,     0.11311,     0.11411,     0.11512,     0.11612,     0.11712,     0.11812,     0.11912,\n",
       "           0.12012,     0.12112,     0.12212,     0.12312,     0.12412,     0.12513,     0.12613,     0.12713,     0.12813,     0.12913,     0.13013,     0.13113,     0.13213,     0.13313,     0.13413,     0.13514,     0.13614,     0.13714,     0.13814,     0.13914,     0.14014,     0.14114,     0.14214,     0.14314,\n",
       "           0.14414,     0.14515,     0.14615,     0.14715,     0.14815,     0.14915,     0.15015,     0.15115,     0.15215,     0.15315,     0.15415,     0.15516,     0.15616,     0.15716,     0.15816,     0.15916,     0.16016,     0.16116,     0.16216,     0.16316,     0.16416,     0.16517,     0.16617,     0.16717,\n",
       "           0.16817,     0.16917,     0.17017,     0.17117,     0.17217,     0.17317,     0.17417,     0.17518,     0.17618,     0.17718,     0.17818,     0.17918,     0.18018,     0.18118,     0.18218,     0.18318,     0.18418,     0.18519,     0.18619,     0.18719,     0.18819,     0.18919,     0.19019,     0.19119,\n",
       "           0.19219,     0.19319,     0.19419,      0.1952,      0.1962,      0.1972,      0.1982,      0.1992,      0.2002,      0.2012,      0.2022,      0.2032,      0.2042,     0.20521,     0.20621,     0.20721,     0.20821,     0.20921,     0.21021,     0.21121,     0.21221,     0.21321,     0.21421,     0.21522,\n",
       "           0.21622,     0.21722,     0.21822,     0.21922,     0.22022,     0.22122,     0.22222,     0.22322,     0.22422,     0.22523,     0.22623,     0.22723,     0.22823,     0.22923,     0.23023,     0.23123,     0.23223,     0.23323,     0.23423,     0.23524,     0.23624,     0.23724,     0.23824,     0.23924,\n",
       "           0.24024,     0.24124,     0.24224,     0.24324,     0.24424,     0.24525,     0.24625,     0.24725,     0.24825,     0.24925,     0.25025,     0.25125,     0.25225,     0.25325,     0.25425,     0.25526,     0.25626,     0.25726,     0.25826,     0.25926,     0.26026,     0.26126,     0.26226,     0.26326,\n",
       "           0.26426,     0.26527,     0.26627,     0.26727,     0.26827,     0.26927,     0.27027,     0.27127,     0.27227,     0.27327,     0.27427,     0.27528,     0.27628,     0.27728,     0.27828,     0.27928,     0.28028,     0.28128,     0.28228,     0.28328,     0.28428,     0.28529,     0.28629,     0.28729,\n",
       "           0.28829,     0.28929,     0.29029,     0.29129,     0.29229,     0.29329,     0.29429,      0.2953,      0.2963,      0.2973,      0.2983,      0.2993,      0.3003,      0.3013,      0.3023,      0.3033,      0.3043,     0.30531,     0.30631,     0.30731,     0.30831,     0.30931,     0.31031,     0.31131,\n",
       "           0.31231,     0.31331,     0.31431,     0.31532,     0.31632,     0.31732,     0.31832,     0.31932,     0.32032,     0.32132,     0.32232,     0.32332,     0.32432,     0.32533,     0.32633,     0.32733,     0.32833,     0.32933,     0.33033,     0.33133,     0.33233,     0.33333,     0.33433,     0.33534,\n",
       "           0.33634,     0.33734,     0.33834,     0.33934,     0.34034,     0.34134,     0.34234,     0.34334,     0.34434,     0.34535,     0.34635,     0.34735,     0.34835,     0.34935,     0.35035,     0.35135,     0.35235,     0.35335,     0.35435,     0.35536,     0.35636,     0.35736,     0.35836,     0.35936,\n",
       "           0.36036,     0.36136,     0.36236,     0.36336,     0.36436,     0.36537,     0.36637,     0.36737,     0.36837,     0.36937,     0.37037,     0.37137,     0.37237,     0.37337,     0.37437,     0.37538,     0.37638,     0.37738,     0.37838,     0.37938,     0.38038,     0.38138,     0.38238,     0.38338,\n",
       "           0.38438,     0.38539,     0.38639,     0.38739,     0.38839,     0.38939,     0.39039,     0.39139,     0.39239,     0.39339,     0.39439,      0.3954,      0.3964,      0.3974,      0.3984,      0.3994,      0.4004,      0.4014,      0.4024,      0.4034,      0.4044,     0.40541,     0.40641,     0.40741,\n",
       "           0.40841,     0.40941,     0.41041,     0.41141,     0.41241,     0.41341,     0.41441,     0.41542,     0.41642,     0.41742,     0.41842,     0.41942,     0.42042,     0.42142,     0.42242,     0.42342,     0.42442,     0.42543,     0.42643,     0.42743,     0.42843,     0.42943,     0.43043,     0.43143,\n",
       "           0.43243,     0.43343,     0.43443,     0.43544,     0.43644,     0.43744,     0.43844,     0.43944,     0.44044,     0.44144,     0.44244,     0.44344,     0.44444,     0.44545,     0.44645,     0.44745,     0.44845,     0.44945,     0.45045,     0.45145,     0.45245,     0.45345,     0.45445,     0.45546,\n",
       "           0.45646,     0.45746,     0.45846,     0.45946,     0.46046,     0.46146,     0.46246,     0.46346,     0.46446,     0.46547,     0.46647,     0.46747,     0.46847,     0.46947,     0.47047,     0.47147,     0.47247,     0.47347,     0.47447,     0.47548,     0.47648,     0.47748,     0.47848,     0.47948,\n",
       "           0.48048,     0.48148,     0.48248,     0.48348,     0.48448,     0.48549,     0.48649,     0.48749,     0.48849,     0.48949,     0.49049,     0.49149,     0.49249,     0.49349,     0.49449,      0.4955,      0.4965,      0.4975,      0.4985,      0.4995,      0.5005,      0.5015,      0.5025,      0.5035,\n",
       "            0.5045,     0.50551,     0.50651,     0.50751,     0.50851,     0.50951,     0.51051,     0.51151,     0.51251,     0.51351,     0.51451,     0.51552,     0.51652,     0.51752,     0.51852,     0.51952,     0.52052,     0.52152,     0.52252,     0.52352,     0.52452,     0.52553,     0.52653,     0.52753,\n",
       "           0.52853,     0.52953,     0.53053,     0.53153,     0.53253,     0.53353,     0.53453,     0.53554,     0.53654,     0.53754,     0.53854,     0.53954,     0.54054,     0.54154,     0.54254,     0.54354,     0.54454,     0.54555,     0.54655,     0.54755,     0.54855,     0.54955,     0.55055,     0.55155,\n",
       "           0.55255,     0.55355,     0.55455,     0.55556,     0.55656,     0.55756,     0.55856,     0.55956,     0.56056,     0.56156,     0.56256,     0.56356,     0.56456,     0.56557,     0.56657,     0.56757,     0.56857,     0.56957,     0.57057,     0.57157,     0.57257,     0.57357,     0.57457,     0.57558,\n",
       "           0.57658,     0.57758,     0.57858,     0.57958,     0.58058,     0.58158,     0.58258,     0.58358,     0.58458,     0.58559,     0.58659,     0.58759,     0.58859,     0.58959,     0.59059,     0.59159,     0.59259,     0.59359,     0.59459,      0.5956,      0.5966,      0.5976,      0.5986,      0.5996,\n",
       "            0.6006,      0.6016,      0.6026,      0.6036,      0.6046,     0.60561,     0.60661,     0.60761,     0.60861,     0.60961,     0.61061,     0.61161,     0.61261,     0.61361,     0.61461,     0.61562,     0.61662,     0.61762,     0.61862,     0.61962,     0.62062,     0.62162,     0.62262,     0.62362,\n",
       "           0.62462,     0.62563,     0.62663,     0.62763,     0.62863,     0.62963,     0.63063,     0.63163,     0.63263,     0.63363,     0.63463,     0.63564,     0.63664,     0.63764,     0.63864,     0.63964,     0.64064,     0.64164,     0.64264,     0.64364,     0.64464,     0.64565,     0.64665,     0.64765,\n",
       "           0.64865,     0.64965,     0.65065,     0.65165,     0.65265,     0.65365,     0.65465,     0.65566,     0.65666,     0.65766,     0.65866,     0.65966,     0.66066,     0.66166,     0.66266,     0.66366,     0.66466,     0.66567,     0.66667,     0.66767,     0.66867,     0.66967,     0.67067,     0.67167,\n",
       "           0.67267,     0.67367,     0.67467,     0.67568,     0.67668,     0.67768,     0.67868,     0.67968,     0.68068,     0.68168,     0.68268,     0.68368,     0.68468,     0.68569,     0.68669,     0.68769,     0.68869,     0.68969,     0.69069,     0.69169,     0.69269,     0.69369,     0.69469,      0.6957,\n",
       "            0.6967,      0.6977,      0.6987,      0.6997,      0.7007,      0.7017,      0.7027,      0.7037,      0.7047,     0.70571,     0.70671,     0.70771,     0.70871,     0.70971,     0.71071,     0.71171,     0.71271,     0.71371,     0.71471,     0.71572,     0.71672,     0.71772,     0.71872,     0.71972,\n",
       "           0.72072,     0.72172,     0.72272,     0.72372,     0.72472,     0.72573,     0.72673,     0.72773,     0.72873,     0.72973,     0.73073,     0.73173,     0.73273,     0.73373,     0.73473,     0.73574,     0.73674,     0.73774,     0.73874,     0.73974,     0.74074,     0.74174,     0.74274,     0.74374,\n",
       "           0.74474,     0.74575,     0.74675,     0.74775,     0.74875,     0.74975,     0.75075,     0.75175,     0.75275,     0.75375,     0.75475,     0.75576,     0.75676,     0.75776,     0.75876,     0.75976,     0.76076,     0.76176,     0.76276,     0.76376,     0.76476,     0.76577,     0.76677,     0.76777,\n",
       "           0.76877,     0.76977,     0.77077,     0.77177,     0.77277,     0.77377,     0.77477,     0.77578,     0.77678,     0.77778,     0.77878,     0.77978,     0.78078,     0.78178,     0.78278,     0.78378,     0.78478,     0.78579,     0.78679,     0.78779,     0.78879,     0.78979,     0.79079,     0.79179,\n",
       "           0.79279,     0.79379,     0.79479,      0.7958,      0.7968,      0.7978,      0.7988,      0.7998,      0.8008,      0.8018,      0.8028,      0.8038,      0.8048,     0.80581,     0.80681,     0.80781,     0.80881,     0.80981,     0.81081,     0.81181,     0.81281,     0.81381,     0.81481,     0.81582,\n",
       "           0.81682,     0.81782,     0.81882,     0.81982,     0.82082,     0.82182,     0.82282,     0.82382,     0.82482,     0.82583,     0.82683,     0.82783,     0.82883,     0.82983,     0.83083,     0.83183,     0.83283,     0.83383,     0.83483,     0.83584,     0.83684,     0.83784,     0.83884,     0.83984,\n",
       "           0.84084,     0.84184,     0.84284,     0.84384,     0.84484,     0.84585,     0.84685,     0.84785,     0.84885,     0.84985,     0.85085,     0.85185,     0.85285,     0.85385,     0.85485,     0.85586,     0.85686,     0.85786,     0.85886,     0.85986,     0.86086,     0.86186,     0.86286,     0.86386,\n",
       "           0.86486,     0.86587,     0.86687,     0.86787,     0.86887,     0.86987,     0.87087,     0.87187,     0.87287,     0.87387,     0.87487,     0.87588,     0.87688,     0.87788,     0.87888,     0.87988,     0.88088,     0.88188,     0.88288,     0.88388,     0.88488,     0.88589,     0.88689,     0.88789,\n",
       "           0.88889,     0.88989,     0.89089,     0.89189,     0.89289,     0.89389,     0.89489,      0.8959,      0.8969,      0.8979,      0.8989,      0.8999,      0.9009,      0.9019,      0.9029,      0.9039,      0.9049,     0.90591,     0.90691,     0.90791,     0.90891,     0.90991,     0.91091,     0.91191,\n",
       "           0.91291,     0.91391,     0.91491,     0.91592,     0.91692,     0.91792,     0.91892,     0.91992,     0.92092,     0.92192,     0.92292,     0.92392,     0.92492,     0.92593,     0.92693,     0.92793,     0.92893,     0.92993,     0.93093,     0.93193,     0.93293,     0.93393,     0.93493,     0.93594,\n",
       "           0.93694,     0.93794,     0.93894,     0.93994,     0.94094,     0.94194,     0.94294,     0.94394,     0.94494,     0.94595,     0.94695,     0.94795,     0.94895,     0.94995,     0.95095,     0.95195,     0.95295,     0.95395,     0.95495,     0.95596,     0.95696,     0.95796,     0.95896,     0.95996,\n",
       "           0.96096,     0.96196,     0.96296,     0.96396,     0.96496,     0.96597,     0.96697,     0.96797,     0.96897,     0.96997,     0.97097,     0.97197,     0.97297,     0.97397,     0.97497,     0.97598,     0.97698,     0.97798,     0.97898,     0.97998,     0.98098,     0.98198,     0.98298,     0.98398,\n",
       "           0.98498,     0.98599,     0.98699,     0.98799,     0.98899,     0.98999,     0.99099,     0.99199,     0.99299,     0.99399,     0.99499,       0.996,       0.997,       0.998,       0.999,           1]), array([[          1,           1,           1,           1,           1,           1,           1,           1,           1,           1,           1,           1,           1,           1,           1,           1,           1,           1,           1,           1,           1,           1,           1,\n",
       "                  1,           1,           1,           1,           1,           1,           1,           1,           1,           1,           1,           1,           1,           1,           1,           1,           1,           1,           1,           1,           1,           1,           1,\n",
       "                  1,           1,           1,           1,           1,           1,           1,           1,           1,           1,           1,           1,           1,           1,           1,           1,           1,           1,           1,           1,           1,           1,           1,\n",
       "                  1,           1,           1,           1,           1,           1,           1,           1,           1,           1,           1,           1,           1,           1,           1,           1,           1,           1,           1,           1,           1,           1,           1,\n",
       "                  1,           1,           1,           1,           1,           1,           1,           1,           1,           1,           1,           1,           1,           1,           1,           1,           1,           1,           1,           1,           1,           1,           1,\n",
       "                  1,           1,           1,           1,           1,           1,           1,           1,           1,           1,           1,           1,           1,           1,           1,           1,           1,           1,           1,           1,           1,           1,           1,\n",
       "                  1,           1,           1,           1,           1,           1,           1,           1,           1,           1,           1,           1,           1,           1,           1,           1,           1,           1,           1,           1,           1,           1,           1,\n",
       "                  1,           1,           1,           1,           1,           1,           1,           1,           1,           1,           1,           1,           1,           1,           1,           1,           1,           1,           1,           1,           1,           1,           1,\n",
       "                  1,           1,           1,           1,           1,           1,           1,           1,           1,           1,           1,           1,           1,           1,           1,           1,           1,           1,           1,           1,           1,           1,           1,\n",
       "                  1,           1,           1,           1,           1,           1,           1,           1,           1,           1,           1,           1,           1,           1,           1,           1,           1,           1,           1,           1,           1,           1,           1,\n",
       "                  1,           1,           1,           1,           1,           1,           1,           1,           1,           1,           1,           1,           1,           1,           1,           1,           1,           1,           1,           1,           1,           1,           1,\n",
       "                  1,           1,           1,           1,           1,           1,           1,           1,           1,           1,           1,           1,           1,           1,           1,           1,           1,           1,           1,           1,           1,           1,           1,\n",
       "                  1,           1,           1,           1,           1,           1,           1,           1,           1,           1,           1,           1,           1,           1,           1,           1,           1,           1,           1,           1,           1,           1,           1,\n",
       "                  1,           1,           1,           1,           1,           1,           1,           1,           1,           1,           1,           1,           1,           1,           1,           1,           1,           1,           1,           1,           1,           1,           1,\n",
       "                  1,           1,           1,           1,           1,           1,           1,           1,           1,           1,           1,           1,           1,           1,           1,           1,           1,           1,           1,           1,           1,           1,           1,\n",
       "                  1,           1,           1,           1,           1,           1,           1,           1,           1,           1,           1,           1,           1,           1,           1,           1,           1,           1,           1,           1,           1,           1,           1,\n",
       "                  1,           1,           1,           1,           1,           1,           1,           1,           1,           1,           1,           1,           1,           1,           1,           1,           1,           1,           1,           1,           1,           1,           1,\n",
       "                  1,           1,           1,           1,           1,           1,           1,           1,           1,           1,           1,           1,           1,           1,           1,           1,           1,           1,           1,           1,           1,           1,           1,\n",
       "                  1,           1,           1,           1,           1,           1,           1,           1,           1,           1,           1,           1,           1,           1,           1,           1,           1,           1,           1,           1,           1,           1,           1,\n",
       "                  1,           1,           1,           1,           1,           1,           1,           1,           1,           1,           1,           1,           1,           1,           1,           1,           1,           1,           1,           1,           1,           1,           1,\n",
       "                  1,           1,           1,           1,           1,           1,           1,           1,           1,           1,           1,           1,           1,           1,           1,           1,           1,           1,           1,           1,           1,           1,           1,\n",
       "                  1,           1,           1,           1,           1,           1,           1,           1,           1,           1,           1,           1,           1,           1,           1,           1,           1,           1,           1,           1,           1,           1,           1,\n",
       "                  1,           1,           1,           1,           1,           1,           1,           1,           1,           1,           1,           1,           1,           1,           1,           1,           1,           1,           1,           1,           1,           1,           1,\n",
       "                  1,           1,           1,           1,           1,           1,           1,           1,           1,           1,           1,           1,           1,           1,           1,           1,           1,           1,           1,           1,           1,           1,           1,\n",
       "                  1,           1,           1,           1,           1,           1,           1,           1,           1,           1,           1,           1,           1,           1,           1,           1,           1,           1,           1,           1,           1,           1,           1,\n",
       "                  1,           1,           1,           1,           1,           1,           1,           1,           1,           1,           1,           1,           1,           1,           1,           1,           1,           1,           1,           1,           1,           1,           1,\n",
       "                  1,           1,           1,           1,           1,           1,           1,           1,           1,           1,           1,           1,           1,           1,           1,           1,           1,           1,           1,           1,           1,           1,           1,\n",
       "                  1,           1,           1,           1,           1,           1,           1,           1,           1,           1,           1,           1,           1,           1,           1,           1,           1,           1,           1,           1,           1,           1,           1,\n",
       "                  1,           1,           1,           1,           1,           1,           1,           1,           1,           1,           1,           1,           1,           1,           1,           1,           1,           1,           1,           1,           1,           1,           1,\n",
       "                  1,           1,           1,           1,           1,           1,           1,           1,           1,           1,           1,           1,           1,           1,           1,           1,           1,           1,           1,           1,           1,           1,           1,\n",
       "                  1,           1,           1,           1,           1,           1,           1,           1,           1,           1,           1,           1,           1,           1,           1,           1,           1,           1,           1,           1,           1,           1,           1,\n",
       "                  1,           1,           1,           1,           1,           1,           1,           1,           1,           1,           1,           1,           1,           1,           1,           1,           1,           1,           1,           1,           1,           1,           1,\n",
       "                  1,           1,           1,           1,           1,           1,           1,           1,           1,           1,           1,           1,           1,           1,           1,           1,           1,           1,           1,           1,           1,           1,           1,\n",
       "                  1,           1,           1,           1,           1,           1,           1,           1,           1,           1,           1,           1,           1,           1,           1,           1,           1,           1,           1,           1,           1,           1,           1,\n",
       "                  1,           1,           1,           1,           1,           1,           1,           1,           1,           1,           1,           1,           1,           1,           1,           1,           1,           1,           1,           1,           1,           1,           1,\n",
       "                  1,           1,           1,           1,           1,           1,           1,           1,           1,           1,           1,           1,           1,           1,           1,           1,           1,           1,           1,           1,           1,           1,           1,\n",
       "                  1,           1,           1,           1,           1,           1,           1,           1,           1,           1,           1,           1,           1,           1,           1,           1,           1,           1,           1,           1,           1,           1,           1,\n",
       "                  1,           1,           1,           1,           1,           1,           1,           1,           1,           1,           1,           1,           1,           1,           1,           1,           1,           1,           1,           1,           1,           1,           1,\n",
       "                  1,           1,           1,           1,           1,           1,           1,           1,           1,           1,           1,           1,           1,           1,           1,           1,           1,           1,           1,           1,           1,           1,           1,\n",
       "                  1,           1,           1,           1,           1,           1,           1,           1,           1,           1,           1,           1,           1,           1,           1,           1,           1,           1,           1,           1,           1,           1,           1,\n",
       "                  1,           1,           1,           1,           1,           1,           1,           1,           1,           1,           1,           1,           1,           1,           1,           1,           1,           1,           1,           1,           1,           1,           1,\n",
       "                  1,           1,           1,           1,           1,           1,           1,           1,           1,           1,           1,           1,           1,           1,           1,           1,           1,           1,           1,           1,           1,           1,           1,\n",
       "                  1,           1,           1,           1,           1,           1,           1,           1,           1,           1,           1,           1,           1,           1,           1,           1,           1,           1,           1,           1,           1,           1,           1,\n",
       "                  1,     0.99346,     0.95805,     0.84619,     0.53475,     0.24443,    0.058677,           0,           0,           0,           0]]), 'Confidence', 'Recall']]\n",
       "fitness: np.float64(0.995)\n",
       "keys: ['metrics/precision(B)', 'metrics/recall(B)', 'metrics/mAP50(B)', 'metrics/mAP50-95(B)']\n",
       "maps: array([      0.995])\n",
       "names: {0: 'ripe'}\n",
       "plot: True\n",
       "results_dict: {'metrics/precision(B)': np.float64(0.9994532246622264), 'metrics/recall(B)': np.float64(1.0), 'metrics/mAP50(B)': np.float64(0.995), 'metrics/mAP50-95(B)': np.float64(0.9949999999999999), 'fitness': np.float64(0.995)}\n",
       "save_dir: WindowsPath('runs/train/ripe_only')\n",
       "speed: {'preprocess': 1.8147989246626235, 'inference': 210.16726236566976, 'loss': 4.516116478630612e-05, 'postprocess': 0.7560311826646968}\n",
       "task: 'detect'"
      ]
     },
     "execution_count": 7,
     "metadata": {},
     "output_type": "execute_result"
    }
   ],
   "source": [
    "import sys\n",
    "!{sys.executable} -m pip install ultralytics\n",
    "\n",
    "from ultralytics import YOLO\n",
    "model = YOLO('yolov8n.pt')             # oder yolov8s.pt, -m.pt etc.\n",
    "model.train(\n",
    "    data='data.yaml',                  # deine Konfig\n",
    "    epochs=50,                         # je nach Bedarf , 25 reichen (1h)\n",
    "    imgsz=640,\n",
    "    batch=16,\n",
    "    augment=True,\n",
    "    project='runs/train',              # Ausgabeordner\n",
    "    name='ripe_only'                   # Lauf-Name\n",
    ")\n"
   ]
  },
  {
   "cell_type": "code",
   "execution_count": null,
   "id": "36a836e0",
   "metadata": {},
   "outputs": [],
   "source": []
  }
 ],
 "metadata": {
  "kernelspec": {
   "display_name": "Erdbeerenv",
   "language": "python",
   "name": "python3"
  },
  "language_info": {
   "codemirror_mode": {
    "name": "ipython",
    "version": 3
   },
   "file_extension": ".py",
   "mimetype": "text/x-python",
   "name": "python",
   "nbconvert_exporter": "python",
   "pygments_lexer": "ipython3",
   "version": "3.13.3"
  }
 },
 "nbformat": 4,
 "nbformat_minor": 5
}
