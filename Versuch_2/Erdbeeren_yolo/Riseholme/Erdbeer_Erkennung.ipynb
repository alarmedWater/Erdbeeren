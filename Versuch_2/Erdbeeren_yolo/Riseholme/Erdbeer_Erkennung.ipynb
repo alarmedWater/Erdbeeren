{
 "cells": [
  {
   "cell_type": "code",
   "execution_count": null,
   "id": "c3e40ba4",
   "metadata": {},
   "outputs": [],
   "source": [
    "from ultralytics import YOLO\n",
    "\n",
    "# Fertig trainiertes Modell laden\n",
    "model = YOLO('runs/train/ripe_only/weights/best.pt')\n"
   ]
  },
  {
   "cell_type": "code",
   "execution_count": null,
   "id": "5b0554b5",
   "metadata": {},
   "outputs": [],
   "source": [
    "from pathlib import Path\n",
    "\n",
    "# Ordner mit neuen Bildern\n",
    "new_image_dir = BASE_DIR / 'Data' / 'NewImages'\n",
    "output_dir = BASE_DIR / 'detections'\n",
    "output_dir.mkdir(parents=True, exist_ok=True)\n",
    "\n",
    "# Alle Bilder durchgehen und Vorhersagen machen\n",
    "for img_path in new_image_dir.glob('*.jpg'):\n",
    "    results = model.predict(\n",
    "        source=str(img_path),\n",
    "        save=True,                  # Ergebnisse und Bilder abspeichern\n",
    "        project=str(output_dir),     # Wohin speichern\n",
    "        name=img_path.stem,          # Ordnername = Bildname\n",
    "        exist_ok=True                # Falls Ordner schon existiert\n",
    "    )\n",
    "\n",
    "print(f\"✅ Alle Bilder wurden verarbeitet und Vorhersagen gespeichert unter {output_dir}\")\n"
   ]
  },
  {
   "cell_type": "code",
   "execution_count": null,
   "id": "cfd07fcd",
   "metadata": {},
   "outputs": [],
   "source": []
  }
 ],
 "metadata": {
  "language_info": {
   "name": "python"
  }
 },
 "nbformat": 4,
 "nbformat_minor": 5
}
