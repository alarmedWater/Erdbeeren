{
 "cells": [
  {
   "cell_type": "code",
   "execution_count": 2,
   "metadata": {},
   "outputs": [
    {
     "name": "stdout",
     "output_type": "stream",
     "text": [
      "Trainingsordner '..\\Erdbeeren\\train_images' existiert bereits und ist nicht leer. Das Skript wird abgebrochen.\n"
     ]
    }
   ],
   "source": [
    "import os\n",
    "import shutil\n",
    "import random\n",
    "\n",
    "def create_split(image_folder, train_image_folder, val_image_folder):\n",
    "    # Prüfen, ob die Zielordner existieren oder leer sind\n",
    "    if not os.path.exists(train_image_folder) or not os.listdir(train_image_folder):\n",
    "        os.makedirs(train_image_folder, exist_ok=True)\n",
    "    else:\n",
    "        print(f\"Trainingsordner '{train_image_folder}' existiert bereits und ist nicht leer. Das Skript wird abgebrochen.\")\n",
    "        return\n",
    "\n",
    "    if not os.path.exists(val_image_folder) or not os.listdir(val_image_folder):\n",
    "        os.makedirs(val_image_folder, exist_ok=True)\n",
    "    else:\n",
    "        print(f\"Validierungsordner '{val_image_folder}' existiert bereits und ist nicht leer. Das Skript wird abgebrochen.\")\n",
    "        return\n",
    "\n",
    "    # Hole die Liste der Bilddateien im Quellordner\n",
    "    image_files = [f for f in os.listdir(image_folder) if f.endswith(('.jpg', '.png'))]\n",
    "\n",
    "    # Vergewissere dich, dass es tatsächlich Bilder gibt\n",
    "    if len(image_files) == 0:\n",
    "        print(\"Es gibt keine Bilddateien im Quellordner. Das Skript wird abgebrochen.\")\n",
    "        return\n",
    "\n",
    "    # Zufällige Auswahl von 70% für Training und 30% für Validierung\n",
    "    random.shuffle(image_files)\n",
    "\n",
    "    split_index = int(0.7 * len(image_files))\n",
    "    train_images = image_files[:split_index]\n",
    "    val_images = image_files[split_index:]\n",
    "\n",
    "    # Kopiere die Bilder in die entsprechenden Ordner\n",
    "    for img in train_images:\n",
    "        shutil.copy(os.path.join(image_folder, img), os.path.join(train_image_folder, img))\n",
    "\n",
    "    for img in val_images:\n",
    "        shutil.copy(os.path.join(image_folder, img), os.path.join(val_image_folder, img))\n",
    "\n",
    "    print(f\"Datensatz erfolgreich aufgeteilt: {len(train_images)} Bilder für Training, {len(val_images)} Bilder für Validierung.\")\n",
    "\n",
    "# Beispiel: Definiere deine Pfade\n",
    "image_folder = \"..\\\\Riseholme-2021\\\\Data\\\\Normal\\\\Ripe\"\n",
    "train_image_folder = \"..\\\\Erdbeeren\\\\train_images\"\n",
    "val_image_folder = \"..\\\\Erdbeeren\\\\train_images\\\\val_images\"\n",
    "\n",
    "# Führe die Funktion aus\n",
    "create_split(image_folder, train_image_folder, val_image_folder)\n"
   ]
  }
 ],
 "metadata": {
  "kernelspec": {
   "display_name": "base",
   "language": "python",
   "name": "python3"
  },
  "language_info": {
   "codemirror_mode": {
    "name": "ipython",
    "version": 3
   },
   "file_extension": ".py",
   "mimetype": "text/x-python",
   "name": "python",
   "nbconvert_exporter": "python",
   "pygments_lexer": "ipython3",
   "version": "3.12.4"
  }
 },
 "nbformat": 4,
 "nbformat_minor": 2
}
