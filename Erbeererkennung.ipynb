{
 "cells": [
  {
   "cell_type": "code",
   "execution_count": null,
   "metadata": {},
   "outputs": [],
   "source": [
    "import os\n",
    "import shutil\n",
    "import random\n",
    "\n"
   ]
  },
  {
   "cell_type": "code",
   "execution_count": null,
   "metadata": {},
   "outputs": [],
   "source": [
    "C:\\Users\\Maxi\\Documents\\Forschsem\\Riseholme-2021\\Data\\Normal\\Ripe"
   ]
  },
  {
   "cell_type": "code",
   "execution_count": null,
   "metadata": {},
   "outputs": [],
   "source": [
    "def create_split(image_folder, train_image_folder, val_image_folder, train_label_folder, val_label_folder):\n",
    "    # Prüfen, ob die Zielordner existieren oder leer sind\n",
    "    if not os.path.exists(train_image_folder) or not os.listdir(train_image_folder):\n",
    "        os.makedirs(train_image_folder, exist_ok=True)\n",
    "    else:\n",
    "        print(f\"Trainingsordner '{train_image_folder}' existiert bereits und ist nicht leer. Das Skript wird abgebrochen.\")\n",
    "        return\n",
    "\n",
    "    if not os.path.exists(val_image_folder) or not os.listdir(val_image_folder):\n",
    "        os.makedirs(val_image_folder, exist_ok=True)\n",
    "    else:\n",
    "        print(f\"Testordner '{val_image_folder}' existiert bereits und ist nicht leer. Das Skript wird abgebrochen.\")\n",
    "        return\n",
    "\n",
    "    # Auch für die Label-Ordner überprüfen\n",
    "    if not os.path.exists(train_label_folder) or not os.listdir(train_label_folder):\n",
    "        os.makedirs(train_label_folder, exist_ok=True)\n",
    "    else:\n",
    "        print(f\"Trainingslabel-Ordner '{train_label_folder}' existiert bereits und ist nicht leer. Das Skript wird abgebrochen.\")\n",
    "        return\n",
    "\n",
    "    if not os.path.exists(val_label_folder) or not os.listdir(val_label_folder):\n",
    "        os.makedirs(val_label_folder, exist_ok=True)\n",
    "    else:\n",
    "        print(f\"Testlabel-Ordner '{val_label_folder}' existiert bereits und ist nicht leer. Das Skript wird abgebrochen.\")\n",
    "        return\n",
    "\n",
    "    # Hole die Liste der Bilddateien im Quellordner\n",
    "    image_files = [f for f in os.listdir(image_folder) if f.endswith(('.jpg', '.png'))]\n",
    "\n",
    "    # Vergewissere dich, dass es tatsächlich Bilder gibt\n",
    "    if len(image_files) == 0:\n",
    "        print(\"Es gibt keine Bilddateien im Quellordner. Das Skript wird abgebrochen.\")\n",
    "        return\n",
    "\n",
    "    # Zufällige Auswahl von 70% für Training und 30% für Test\n",
    "    random.shuffle(image_files)\n",
    "\n",
    "    # Berechne die Aufteilung (70% Training, 30% Test)\n",
    "    split_index = int(0.7 * len(image_files))\n",
    "    train_images = image_files[:split_index]\n",
    "    val_images = image_files[split_index:]\n",
    "\n",
    "    # Kopiere die Bilder und Label-Dateien in die entsprechenden Ordner\n",
    "    for img in train_images:\n",
    "        # Kopiere das Bild\n",
    "        shutil.copy(os.path.join(image_folder, img), os.path.join(train_image_folder, img))\n",
    "        # Kopiere die zugehörige Label-Datei\n",
    "        label_file = img.replace('.jpg', '.txt').replace('.png', '.txt')\n",
    "        shutil.copy(os.path.join(image_folder.replace(\"images\", \"labels\"), label_file), os.path.join(train_label_folder, label_file))\n",
    "\n",
    "    for img in val_images:\n",
    "        # Kopiere das Bild\n",
    "        shutil.copy(os.path.join(image_folder, img), os.path.join(val_image_folder, img))\n",
    "        # Kopiere die zugehörige Label-Datei\n",
    "        label_file = img.replace('.jpg', '.txt').replace('.png', '.txt')\n",
    "        shutil.copy(os.path.join(image_folder.replace(\"images\", \"labels\"), label_file), os.path.join(val_label_folder, label_file))\n",
    "\n",
    "    print(f\"Datensatz erfolgreich aufgeteilt: {len(train_images)} Bilder für Training, {len(val_images)} Bilder für Validierung.\")\n",
    "\n",
    "# Beispiel: Definiere deine Pfade\n",
    "image_folder = \"/path/to/your/images\"  # Pfad zu den Bilddateien\n",
    "train_image_folder = \"/path/to/your/train_images\"\n",
    "val_image_folder = \"/path/to/your/val_images\"\n",
    "train_label_folder = \"/path/to/your/train_labels\"\n",
    "val_label_folder = \"/path/to/your/val_labels\"\n",
    "\n",
    "# Führe die Funktion aus, um den Datensatz zu teilen\n",
    "create_split(image_folder, train_image_folder, val_image_folder, train_label_folder, val_label_folder)\n"
   ]
  }
 ],
 "metadata": {
  "kernelspec": {
   "display_name": "Python 3",
   "language": "python",
   "name": "python3"
  },
  "language_info": {
   "name": "python",
   "version": "3.10.12"
  }
 },
 "nbformat": 4,
 "nbformat_minor": 2
}
