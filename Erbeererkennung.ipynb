{
 "cells": [
  {
   "cell_type": "code",
   "execution_count": null,
   "metadata": {},
   "outputs": [
    {
     "ename": "ModuleNotFoundError",
     "evalue": "No module named 'PIL'",
     "output_type": "error",
     "traceback": [
      "\u001b[31m---------------------------------------------------------------------------\u001b[39m",
      "\u001b[31mModuleNotFoundError\u001b[39m                       Traceback (most recent call last)",
      "\u001b[36mCell\u001b[39m\u001b[36m \u001b[39m\u001b[32mIn[1]\u001b[39m\u001b[32m, line 4\u001b[39m\n\u001b[32m      2\u001b[39m \u001b[38;5;28;01mimport\u001b[39;00m\u001b[38;5;250m \u001b[39m\u001b[34;01mshutil\u001b[39;00m\n\u001b[32m      3\u001b[39m \u001b[38;5;28;01mimport\u001b[39;00m\u001b[38;5;250m \u001b[39m\u001b[34;01mrandom\u001b[39;00m\n\u001b[32m----> \u001b[39m\u001b[32m4\u001b[39m \u001b[38;5;28;01mfrom\u001b[39;00m\u001b[38;5;250m \u001b[39m\u001b[34;01mPIL\u001b[39;00m\u001b[38;5;250m \u001b[39m\u001b[38;5;28;01mimport\u001b[39;00m pi\n",
      "\u001b[31mModuleNotFoundError\u001b[39m: No module named 'PIL'"
     ]
    }
   ],
   "source": [
    "import os\n",
    "import shutil\n",
    "import random\n",
    "from PIL import Image"
   ]
  },
  {
   "cell_type": "code",
   "execution_count": null,
   "metadata": {},
   "outputs": [],
   "source": []
  },
  {
   "cell_type": "code",
   "execution_count": null,
   "metadata": {},
   "outputs": [
    {
     "name": "stdout",
     "output_type": "stream",
     "text": [
      "Datensatz erfolgreich aufgeteilt: 323 Bilder für Training, 139 Bilder für Validierung.\n"
     ]
    }
   ],
   "source": [
    "\n",
    "\n",
    "def create_split(image_folder, train_image_folder, val_image_folder):\n",
    "    # Prüfen, ob die Zielordner existieren oder leer sind\n",
    "    if not os.path.exists(train_image_folder) or not os.listdir(train_image_folder):\n",
    "        os.makedirs(train_image_folder, exist_ok=True)\n",
    "    else:\n",
    "        print(f\"Trainingsordner '{train_image_folder}' existiert bereits und ist nicht leer. Das Skript wird abgebrochen.\")\n",
    "        return\n",
    "\n",
    "    if not os.path.exists(val_image_folder) or not os.listdir(val_image_folder):\n",
    "        os.makedirs(val_image_folder, exist_ok=True)\n",
    "    else:\n",
    "        print(f\"Validierungsordner '{val_image_folder}' existiert bereits und ist nicht leer. Das Skript wird abgebrochen.\")\n",
    "        return\n",
    "\n",
    "    # Hole die Liste der Bilddateien im Quellordner\n",
    "    image_files = [f for f in os.listdir(image_folder) if f.endswith(('.jpg', '.png'))]\n",
    "\n",
    "    # Vergewissere dich, dass es tatsächlich Bilder gibt\n",
    "    if len(image_files) == 0:\n",
    "        print(\"Es gibt keine Bilddateien im Quellordner. Das Skript wird abgebrochen.\")\n",
    "        return\n",
    "\n",
    "    # Zufällige Auswahl von 70% für Training und 30% für Validierung\n",
    "    random.shuffle(image_files)\n",
    "\n",
    "    split_index = int(0.7 * len(image_files))\n",
    "    train_images = image_files[:split_index]\n",
    "    val_images = image_files[split_index:]\n",
    "\n",
    "    # Kopiere die Bilder in die entsprechenden Ordner\n",
    "    for img in train_images:\n",
    "        shutil.copy(os.path.join(image_folder, img), os.path.join(train_image_folder, img))\n",
    "\n",
    "    for img in val_images:\n",
    "        shutil.copy(os.path.join(image_folder, img), os.path.join(val_image_folder, img))\n",
    "\n",
    "    print(f\"Datensatz erfolgreich aufgeteilt: {len(train_images)} Bilder für Training, {len(val_images)} Bilder für Validierung.\")\n",
    "\n",
    "# Beispiel: Definiere deine Pfade\n",
    "image_folder = \"..\\\\Riseholme-2021\\\\Data\\\\Normal\\\\Ripe\"\n",
    "train_image_folder = \"..\\\\Erdbeeren\\\\train_images\"\n",
    "val_image_folder = \"..\\\\Erdbeeren\\\\val_images\"\n",
    "\n",
    "# Führe die Funktion aus\n",
    "create_split(image_folder, train_image_folder, val_image_folder)\n"
   ]
  },
  {
   "cell_type": "code",
   "execution_count": null,
   "metadata": {},
   "outputs": [],
   "source": [
    "def create_yolo_labels(image_folder, label_folder):\n",
    "    \"\"\"\n",
    "    Erstellt YOLO-kompatible Label-Dateien (TXT) für jedes Bild im angegebenen Ordner.\n",
    "    Angenommen wird, dass sich jeweils eine Erdbeere auf dem Bild befindet,\n",
    "    und die Bounding Box das komplette Bild abdeckt oder manuell festgelegt wird.\n",
    "\n",
    "    Parameters:\n",
    "    - image_folder (str): Pfad zu den Bildern\n",
    "    - label_folder (str): Pfad zum Speicherort der Label-Dateien\n",
    "    \"\"\"\n",
    "\n",
    "    if not os.path.exists(label_folder):\n",
    "        os.makedirs(label_folder)\n",
    "\n",
    "    # Alle Dateien im Bildordner durchlaufen\n",
    "    for image_name in os.listdir(image_folder):\n",
    "        if image_name.lower().endswith(('.jpg', '.jpeg', '.png')):\n",
    "            image_path = os.path.join(image_folder, image_name)\n",
    "            image = Image.open(image_path)\n",
    "            width, height = image.size\n",
    "\n",
    "            # Wir nehmen an: eine Erdbeere = ein Objekt, ganze Bildgröße = Bounding Box\n",
    "            # (alternativ könntest du manuell oder mit einem Tool genaue Boxen setzen)\n",
    "\n",
    "            # YOLO erwartet: class x_center y_center width height (alles relativ)\n",
    "            x_center = 0.5\n",
    "            y_center = 0.5\n",
    "            rel_width = 1.0\n",
    "            rel_height = 1.0\n",
    "\n",
    "            label_filename = os.path.splitext(image_name)[0] + '.txt'\n",
    "            label_path = os.path.join(label_folder, label_filename)\n",
    "\n",
    "            with open(label_path, 'w') as f:\n",
    "                f.write(f\"0 {x_center} {y_center} {rel_width} {rel_height}\\n\")\n",
    "\n",
    "            print(f\"[✓] Label geschrieben: {label_path}\")\n"
   ]
  },
  {
   "cell_type": "code",
   "execution_count": null,
   "metadata": {},
   "outputs": [],
   "source": [
    "train_image_folder = \"..\\\\Erdbeeren\\\\train_images\"\n",
    "train_label_folder = \"..\\\\Erdbeeren\\\\train_labels\"\n",
    "\n",
    "val_image_folder = \"..\\\\Erdbeeren\\\\val_images\"\n",
    "val_label_folder = \"..\\\\Erdbeeren\\\\val_labels\"\n",
    "\n",
    "# YOLO-Labeldateien erzeugen\n",
    "create_yolo_labels(train_image_folder, train_label_folder)\n",
    "create_yolo_labels(val_image_folder, val_label_folder)\n"
   ]
  }
 ],
 "metadata": {
  "kernelspec": {
   "display_name": "erdberenv",
   "language": "python",
   "name": "python3"
  },
  "language_info": {
   "codemirror_mode": {
    "name": "ipython",
    "version": 3
   },
   "file_extension": ".py",
   "mimetype": "text/x-python",
   "name": "python",
   "nbconvert_exporter": "python",
   "pygments_lexer": "ipython3",
   "version": "3.13.3"
  }
 },
 "nbformat": 4,
 "nbformat_minor": 2
}
