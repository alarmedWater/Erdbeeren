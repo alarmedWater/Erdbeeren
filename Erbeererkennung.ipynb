{
 "cells": [
  {
   "cell_type": "code",
   "execution_count": null,
   "metadata": {},
   "outputs": [
    {
     "ename": "ModuleNotFoundError",
     "evalue": "No module named 'PIL'",
     "output_type": "error",
     "traceback": [
      "\u001b[31m---------------------------------------------------------------------------\u001b[39m",
      "\u001b[31mModuleNotFoundError\u001b[39m                       Traceback (most recent call last)",
      "\u001b[36mCell\u001b[39m\u001b[36m \u001b[39m\u001b[32mIn[1]\u001b[39m\u001b[32m, line 4\u001b[39m\n\u001b[32m      2\u001b[39m \u001b[38;5;28;01mimport\u001b[39;00m\u001b[38;5;250m \u001b[39m\u001b[34;01mshutil\u001b[39;00m\n\u001b[32m      3\u001b[39m \u001b[38;5;28;01mimport\u001b[39;00m\u001b[38;5;250m \u001b[39m\u001b[34;01mrandom\u001b[39;00m\n\u001b[32m----> \u001b[39m\u001b[32m4\u001b[39m \u001b[38;5;28;01mfrom\u001b[39;00m\u001b[38;5;250m \u001b[39m\u001b[34;01mPIL\u001b[39;00m\u001b[38;5;250m \u001b[39m\u001b[38;5;28;01mimport\u001b[39;00m pi\n",
      "\u001b[31mModuleNotFoundError\u001b[39m: No module named 'PIL'"
     ]
    }
   ],
   "source": [
    "import os\n",
    "import shutil\n",
    "import random\n",
    "from PIL import piimport os\n",
    "from PIL import Image"
   ]
  },
  {
   "cell_type": "code",
   "execution_count": null,
   "metadata": {},
   "outputs": [],
   "source": []
  },
  {
   "cell_type": "code",
   "execution_count": null,
   "metadata": {},
   "outputs": [
    {
     "name": "stdout",
     "output_type": "stream",
     "text": [
      "Datensatz erfolgreich aufgeteilt: 323 Bilder für Training, 139 Bilder für Validierung.\n"
     ]
    }
   ],
   "source": [
    "\n",
    "\n",
    "def create_split(image_folder, train_image_folder, val_image_folder):\n",
    "    # Prüfen, ob die Zielordner existieren oder leer sind\n",
    "    if not os.path.exists(train_image_folder) or not os.listdir(train_image_folder):\n",
    "        os.makedirs(train_image_folder, exist_ok=True)\n",
    "    else:\n",
    "        print(f\"Trainingsordner '{train_image_folder}' existiert bereits und ist nicht leer. Das Skript wird abgebrochen.\")\n",
    "        return\n",
    "\n",
    "    if not os.path.exists(val_image_folder) or not os.listdir(val_image_folder):\n",
    "        os.makedirs(val_image_folder, exist_ok=True)\n",
    "    else:\n",
    "        print(f\"Validierungsordner '{val_image_folder}' existiert bereits und ist nicht leer. Das Skript wird abgebrochen.\")\n",
    "        return\n",
    "\n",
    "    # Hole die Liste der Bilddateien im Quellordner\n",
    "    image_files = [f for f in os.listdir(image_folder) if f.endswith(('.jpg', '.png'))]\n",
    "\n",
    "    # Vergewissere dich, dass es tatsächlich Bilder gibt\n",
    "    if len(image_files) == 0:\n",
    "        print(\"Es gibt keine Bilddateien im Quellordner. Das Skript wird abgebrochen.\")\n",
    "        return\n",
    "\n",
    "    # Zufällige Auswahl von 70% für Training und 30% für Validierung\n",
    "    random.shuffle(image_files)\n",
    "\n",
    "    split_index = int(0.7 * len(image_files))\n",
    "    train_images = image_files[:split_index]\n",
    "    val_images = image_files[split_index:]\n",
    "\n",
    "    # Kopiere die Bilder in die entsprechenden Ordner\n",
    "    for img in train_images:\n",
    "        shutil.copy(os.path.join(image_folder, img), os.path.join(train_image_folder, img))\n",
    "\n",
    "    for img in val_images:\n",
    "        shutil.copy(os.path.join(image_folder, img), os.path.join(val_image_folder, img))\n",
    "\n",
    "    print(f\"Datensatz erfolgreich aufgeteilt: {len(train_images)} Bilder für Training, {len(val_images)} Bilder für Validierung.\")\n",
    "\n",
    "# Beispiel: Definiere deine Pfade\n",
    "image_folder = \"..\\\\Riseholme-2021\\\\Data\\\\Normal\\\\Ripe\"\n",
    "train_image_folder = \"..\\\\Erdbeeren\\\\train_images\"\n",
    "val_image_folder = \"..\\\\Erdbeeren\\\\val_images\"\n",
    "\n",
    "# Führe die Funktion aus\n",
    "create_split(image_folder, train_image_folder, val_image_folder)\n"
   ]
  },
  {
   "cell_type": "code",
   "execution_count": null,
   "metadata": {},
   "outputs": [],
   "source": [
    "\n",
    "\n",
    "def create_yolo_labels(image_folder, label_folder):\n",
    "    \"\"\"\n",
    "    Erstellt YOLO-Label-Dateien für jedes Bild im angegebenen Ordner.\n",
    "    - Annahme: Jede Erdbeere ist eine Klasse 0.\n",
    "    - Die Bounding Boxes liegen am Rand der Bilder.\n",
    "\n",
    "    :param image_folder: Pfad zum Ordner mit den Bildern\n",
    "    :param label_folder: Pfad zum Ordner, in dem die Label-Dateien gespeichert werden\n",
    "    \"\"\"\n",
    "    if not os.path.exists(label_folder):\n",
    "        os.makedirs(label_folder)\n",
    "\n",
    "    # Alle Bilder im angegebenen Ordner durchlaufen\n",
    "    for image_name in os.listdir(image_folder):\n",
    "        if image_name.endswith(('.jpg', '.png', '.jpeg')):  # Unterstützte Bildformate\n",
    "            image_path = os.path.join(image_folder, image_name)\n",
    "            image = Image.open(image_path)\n",
    "            width, height = image.size  # Bildbreite und -höhe\n",
    "\n",
    "            # Label-Datei im YOLO-Format erstellen\n",
    "            label_filename = os.path.splitext(image_name)[0] + '.txt'\n",
    "            label_path = os.path.join(label_folder, label_filename)\n",
    "\n",
    "            # YOLO-Format erfordert relative Koordinaten (normalisiert)\n",
    "            # In diesem Fall nehmen wir an, dass Erdbeeren die gesamte Randbereich des Bildes abdecken.\n",
    "            \n",
    "            # Beispiel: 4 Bounding Boxen für die Ränder des Bildes\n",
    "            bounding_boxes = [\n",
    "                (0, 0, width / 2, height / 2),  # Oben links\n",
    "                (width / 2, 0, width / 2, height / 2),  # Oben rechts\n",
    "                (0, height / 2, width / 2, height / 2),  # Unten links\n",
    "                (width / 2, height / 2, width / 2, height / 2)  # Unten rechts\n",
    "            ]\n",
    "\n",
    "            # Alle Bounding Boxes in YOLO-Format umwandeln und speichern\n",
    "            with open(label_path, 'w') as label_file:\n",
    "                for box in bounding_boxes:\n",
    "                    x_center = (box[0] + box[2] / 2) / width\n",
    "                    y_center = (box[1] + box[3] / 2) / height\n",
    "                    box_width = box[2] / width\n",
    "                    box_height = box[3] / height\n",
    "\n",
    "                    # Klasse 0 für Erdbeeren\n",
    "                    label_file.write(f\"0 {x_center} {y_center} {box_width} {box_height}\\n\")\n",
    "            \n",
    "            print(f\"Label für {image_name} erstellt.\")\n",
    "\n",
    "# Beispielaufruf der Funktion\n",
    "create_yolo_labels('path/to/images', 'path/to/labels')\n"
   ]
  }
 ],
 "metadata": {
  "kernelspec": {
   "display_name": "erdberenv",
   "language": "python",
   "name": "python3"
  },
  "language_info": {
   "codemirror_mode": {
    "name": "ipython",
    "version": 3
   },
   "file_extension": ".py",
   "mimetype": "text/x-python",
   "name": "python",
   "nbconvert_exporter": "python",
   "pygments_lexer": "ipython3",
   "version": "undefined.undefined.undefined"
  }
 },
 "nbformat": 4,
 "nbformat_minor": 2
}
